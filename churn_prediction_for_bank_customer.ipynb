{
  "cells": [
    {
      "cell_type": "markdown",
      "id": "bb7b5297",
      "metadata": {
        "papermill": {
          "duration": 0.149353,
          "end_time": "2022-03-13T16:33:15.972259",
          "exception": false,
          "start_time": "2022-03-13T16:33:15.822906",
          "status": "completed"
        },
        "tags": [],
        "id": "bb7b5297"
      },
      "source": [
        "___\n",
        "\n",
        "<p style=\"text-align: center;\"><img src=\"https://docs.google.com/uc?id=1lY0Uj5R04yMY3-ZppPWxqCr5pvBLYPnV\" class=\"img-fluid\" alt=\"CLRSWY\"></p>\n",
        "\n",
        "___"
      ]
    },
    {
      "cell_type": "markdown",
      "id": "daac7f6c",
      "metadata": {
        "papermill": {
          "duration": 0.08049,
          "end_time": "2022-03-13T16:33:16.150241",
          "exception": false,
          "start_time": "2022-03-13T16:33:16.069751",
          "status": "completed"
        },
        "tags": [],
        "id": "daac7f6c"
      },
      "source": [
        "<h1 style=\"text-align: center;\">Deep Learning<br><br>Assignment-1 (ANN)<br><br>Churn Prediction for Bank Customer<br><h1>"
      ]
    },
    {
      "cell_type": "markdown",
      "id": "7b5153da",
      "metadata": {
        "cell_style": "center",
        "papermill": {
          "duration": 0.079124,
          "end_time": "2022-03-13T16:33:16.795090",
          "exception": false,
          "start_time": "2022-03-13T16:33:16.715966",
          "status": "completed"
        },
        "tags": [],
        "id": "7b5153da"
      },
      "source": [
        "## Import  libraries & data"
      ]
    },
    {
      "cell_type": "code",
      "execution_count": 7,
      "id": "bf3892e7",
      "metadata": {
        "cell_style": "center",
        "execution": {
          "iopub.execute_input": "2022-03-13T16:33:18.131665Z",
          "iopub.status.busy": "2022-03-13T16:33:18.130839Z",
          "iopub.status.idle": "2022-03-13T16:33:23.926896Z",
          "shell.execute_reply": "2022-03-13T16:33:23.925653Z",
          "shell.execute_reply.started": "2022-03-13T16:21:21.027408Z"
        },
        "id": "bf3892e7",
        "papermill": {
          "duration": 5.881957,
          "end_time": "2022-03-13T16:33:23.927046",
          "exception": false,
          "start_time": "2022-03-13T16:33:18.045089",
          "status": "completed"
        },
        "tags": [],
        "colab": {
          "base_uri": "https://localhost:8080/"
        },
        "outputId": "6cb8a76a-a680-4007-f048-8408969c0f8a"
      },
      "outputs": [
        {
          "output_type": "stream",
          "name": "stdout",
          "text": [
            "Requirement already satisfied: scikeras in /usr/local/lib/python3.10/dist-packages (0.12.0)\n",
            "Requirement already satisfied: packaging>=0.21 in /usr/local/lib/python3.10/dist-packages (from scikeras) (23.2)\n",
            "Requirement already satisfied: scikit-learn>=1.0.0 in /usr/local/lib/python3.10/dist-packages (from scikeras) (1.2.2)\n",
            "Requirement already satisfied: numpy>=1.17.3 in /usr/local/lib/python3.10/dist-packages (from scikit-learn>=1.0.0->scikeras) (1.23.5)\n",
            "Requirement already satisfied: scipy>=1.3.2 in /usr/local/lib/python3.10/dist-packages (from scikit-learn>=1.0.0->scikeras) (1.11.3)\n",
            "Requirement already satisfied: joblib>=1.1.1 in /usr/local/lib/python3.10/dist-packages (from scikit-learn>=1.0.0->scikeras) (1.3.2)\n",
            "Requirement already satisfied: threadpoolctl>=2.0.0 in /usr/local/lib/python3.10/dist-packages (from scikit-learn>=1.0.0->scikeras) (3.2.0)\n",
            "Requirement already satisfied: tensorflow in /usr/local/lib/python3.10/dist-packages (2.14.0)\n",
            "Requirement already satisfied: absl-py>=1.0.0 in /usr/local/lib/python3.10/dist-packages (from tensorflow) (1.4.0)\n",
            "Requirement already satisfied: astunparse>=1.6.0 in /usr/local/lib/python3.10/dist-packages (from tensorflow) (1.6.3)\n",
            "Requirement already satisfied: flatbuffers>=23.5.26 in /usr/local/lib/python3.10/dist-packages (from tensorflow) (23.5.26)\n",
            "Requirement already satisfied: gast!=0.5.0,!=0.5.1,!=0.5.2,>=0.2.1 in /usr/local/lib/python3.10/dist-packages (from tensorflow) (0.5.4)\n",
            "Requirement already satisfied: google-pasta>=0.1.1 in /usr/local/lib/python3.10/dist-packages (from tensorflow) (0.2.0)\n",
            "Requirement already satisfied: h5py>=2.9.0 in /usr/local/lib/python3.10/dist-packages (from tensorflow) (3.9.0)\n",
            "Requirement already satisfied: libclang>=13.0.0 in /usr/local/lib/python3.10/dist-packages (from tensorflow) (16.0.6)\n",
            "Requirement already satisfied: ml-dtypes==0.2.0 in /usr/local/lib/python3.10/dist-packages (from tensorflow) (0.2.0)\n",
            "Requirement already satisfied: numpy>=1.23.5 in /usr/local/lib/python3.10/dist-packages (from tensorflow) (1.23.5)\n",
            "Requirement already satisfied: opt-einsum>=2.3.2 in /usr/local/lib/python3.10/dist-packages (from tensorflow) (3.3.0)\n",
            "Requirement already satisfied: packaging in /usr/local/lib/python3.10/dist-packages (from tensorflow) (23.2)\n",
            "Requirement already satisfied: protobuf!=4.21.0,!=4.21.1,!=4.21.2,!=4.21.3,!=4.21.4,!=4.21.5,<5.0.0dev,>=3.20.3 in /usr/local/lib/python3.10/dist-packages (from tensorflow) (3.20.3)\n",
            "Requirement already satisfied: setuptools in /usr/local/lib/python3.10/dist-packages (from tensorflow) (67.7.2)\n",
            "Requirement already satisfied: six>=1.12.0 in /usr/local/lib/python3.10/dist-packages (from tensorflow) (1.16.0)\n",
            "Requirement already satisfied: termcolor>=1.1.0 in /usr/local/lib/python3.10/dist-packages (from tensorflow) (2.3.0)\n",
            "Requirement already satisfied: typing-extensions>=3.6.6 in /usr/local/lib/python3.10/dist-packages (from tensorflow) (4.5.0)\n",
            "Requirement already satisfied: wrapt<1.15,>=1.11.0 in /usr/local/lib/python3.10/dist-packages (from tensorflow) (1.14.1)\n",
            "Requirement already satisfied: tensorflow-io-gcs-filesystem>=0.23.1 in /usr/local/lib/python3.10/dist-packages (from tensorflow) (0.34.0)\n",
            "Requirement already satisfied: grpcio<2.0,>=1.24.3 in /usr/local/lib/python3.10/dist-packages (from tensorflow) (1.59.0)\n",
            "Requirement already satisfied: tensorboard<2.15,>=2.14 in /usr/local/lib/python3.10/dist-packages (from tensorflow) (2.14.1)\n",
            "Requirement already satisfied: tensorflow-estimator<2.15,>=2.14.0 in /usr/local/lib/python3.10/dist-packages (from tensorflow) (2.14.0)\n",
            "Requirement already satisfied: keras<2.15,>=2.14.0 in /usr/local/lib/python3.10/dist-packages (from tensorflow) (2.14.0)\n",
            "Requirement already satisfied: wheel<1.0,>=0.23.0 in /usr/local/lib/python3.10/dist-packages (from astunparse>=1.6.0->tensorflow) (0.41.2)\n",
            "Requirement already satisfied: google-auth<3,>=1.6.3 in /usr/local/lib/python3.10/dist-packages (from tensorboard<2.15,>=2.14->tensorflow) (2.17.3)\n",
            "Requirement already satisfied: google-auth-oauthlib<1.1,>=0.5 in /usr/local/lib/python3.10/dist-packages (from tensorboard<2.15,>=2.14->tensorflow) (1.0.0)\n",
            "Requirement already satisfied: markdown>=2.6.8 in /usr/local/lib/python3.10/dist-packages (from tensorboard<2.15,>=2.14->tensorflow) (3.5)\n",
            "Requirement already satisfied: requests<3,>=2.21.0 in /usr/local/lib/python3.10/dist-packages (from tensorboard<2.15,>=2.14->tensorflow) (2.31.0)\n",
            "Requirement already satisfied: tensorboard-data-server<0.8.0,>=0.7.0 in /usr/local/lib/python3.10/dist-packages (from tensorboard<2.15,>=2.14->tensorflow) (0.7.2)\n",
            "Requirement already satisfied: werkzeug>=1.0.1 in /usr/local/lib/python3.10/dist-packages (from tensorboard<2.15,>=2.14->tensorflow) (3.0.1)\n",
            "Requirement already satisfied: cachetools<6.0,>=2.0.0 in /usr/local/lib/python3.10/dist-packages (from google-auth<3,>=1.6.3->tensorboard<2.15,>=2.14->tensorflow) (5.3.2)\n",
            "Requirement already satisfied: pyasn1-modules>=0.2.1 in /usr/local/lib/python3.10/dist-packages (from google-auth<3,>=1.6.3->tensorboard<2.15,>=2.14->tensorflow) (0.3.0)\n",
            "Requirement already satisfied: rsa<5,>=3.1.4 in /usr/local/lib/python3.10/dist-packages (from google-auth<3,>=1.6.3->tensorboard<2.15,>=2.14->tensorflow) (4.9)\n",
            "Requirement already satisfied: requests-oauthlib>=0.7.0 in /usr/local/lib/python3.10/dist-packages (from google-auth-oauthlib<1.1,>=0.5->tensorboard<2.15,>=2.14->tensorflow) (1.3.1)\n",
            "Requirement already satisfied: charset-normalizer<4,>=2 in /usr/local/lib/python3.10/dist-packages (from requests<3,>=2.21.0->tensorboard<2.15,>=2.14->tensorflow) (3.3.1)\n",
            "Requirement already satisfied: idna<4,>=2.5 in /usr/local/lib/python3.10/dist-packages (from requests<3,>=2.21.0->tensorboard<2.15,>=2.14->tensorflow) (3.4)\n",
            "Requirement already satisfied: urllib3<3,>=1.21.1 in /usr/local/lib/python3.10/dist-packages (from requests<3,>=2.21.0->tensorboard<2.15,>=2.14->tensorflow) (2.0.7)\n",
            "Requirement already satisfied: certifi>=2017.4.17 in /usr/local/lib/python3.10/dist-packages (from requests<3,>=2.21.0->tensorboard<2.15,>=2.14->tensorflow) (2023.7.22)\n",
            "Requirement already satisfied: MarkupSafe>=2.1.1 in /usr/local/lib/python3.10/dist-packages (from werkzeug>=1.0.1->tensorboard<2.15,>=2.14->tensorflow) (2.1.3)\n",
            "Requirement already satisfied: pyasn1<0.6.0,>=0.4.6 in /usr/local/lib/python3.10/dist-packages (from pyasn1-modules>=0.2.1->google-auth<3,>=1.6.3->tensorboard<2.15,>=2.14->tensorflow) (0.5.0)\n",
            "Requirement already satisfied: oauthlib>=3.0.0 in /usr/local/lib/python3.10/dist-packages (from requests-oauthlib>=0.7.0->google-auth-oauthlib<1.1,>=0.5->tensorboard<2.15,>=2.14->tensorflow) (3.2.2)\n",
            "Collecting optuna\n",
            "  Downloading optuna-3.4.0-py3-none-any.whl (409 kB)\n",
            "\u001b[2K     \u001b[90m━━━━━━━━━━━━━━━━━━━━━━━━━━━━━━━━━━━━━━━━\u001b[0m \u001b[32m409.6/409.6 kB\u001b[0m \u001b[31m6.9 MB/s\u001b[0m eta \u001b[36m0:00:00\u001b[0m\n",
            "\u001b[?25hCollecting alembic>=1.5.0 (from optuna)\n",
            "  Downloading alembic-1.12.1-py3-none-any.whl (226 kB)\n",
            "\u001b[2K     \u001b[90m━━━━━━━━━━━━━━━━━━━━━━━━━━━━━━━━━━━━━━━━\u001b[0m \u001b[32m226.8/226.8 kB\u001b[0m \u001b[31m18.6 MB/s\u001b[0m eta \u001b[36m0:00:00\u001b[0m\n",
            "\u001b[?25hCollecting colorlog (from optuna)\n",
            "  Downloading colorlog-6.7.0-py2.py3-none-any.whl (11 kB)\n",
            "Requirement already satisfied: numpy in /usr/local/lib/python3.10/dist-packages (from optuna) (1.23.5)\n",
            "Requirement already satisfied: packaging>=20.0 in /usr/local/lib/python3.10/dist-packages (from optuna) (23.2)\n",
            "Requirement already satisfied: sqlalchemy>=1.3.0 in /usr/local/lib/python3.10/dist-packages (from optuna) (2.0.22)\n",
            "Requirement already satisfied: tqdm in /usr/local/lib/python3.10/dist-packages (from optuna) (4.66.1)\n",
            "Requirement already satisfied: PyYAML in /usr/local/lib/python3.10/dist-packages (from optuna) (6.0.1)\n",
            "Collecting Mako (from alembic>=1.5.0->optuna)\n",
            "  Downloading Mako-1.2.4-py3-none-any.whl (78 kB)\n",
            "\u001b[2K     \u001b[90m━━━━━━━━━━━━━━━━━━━━━━━━━━━━━━━━━━━━━━━━\u001b[0m \u001b[32m78.7/78.7 kB\u001b[0m \u001b[31m8.8 MB/s\u001b[0m eta \u001b[36m0:00:00\u001b[0m\n",
            "\u001b[?25hRequirement already satisfied: typing-extensions>=4 in /usr/local/lib/python3.10/dist-packages (from alembic>=1.5.0->optuna) (4.5.0)\n",
            "Requirement already satisfied: greenlet!=0.4.17 in /usr/local/lib/python3.10/dist-packages (from sqlalchemy>=1.3.0->optuna) (3.0.0)\n",
            "Requirement already satisfied: MarkupSafe>=0.9.2 in /usr/local/lib/python3.10/dist-packages (from Mako->alembic>=1.5.0->optuna) (2.1.3)\n",
            "Installing collected packages: Mako, colorlog, alembic, optuna\n",
            "Successfully installed Mako-1.2.4 alembic-1.12.1 colorlog-6.7.0 optuna-3.4.0\n"
          ]
        }
      ],
      "source": [
        "import numpy as np\n",
        "import pandas as pd\n",
        "import matplotlib.pyplot as plt\n",
        "import seaborn as sns\n",
        "\n",
        "from sklearn.compose import make_column_transformer\n",
        "from sklearn.preprocessing import OneHotEncoder, StandardScaler, RobustScaler, MinMaxScaler\n",
        "from sklearn.model_selection import train_test_split\n",
        "from sklearn.metrics import recall_score, classification_report, ConfusionMatrixDisplay,\\\n",
        "RocCurveDisplay, roc_auc_score,roc_curve\n",
        "from sklearn.utils.class_weight import compute_class_weight\n",
        "! pip install scikeras\n",
        "from scikeras.wrappers import KerasClassifier\n",
        "from sklearn.model_selection import cross_validate\n",
        "from sklearn.preprocessing import LabelEncoder\n",
        "! pip install tensorflow\n",
        "import tensorflow as tf\n",
        "from tensorflow.keras.models import Sequential\n",
        "from tensorflow.keras.layers import Input, Dense, Activation, Dropout\n",
        "from tensorflow.keras.optimizers import Adam, Adadelta, RMSprop, Nadam\n",
        "from tensorflow.keras.callbacks import EarlyStopping\n",
        "! pip install optuna\n",
        "from tensorflow.keras.models import load_model\n",
        "\n",
        "import pickle\n",
        "import warnings\n",
        "import os\n",
        "import optuna\n",
        "\n",
        "warnings.filterwarnings('ignore')\n",
        "os.environ['TF_CPP_MIN_LOG_LEVEL'] = '1'\n",
        "sns.set_style('whitegrid')"
      ]
    },
    {
      "cell_type": "code",
      "execution_count": 8,
      "id": "ef6722a3",
      "metadata": {
        "execution": {
          "iopub.execute_input": "2022-03-13T16:33:24.094821Z",
          "iopub.status.busy": "2022-03-13T16:33:24.093885Z",
          "iopub.status.idle": "2022-03-13T16:33:24.164146Z",
          "shell.execute_reply": "2022-03-13T16:33:24.164742Z",
          "shell.execute_reply.started": "2022-03-13T16:21:25.568333Z"
        },
        "papermill": {
          "duration": 0.156369,
          "end_time": "2022-03-13T16:33:24.164911",
          "exception": false,
          "start_time": "2022-03-13T16:33:24.008542",
          "status": "completed"
        },
        "tags": [],
        "colab": {
          "base_uri": "https://localhost:8080/",
          "height": 143
        },
        "id": "ef6722a3",
        "outputId": "54628549-68e2-47b6-deb9-dd57a6c07ed7"
      },
      "outputs": [
        {
          "output_type": "execute_result",
          "data": {
            "text/plain": [
              "   RowNumber  CustomerId   Surname  CreditScore Geography  Gender  Age  \\\n",
              "0          1    15634602  Hargrave          619    France  Female   42   \n",
              "1          2    15647311      Hill          608     Spain  Female   41   \n",
              "2          3    15619304      Onio          502    France  Female   42   \n",
              "\n",
              "   Tenure    Balance  NumOfProducts  HasCrCard  IsActiveMember  \\\n",
              "0       2       0.00              1          1               1   \n",
              "1       1   83807.86              1          0               1   \n",
              "2       8  159660.80              3          1               0   \n",
              "\n",
              "   EstimatedSalary  Exited  \n",
              "0        101348.88       1  \n",
              "1        112542.58       0  \n",
              "2        113931.57       1  "
            ],
            "text/html": [
              "\n",
              "  <div id=\"df-9c5b94a5-5f7e-4700-b633-6361675d58ce\" class=\"colab-df-container\">\n",
              "    <div>\n",
              "<style scoped>\n",
              "    .dataframe tbody tr th:only-of-type {\n",
              "        vertical-align: middle;\n",
              "    }\n",
              "\n",
              "    .dataframe tbody tr th {\n",
              "        vertical-align: top;\n",
              "    }\n",
              "\n",
              "    .dataframe thead th {\n",
              "        text-align: right;\n",
              "    }\n",
              "</style>\n",
              "<table border=\"1\" class=\"dataframe\">\n",
              "  <thead>\n",
              "    <tr style=\"text-align: right;\">\n",
              "      <th></th>\n",
              "      <th>RowNumber</th>\n",
              "      <th>CustomerId</th>\n",
              "      <th>Surname</th>\n",
              "      <th>CreditScore</th>\n",
              "      <th>Geography</th>\n",
              "      <th>Gender</th>\n",
              "      <th>Age</th>\n",
              "      <th>Tenure</th>\n",
              "      <th>Balance</th>\n",
              "      <th>NumOfProducts</th>\n",
              "      <th>HasCrCard</th>\n",
              "      <th>IsActiveMember</th>\n",
              "      <th>EstimatedSalary</th>\n",
              "      <th>Exited</th>\n",
              "    </tr>\n",
              "  </thead>\n",
              "  <tbody>\n",
              "    <tr>\n",
              "      <th>0</th>\n",
              "      <td>1</td>\n",
              "      <td>15634602</td>\n",
              "      <td>Hargrave</td>\n",
              "      <td>619</td>\n",
              "      <td>France</td>\n",
              "      <td>Female</td>\n",
              "      <td>42</td>\n",
              "      <td>2</td>\n",
              "      <td>0.00</td>\n",
              "      <td>1</td>\n",
              "      <td>1</td>\n",
              "      <td>1</td>\n",
              "      <td>101348.88</td>\n",
              "      <td>1</td>\n",
              "    </tr>\n",
              "    <tr>\n",
              "      <th>1</th>\n",
              "      <td>2</td>\n",
              "      <td>15647311</td>\n",
              "      <td>Hill</td>\n",
              "      <td>608</td>\n",
              "      <td>Spain</td>\n",
              "      <td>Female</td>\n",
              "      <td>41</td>\n",
              "      <td>1</td>\n",
              "      <td>83807.86</td>\n",
              "      <td>1</td>\n",
              "      <td>0</td>\n",
              "      <td>1</td>\n",
              "      <td>112542.58</td>\n",
              "      <td>0</td>\n",
              "    </tr>\n",
              "    <tr>\n",
              "      <th>2</th>\n",
              "      <td>3</td>\n",
              "      <td>15619304</td>\n",
              "      <td>Onio</td>\n",
              "      <td>502</td>\n",
              "      <td>France</td>\n",
              "      <td>Female</td>\n",
              "      <td>42</td>\n",
              "      <td>8</td>\n",
              "      <td>159660.80</td>\n",
              "      <td>3</td>\n",
              "      <td>1</td>\n",
              "      <td>0</td>\n",
              "      <td>113931.57</td>\n",
              "      <td>1</td>\n",
              "    </tr>\n",
              "  </tbody>\n",
              "</table>\n",
              "</div>\n",
              "    <div class=\"colab-df-buttons\">\n",
              "\n",
              "  <div class=\"colab-df-container\">\n",
              "    <button class=\"colab-df-convert\" onclick=\"convertToInteractive('df-9c5b94a5-5f7e-4700-b633-6361675d58ce')\"\n",
              "            title=\"Convert this dataframe to an interactive table.\"\n",
              "            style=\"display:none;\">\n",
              "\n",
              "  <svg xmlns=\"http://www.w3.org/2000/svg\" height=\"24px\" viewBox=\"0 -960 960 960\">\n",
              "    <path d=\"M120-120v-720h720v720H120Zm60-500h600v-160H180v160Zm220 220h160v-160H400v160Zm0 220h160v-160H400v160ZM180-400h160v-160H180v160Zm440 0h160v-160H620v160ZM180-180h160v-160H180v160Zm440 0h160v-160H620v160Z\"/>\n",
              "  </svg>\n",
              "    </button>\n",
              "\n",
              "  <style>\n",
              "    .colab-df-container {\n",
              "      display:flex;\n",
              "      gap: 12px;\n",
              "    }\n",
              "\n",
              "    .colab-df-convert {\n",
              "      background-color: #E8F0FE;\n",
              "      border: none;\n",
              "      border-radius: 50%;\n",
              "      cursor: pointer;\n",
              "      display: none;\n",
              "      fill: #1967D2;\n",
              "      height: 32px;\n",
              "      padding: 0 0 0 0;\n",
              "      width: 32px;\n",
              "    }\n",
              "\n",
              "    .colab-df-convert:hover {\n",
              "      background-color: #E2EBFA;\n",
              "      box-shadow: 0px 1px 2px rgba(60, 64, 67, 0.3), 0px 1px 3px 1px rgba(60, 64, 67, 0.15);\n",
              "      fill: #174EA6;\n",
              "    }\n",
              "\n",
              "    .colab-df-buttons div {\n",
              "      margin-bottom: 4px;\n",
              "    }\n",
              "\n",
              "    [theme=dark] .colab-df-convert {\n",
              "      background-color: #3B4455;\n",
              "      fill: #D2E3FC;\n",
              "    }\n",
              "\n",
              "    [theme=dark] .colab-df-convert:hover {\n",
              "      background-color: #434B5C;\n",
              "      box-shadow: 0px 1px 3px 1px rgba(0, 0, 0, 0.15);\n",
              "      filter: drop-shadow(0px 1px 2px rgba(0, 0, 0, 0.3));\n",
              "      fill: #FFFFFF;\n",
              "    }\n",
              "  </style>\n",
              "\n",
              "    <script>\n",
              "      const buttonEl =\n",
              "        document.querySelector('#df-9c5b94a5-5f7e-4700-b633-6361675d58ce button.colab-df-convert');\n",
              "      buttonEl.style.display =\n",
              "        google.colab.kernel.accessAllowed ? 'block' : 'none';\n",
              "\n",
              "      async function convertToInteractive(key) {\n",
              "        const element = document.querySelector('#df-9c5b94a5-5f7e-4700-b633-6361675d58ce');\n",
              "        const dataTable =\n",
              "          await google.colab.kernel.invokeFunction('convertToInteractive',\n",
              "                                                    [key], {});\n",
              "        if (!dataTable) return;\n",
              "\n",
              "        const docLinkHtml = 'Like what you see? Visit the ' +\n",
              "          '<a target=\"_blank\" href=https://colab.research.google.com/notebooks/data_table.ipynb>data table notebook</a>'\n",
              "          + ' to learn more about interactive tables.';\n",
              "        element.innerHTML = '';\n",
              "        dataTable['output_type'] = 'display_data';\n",
              "        await google.colab.output.renderOutput(dataTable, element);\n",
              "        const docLink = document.createElement('div');\n",
              "        docLink.innerHTML = docLinkHtml;\n",
              "        element.appendChild(docLink);\n",
              "      }\n",
              "    </script>\n",
              "  </div>\n",
              "\n",
              "\n",
              "<div id=\"df-9423b0b8-c6fa-4a92-a76a-0c9fc20ae276\">\n",
              "  <button class=\"colab-df-quickchart\" onclick=\"quickchart('df-9423b0b8-c6fa-4a92-a76a-0c9fc20ae276')\"\n",
              "            title=\"Suggest charts.\"\n",
              "            style=\"display:none;\">\n",
              "\n",
              "<svg xmlns=\"http://www.w3.org/2000/svg\" height=\"24px\"viewBox=\"0 0 24 24\"\n",
              "     width=\"24px\">\n",
              "    <g>\n",
              "        <path d=\"M19 3H5c-1.1 0-2 .9-2 2v14c0 1.1.9 2 2 2h14c1.1 0 2-.9 2-2V5c0-1.1-.9-2-2-2zM9 17H7v-7h2v7zm4 0h-2V7h2v10zm4 0h-2v-4h2v4z\"/>\n",
              "    </g>\n",
              "</svg>\n",
              "  </button>\n",
              "\n",
              "<style>\n",
              "  .colab-df-quickchart {\n",
              "      --bg-color: #E8F0FE;\n",
              "      --fill-color: #1967D2;\n",
              "      --hover-bg-color: #E2EBFA;\n",
              "      --hover-fill-color: #174EA6;\n",
              "      --disabled-fill-color: #AAA;\n",
              "      --disabled-bg-color: #DDD;\n",
              "  }\n",
              "\n",
              "  [theme=dark] .colab-df-quickchart {\n",
              "      --bg-color: #3B4455;\n",
              "      --fill-color: #D2E3FC;\n",
              "      --hover-bg-color: #434B5C;\n",
              "      --hover-fill-color: #FFFFFF;\n",
              "      --disabled-bg-color: #3B4455;\n",
              "      --disabled-fill-color: #666;\n",
              "  }\n",
              "\n",
              "  .colab-df-quickchart {\n",
              "    background-color: var(--bg-color);\n",
              "    border: none;\n",
              "    border-radius: 50%;\n",
              "    cursor: pointer;\n",
              "    display: none;\n",
              "    fill: var(--fill-color);\n",
              "    height: 32px;\n",
              "    padding: 0;\n",
              "    width: 32px;\n",
              "  }\n",
              "\n",
              "  .colab-df-quickchart:hover {\n",
              "    background-color: var(--hover-bg-color);\n",
              "    box-shadow: 0 1px 2px rgba(60, 64, 67, 0.3), 0 1px 3px 1px rgba(60, 64, 67, 0.15);\n",
              "    fill: var(--button-hover-fill-color);\n",
              "  }\n",
              "\n",
              "  .colab-df-quickchart-complete:disabled,\n",
              "  .colab-df-quickchart-complete:disabled:hover {\n",
              "    background-color: var(--disabled-bg-color);\n",
              "    fill: var(--disabled-fill-color);\n",
              "    box-shadow: none;\n",
              "  }\n",
              "\n",
              "  .colab-df-spinner {\n",
              "    border: 2px solid var(--fill-color);\n",
              "    border-color: transparent;\n",
              "    border-bottom-color: var(--fill-color);\n",
              "    animation:\n",
              "      spin 1s steps(1) infinite;\n",
              "  }\n",
              "\n",
              "  @keyframes spin {\n",
              "    0% {\n",
              "      border-color: transparent;\n",
              "      border-bottom-color: var(--fill-color);\n",
              "      border-left-color: var(--fill-color);\n",
              "    }\n",
              "    20% {\n",
              "      border-color: transparent;\n",
              "      border-left-color: var(--fill-color);\n",
              "      border-top-color: var(--fill-color);\n",
              "    }\n",
              "    30% {\n",
              "      border-color: transparent;\n",
              "      border-left-color: var(--fill-color);\n",
              "      border-top-color: var(--fill-color);\n",
              "      border-right-color: var(--fill-color);\n",
              "    }\n",
              "    40% {\n",
              "      border-color: transparent;\n",
              "      border-right-color: var(--fill-color);\n",
              "      border-top-color: var(--fill-color);\n",
              "    }\n",
              "    60% {\n",
              "      border-color: transparent;\n",
              "      border-right-color: var(--fill-color);\n",
              "    }\n",
              "    80% {\n",
              "      border-color: transparent;\n",
              "      border-right-color: var(--fill-color);\n",
              "      border-bottom-color: var(--fill-color);\n",
              "    }\n",
              "    90% {\n",
              "      border-color: transparent;\n",
              "      border-bottom-color: var(--fill-color);\n",
              "    }\n",
              "  }\n",
              "</style>\n",
              "\n",
              "  <script>\n",
              "    async function quickchart(key) {\n",
              "      const quickchartButtonEl =\n",
              "        document.querySelector('#' + key + ' button');\n",
              "      quickchartButtonEl.disabled = true;  // To prevent multiple clicks.\n",
              "      quickchartButtonEl.classList.add('colab-df-spinner');\n",
              "      try {\n",
              "        const charts = await google.colab.kernel.invokeFunction(\n",
              "            'suggestCharts', [key], {});\n",
              "      } catch (error) {\n",
              "        console.error('Error during call to suggestCharts:', error);\n",
              "      }\n",
              "      quickchartButtonEl.classList.remove('colab-df-spinner');\n",
              "      quickchartButtonEl.classList.add('colab-df-quickchart-complete');\n",
              "    }\n",
              "    (() => {\n",
              "      let quickchartButtonEl =\n",
              "        document.querySelector('#df-9423b0b8-c6fa-4a92-a76a-0c9fc20ae276 button');\n",
              "      quickchartButtonEl.style.display =\n",
              "        google.colab.kernel.accessAllowed ? 'block' : 'none';\n",
              "    })();\n",
              "  </script>\n",
              "</div>\n",
              "    </div>\n",
              "  </div>\n"
            ]
          },
          "metadata": {},
          "execution_count": 8
        }
      ],
      "source": [
        "df = pd.read_csv('Churn_Modelling.csv')\n",
        "df.head(3)"
      ]
    },
    {
      "cell_type": "markdown",
      "id": "bf5ebacb",
      "metadata": {
        "heading_collapsed": true,
        "papermill": {
          "duration": 0.081323,
          "end_time": "2022-03-13T16:33:24.328300",
          "exception": false,
          "start_time": "2022-03-13T16:33:24.246977",
          "status": "completed"
        },
        "tags": [],
        "id": "bf5ebacb"
      },
      "source": [
        "## Exploratory Data Analysis and Visualization"
      ]
    },
    {
      "cell_type": "code",
      "execution_count": 9,
      "id": "f50925dd",
      "metadata": {
        "cell_style": "split",
        "execution": {
          "iopub.execute_input": "2022-03-13T16:33:24.508071Z",
          "iopub.status.busy": "2022-03-13T16:33:24.506977Z",
          "iopub.status.idle": "2022-03-13T16:33:24.523645Z",
          "shell.execute_reply": "2022-03-13T16:33:24.524233Z",
          "shell.execute_reply.started": "2022-03-13T16:21:25.634342Z"
        },
        "hidden": true,
        "id": "f50925dd",
        "outputId": "a1c24bb8-5a27-4af0-c7e3-8c5cfcece9c5",
        "papermill": {
          "duration": 0.111383,
          "end_time": "2022-03-13T16:33:24.524427",
          "exception": false,
          "start_time": "2022-03-13T16:33:24.413044",
          "status": "completed"
        },
        "tags": [],
        "colab": {
          "base_uri": "https://localhost:8080/"
        }
      },
      "outputs": [
        {
          "output_type": "stream",
          "name": "stdout",
          "text": [
            "<class 'pandas.core.frame.DataFrame'>\n",
            "RangeIndex: 10000 entries, 0 to 9999\n",
            "Data columns (total 14 columns):\n",
            " #   Column           Non-Null Count  Dtype  \n",
            "---  ------           --------------  -----  \n",
            " 0   RowNumber        10000 non-null  int64  \n",
            " 1   CustomerId       10000 non-null  int64  \n",
            " 2   Surname          10000 non-null  object \n",
            " 3   CreditScore      10000 non-null  int64  \n",
            " 4   Geography        10000 non-null  object \n",
            " 5   Gender           10000 non-null  object \n",
            " 6   Age              10000 non-null  int64  \n",
            " 7   Tenure           10000 non-null  int64  \n",
            " 8   Balance          10000 non-null  float64\n",
            " 9   NumOfProducts    10000 non-null  int64  \n",
            " 10  HasCrCard        10000 non-null  int64  \n",
            " 11  IsActiveMember   10000 non-null  int64  \n",
            " 12  EstimatedSalary  10000 non-null  float64\n",
            " 13  Exited           10000 non-null  int64  \n",
            "dtypes: float64(2), int64(9), object(3)\n",
            "memory usage: 1.1+ MB\n"
          ]
        }
      ],
      "source": [
        "df.info()"
      ]
    },
    {
      "cell_type": "code",
      "execution_count": 10,
      "id": "08f63bde",
      "metadata": {
        "cell_style": "split",
        "execution": {
          "iopub.execute_input": "2022-03-13T16:33:24.690443Z",
          "iopub.status.busy": "2022-03-13T16:33:24.689394Z",
          "iopub.status.idle": "2022-03-13T16:33:24.696974Z",
          "shell.execute_reply": "2022-03-13T16:33:24.696412Z",
          "shell.execute_reply.started": "2022-03-13T16:21:25.657968Z"
        },
        "hidden": true,
        "id": "08f63bde",
        "outputId": "06949087-29a2-4ec1-a1c9-9513006f566d",
        "papermill": {
          "duration": 0.091553,
          "end_time": "2022-03-13T16:33:24.697115",
          "exception": false,
          "start_time": "2022-03-13T16:33:24.605562",
          "status": "completed"
        },
        "tags": [],
        "colab": {
          "base_uri": "https://localhost:8080/"
        }
      },
      "outputs": [
        {
          "output_type": "execute_result",
          "data": {
            "text/plain": [
              "(10000, 14)"
            ]
          },
          "metadata": {},
          "execution_count": 10
        }
      ],
      "source": [
        "df.shape"
      ]
    },
    {
      "cell_type": "code",
      "execution_count": 11,
      "id": "ab1537f3",
      "metadata": {
        "cell_style": "split",
        "execution": {
          "iopub.execute_input": "2022-03-13T16:33:24.872337Z",
          "iopub.status.busy": "2022-03-13T16:33:24.868648Z",
          "iopub.status.idle": "2022-03-13T16:33:24.875838Z",
          "shell.execute_reply": "2022-03-13T16:33:24.876357Z",
          "shell.execute_reply.started": "2022-03-13T16:21:25.666704Z"
        },
        "hidden": true,
        "papermill": {
          "duration": 0.097397,
          "end_time": "2022-03-13T16:33:24.876526",
          "exception": false,
          "start_time": "2022-03-13T16:33:24.779129",
          "status": "completed"
        },
        "tags": [],
        "colab": {
          "base_uri": "https://localhost:8080/"
        },
        "id": "ab1537f3",
        "outputId": "f5d9af1c-611a-4aa6-e141-bc62bb4aba9a"
      },
      "outputs": [
        {
          "output_type": "execute_result",
          "data": {
            "text/plain": [
              "False"
            ]
          },
          "metadata": {},
          "execution_count": 11
        }
      ],
      "source": [
        "df.isnull().sum().any()"
      ]
    },
    {
      "cell_type": "code",
      "execution_count": 12,
      "id": "9602bb88",
      "metadata": {
        "cell_style": "split",
        "execution": {
          "iopub.execute_input": "2022-03-13T16:33:25.047507Z",
          "iopub.status.busy": "2022-03-13T16:33:25.046771Z",
          "iopub.status.idle": "2022-03-13T16:33:25.066443Z",
          "shell.execute_reply": "2022-03-13T16:33:25.065889Z",
          "shell.execute_reply.started": "2022-03-13T16:21:25.682932Z"
        },
        "hidden": true,
        "papermill": {
          "duration": 0.107825,
          "end_time": "2022-03-13T16:33:25.066580",
          "exception": false,
          "start_time": "2022-03-13T16:33:24.958755",
          "status": "completed"
        },
        "scrolled": true,
        "tags": [],
        "colab": {
          "base_uri": "https://localhost:8080/"
        },
        "id": "9602bb88",
        "outputId": "b2ef8d82-521f-45a8-f039-c2204047a45c"
      },
      "outputs": [
        {
          "output_type": "execute_result",
          "data": {
            "text/plain": [
              "0"
            ]
          },
          "metadata": {},
          "execution_count": 12
        }
      ],
      "source": [
        "df.duplicated().sum()"
      ]
    },
    {
      "cell_type": "code",
      "execution_count": 13,
      "id": "fe2c4ea8",
      "metadata": {
        "cell_style": "center",
        "execution": {
          "iopub.execute_input": "2022-03-13T16:33:25.241893Z",
          "iopub.status.busy": "2022-03-13T16:33:25.239040Z",
          "iopub.status.idle": "2022-03-13T16:33:25.278083Z",
          "shell.execute_reply": "2022-03-13T16:33:25.277552Z",
          "shell.execute_reply.started": "2022-03-13T16:21:25.700931Z"
        },
        "hidden": true,
        "id": "fe2c4ea8",
        "outputId": "34d81bcd-fbc0-4679-8bbd-d631fe7f55c4",
        "papermill": {
          "duration": 0.129919,
          "end_time": "2022-03-13T16:33:25.278268",
          "exception": false,
          "start_time": "2022-03-13T16:33:25.148349",
          "status": "completed"
        },
        "tags": [],
        "colab": {
          "base_uri": "https://localhost:8080/",
          "height": 394
        }
      },
      "outputs": [
        {
          "output_type": "execute_result",
          "data": {
            "text/plain": [
              "                   count          mean           std          min  \\\n",
              "RowNumber        10000.0  5.000500e+03   2886.895680         1.00   \n",
              "CustomerId       10000.0  1.569094e+07  71936.186123  15565701.00   \n",
              "CreditScore      10000.0  6.505288e+02     96.653299       350.00   \n",
              "Age              10000.0  3.892180e+01     10.487806        18.00   \n",
              "Tenure           10000.0  5.012800e+00      2.892174         0.00   \n",
              "Balance          10000.0  7.648589e+04  62397.405202         0.00   \n",
              "NumOfProducts    10000.0  1.530200e+00      0.581654         1.00   \n",
              "HasCrCard        10000.0  7.055000e-01      0.455840         0.00   \n",
              "IsActiveMember   10000.0  5.151000e-01      0.499797         0.00   \n",
              "EstimatedSalary  10000.0  1.000902e+05  57510.492818        11.58   \n",
              "Exited           10000.0  2.037000e-01      0.402769         0.00   \n",
              "\n",
              "                         25%           50%           75%          max  \n",
              "RowNumber            2500.75  5.000500e+03  7.500250e+03     10000.00  \n",
              "CustomerId       15628528.25  1.569074e+07  1.575323e+07  15815690.00  \n",
              "CreditScore           584.00  6.520000e+02  7.180000e+02       850.00  \n",
              "Age                    32.00  3.700000e+01  4.400000e+01        92.00  \n",
              "Tenure                  3.00  5.000000e+00  7.000000e+00        10.00  \n",
              "Balance                 0.00  9.719854e+04  1.276442e+05    250898.09  \n",
              "NumOfProducts           1.00  1.000000e+00  2.000000e+00         4.00  \n",
              "HasCrCard               0.00  1.000000e+00  1.000000e+00         1.00  \n",
              "IsActiveMember          0.00  1.000000e+00  1.000000e+00         1.00  \n",
              "EstimatedSalary     51002.11  1.001939e+05  1.493882e+05    199992.48  \n",
              "Exited                  0.00  0.000000e+00  0.000000e+00         1.00  "
            ],
            "text/html": [
              "\n",
              "  <div id=\"df-ab2e0629-0644-4ab8-97c3-0964a7744307\" class=\"colab-df-container\">\n",
              "    <div>\n",
              "<style scoped>\n",
              "    .dataframe tbody tr th:only-of-type {\n",
              "        vertical-align: middle;\n",
              "    }\n",
              "\n",
              "    .dataframe tbody tr th {\n",
              "        vertical-align: top;\n",
              "    }\n",
              "\n",
              "    .dataframe thead th {\n",
              "        text-align: right;\n",
              "    }\n",
              "</style>\n",
              "<table border=\"1\" class=\"dataframe\">\n",
              "  <thead>\n",
              "    <tr style=\"text-align: right;\">\n",
              "      <th></th>\n",
              "      <th>count</th>\n",
              "      <th>mean</th>\n",
              "      <th>std</th>\n",
              "      <th>min</th>\n",
              "      <th>25%</th>\n",
              "      <th>50%</th>\n",
              "      <th>75%</th>\n",
              "      <th>max</th>\n",
              "    </tr>\n",
              "  </thead>\n",
              "  <tbody>\n",
              "    <tr>\n",
              "      <th>RowNumber</th>\n",
              "      <td>10000.0</td>\n",
              "      <td>5.000500e+03</td>\n",
              "      <td>2886.895680</td>\n",
              "      <td>1.00</td>\n",
              "      <td>2500.75</td>\n",
              "      <td>5.000500e+03</td>\n",
              "      <td>7.500250e+03</td>\n",
              "      <td>10000.00</td>\n",
              "    </tr>\n",
              "    <tr>\n",
              "      <th>CustomerId</th>\n",
              "      <td>10000.0</td>\n",
              "      <td>1.569094e+07</td>\n",
              "      <td>71936.186123</td>\n",
              "      <td>15565701.00</td>\n",
              "      <td>15628528.25</td>\n",
              "      <td>1.569074e+07</td>\n",
              "      <td>1.575323e+07</td>\n",
              "      <td>15815690.00</td>\n",
              "    </tr>\n",
              "    <tr>\n",
              "      <th>CreditScore</th>\n",
              "      <td>10000.0</td>\n",
              "      <td>6.505288e+02</td>\n",
              "      <td>96.653299</td>\n",
              "      <td>350.00</td>\n",
              "      <td>584.00</td>\n",
              "      <td>6.520000e+02</td>\n",
              "      <td>7.180000e+02</td>\n",
              "      <td>850.00</td>\n",
              "    </tr>\n",
              "    <tr>\n",
              "      <th>Age</th>\n",
              "      <td>10000.0</td>\n",
              "      <td>3.892180e+01</td>\n",
              "      <td>10.487806</td>\n",
              "      <td>18.00</td>\n",
              "      <td>32.00</td>\n",
              "      <td>3.700000e+01</td>\n",
              "      <td>4.400000e+01</td>\n",
              "      <td>92.00</td>\n",
              "    </tr>\n",
              "    <tr>\n",
              "      <th>Tenure</th>\n",
              "      <td>10000.0</td>\n",
              "      <td>5.012800e+00</td>\n",
              "      <td>2.892174</td>\n",
              "      <td>0.00</td>\n",
              "      <td>3.00</td>\n",
              "      <td>5.000000e+00</td>\n",
              "      <td>7.000000e+00</td>\n",
              "      <td>10.00</td>\n",
              "    </tr>\n",
              "    <tr>\n",
              "      <th>Balance</th>\n",
              "      <td>10000.0</td>\n",
              "      <td>7.648589e+04</td>\n",
              "      <td>62397.405202</td>\n",
              "      <td>0.00</td>\n",
              "      <td>0.00</td>\n",
              "      <td>9.719854e+04</td>\n",
              "      <td>1.276442e+05</td>\n",
              "      <td>250898.09</td>\n",
              "    </tr>\n",
              "    <tr>\n",
              "      <th>NumOfProducts</th>\n",
              "      <td>10000.0</td>\n",
              "      <td>1.530200e+00</td>\n",
              "      <td>0.581654</td>\n",
              "      <td>1.00</td>\n",
              "      <td>1.00</td>\n",
              "      <td>1.000000e+00</td>\n",
              "      <td>2.000000e+00</td>\n",
              "      <td>4.00</td>\n",
              "    </tr>\n",
              "    <tr>\n",
              "      <th>HasCrCard</th>\n",
              "      <td>10000.0</td>\n",
              "      <td>7.055000e-01</td>\n",
              "      <td>0.455840</td>\n",
              "      <td>0.00</td>\n",
              "      <td>0.00</td>\n",
              "      <td>1.000000e+00</td>\n",
              "      <td>1.000000e+00</td>\n",
              "      <td>1.00</td>\n",
              "    </tr>\n",
              "    <tr>\n",
              "      <th>IsActiveMember</th>\n",
              "      <td>10000.0</td>\n",
              "      <td>5.151000e-01</td>\n",
              "      <td>0.499797</td>\n",
              "      <td>0.00</td>\n",
              "      <td>0.00</td>\n",
              "      <td>1.000000e+00</td>\n",
              "      <td>1.000000e+00</td>\n",
              "      <td>1.00</td>\n",
              "    </tr>\n",
              "    <tr>\n",
              "      <th>EstimatedSalary</th>\n",
              "      <td>10000.0</td>\n",
              "      <td>1.000902e+05</td>\n",
              "      <td>57510.492818</td>\n",
              "      <td>11.58</td>\n",
              "      <td>51002.11</td>\n",
              "      <td>1.001939e+05</td>\n",
              "      <td>1.493882e+05</td>\n",
              "      <td>199992.48</td>\n",
              "    </tr>\n",
              "    <tr>\n",
              "      <th>Exited</th>\n",
              "      <td>10000.0</td>\n",
              "      <td>2.037000e-01</td>\n",
              "      <td>0.402769</td>\n",
              "      <td>0.00</td>\n",
              "      <td>0.00</td>\n",
              "      <td>0.000000e+00</td>\n",
              "      <td>0.000000e+00</td>\n",
              "      <td>1.00</td>\n",
              "    </tr>\n",
              "  </tbody>\n",
              "</table>\n",
              "</div>\n",
              "    <div class=\"colab-df-buttons\">\n",
              "\n",
              "  <div class=\"colab-df-container\">\n",
              "    <button class=\"colab-df-convert\" onclick=\"convertToInteractive('df-ab2e0629-0644-4ab8-97c3-0964a7744307')\"\n",
              "            title=\"Convert this dataframe to an interactive table.\"\n",
              "            style=\"display:none;\">\n",
              "\n",
              "  <svg xmlns=\"http://www.w3.org/2000/svg\" height=\"24px\" viewBox=\"0 -960 960 960\">\n",
              "    <path d=\"M120-120v-720h720v720H120Zm60-500h600v-160H180v160Zm220 220h160v-160H400v160Zm0 220h160v-160H400v160ZM180-400h160v-160H180v160Zm440 0h160v-160H620v160ZM180-180h160v-160H180v160Zm440 0h160v-160H620v160Z\"/>\n",
              "  </svg>\n",
              "    </button>\n",
              "\n",
              "  <style>\n",
              "    .colab-df-container {\n",
              "      display:flex;\n",
              "      gap: 12px;\n",
              "    }\n",
              "\n",
              "    .colab-df-convert {\n",
              "      background-color: #E8F0FE;\n",
              "      border: none;\n",
              "      border-radius: 50%;\n",
              "      cursor: pointer;\n",
              "      display: none;\n",
              "      fill: #1967D2;\n",
              "      height: 32px;\n",
              "      padding: 0 0 0 0;\n",
              "      width: 32px;\n",
              "    }\n",
              "\n",
              "    .colab-df-convert:hover {\n",
              "      background-color: #E2EBFA;\n",
              "      box-shadow: 0px 1px 2px rgba(60, 64, 67, 0.3), 0px 1px 3px 1px rgba(60, 64, 67, 0.15);\n",
              "      fill: #174EA6;\n",
              "    }\n",
              "\n",
              "    .colab-df-buttons div {\n",
              "      margin-bottom: 4px;\n",
              "    }\n",
              "\n",
              "    [theme=dark] .colab-df-convert {\n",
              "      background-color: #3B4455;\n",
              "      fill: #D2E3FC;\n",
              "    }\n",
              "\n",
              "    [theme=dark] .colab-df-convert:hover {\n",
              "      background-color: #434B5C;\n",
              "      box-shadow: 0px 1px 3px 1px rgba(0, 0, 0, 0.15);\n",
              "      filter: drop-shadow(0px 1px 2px rgba(0, 0, 0, 0.3));\n",
              "      fill: #FFFFFF;\n",
              "    }\n",
              "  </style>\n",
              "\n",
              "    <script>\n",
              "      const buttonEl =\n",
              "        document.querySelector('#df-ab2e0629-0644-4ab8-97c3-0964a7744307 button.colab-df-convert');\n",
              "      buttonEl.style.display =\n",
              "        google.colab.kernel.accessAllowed ? 'block' : 'none';\n",
              "\n",
              "      async function convertToInteractive(key) {\n",
              "        const element = document.querySelector('#df-ab2e0629-0644-4ab8-97c3-0964a7744307');\n",
              "        const dataTable =\n",
              "          await google.colab.kernel.invokeFunction('convertToInteractive',\n",
              "                                                    [key], {});\n",
              "        if (!dataTable) return;\n",
              "\n",
              "        const docLinkHtml = 'Like what you see? Visit the ' +\n",
              "          '<a target=\"_blank\" href=https://colab.research.google.com/notebooks/data_table.ipynb>data table notebook</a>'\n",
              "          + ' to learn more about interactive tables.';\n",
              "        element.innerHTML = '';\n",
              "        dataTable['output_type'] = 'display_data';\n",
              "        await google.colab.output.renderOutput(dataTable, element);\n",
              "        const docLink = document.createElement('div');\n",
              "        docLink.innerHTML = docLinkHtml;\n",
              "        element.appendChild(docLink);\n",
              "      }\n",
              "    </script>\n",
              "  </div>\n",
              "\n",
              "\n",
              "<div id=\"df-26d87257-7eb1-4197-b437-bb597457ea93\">\n",
              "  <button class=\"colab-df-quickchart\" onclick=\"quickchart('df-26d87257-7eb1-4197-b437-bb597457ea93')\"\n",
              "            title=\"Suggest charts.\"\n",
              "            style=\"display:none;\">\n",
              "\n",
              "<svg xmlns=\"http://www.w3.org/2000/svg\" height=\"24px\"viewBox=\"0 0 24 24\"\n",
              "     width=\"24px\">\n",
              "    <g>\n",
              "        <path d=\"M19 3H5c-1.1 0-2 .9-2 2v14c0 1.1.9 2 2 2h14c1.1 0 2-.9 2-2V5c0-1.1-.9-2-2-2zM9 17H7v-7h2v7zm4 0h-2V7h2v10zm4 0h-2v-4h2v4z\"/>\n",
              "    </g>\n",
              "</svg>\n",
              "  </button>\n",
              "\n",
              "<style>\n",
              "  .colab-df-quickchart {\n",
              "      --bg-color: #E8F0FE;\n",
              "      --fill-color: #1967D2;\n",
              "      --hover-bg-color: #E2EBFA;\n",
              "      --hover-fill-color: #174EA6;\n",
              "      --disabled-fill-color: #AAA;\n",
              "      --disabled-bg-color: #DDD;\n",
              "  }\n",
              "\n",
              "  [theme=dark] .colab-df-quickchart {\n",
              "      --bg-color: #3B4455;\n",
              "      --fill-color: #D2E3FC;\n",
              "      --hover-bg-color: #434B5C;\n",
              "      --hover-fill-color: #FFFFFF;\n",
              "      --disabled-bg-color: #3B4455;\n",
              "      --disabled-fill-color: #666;\n",
              "  }\n",
              "\n",
              "  .colab-df-quickchart {\n",
              "    background-color: var(--bg-color);\n",
              "    border: none;\n",
              "    border-radius: 50%;\n",
              "    cursor: pointer;\n",
              "    display: none;\n",
              "    fill: var(--fill-color);\n",
              "    height: 32px;\n",
              "    padding: 0;\n",
              "    width: 32px;\n",
              "  }\n",
              "\n",
              "  .colab-df-quickchart:hover {\n",
              "    background-color: var(--hover-bg-color);\n",
              "    box-shadow: 0 1px 2px rgba(60, 64, 67, 0.3), 0 1px 3px 1px rgba(60, 64, 67, 0.15);\n",
              "    fill: var(--button-hover-fill-color);\n",
              "  }\n",
              "\n",
              "  .colab-df-quickchart-complete:disabled,\n",
              "  .colab-df-quickchart-complete:disabled:hover {\n",
              "    background-color: var(--disabled-bg-color);\n",
              "    fill: var(--disabled-fill-color);\n",
              "    box-shadow: none;\n",
              "  }\n",
              "\n",
              "  .colab-df-spinner {\n",
              "    border: 2px solid var(--fill-color);\n",
              "    border-color: transparent;\n",
              "    border-bottom-color: var(--fill-color);\n",
              "    animation:\n",
              "      spin 1s steps(1) infinite;\n",
              "  }\n",
              "\n",
              "  @keyframes spin {\n",
              "    0% {\n",
              "      border-color: transparent;\n",
              "      border-bottom-color: var(--fill-color);\n",
              "      border-left-color: var(--fill-color);\n",
              "    }\n",
              "    20% {\n",
              "      border-color: transparent;\n",
              "      border-left-color: var(--fill-color);\n",
              "      border-top-color: var(--fill-color);\n",
              "    }\n",
              "    30% {\n",
              "      border-color: transparent;\n",
              "      border-left-color: var(--fill-color);\n",
              "      border-top-color: var(--fill-color);\n",
              "      border-right-color: var(--fill-color);\n",
              "    }\n",
              "    40% {\n",
              "      border-color: transparent;\n",
              "      border-right-color: var(--fill-color);\n",
              "      border-top-color: var(--fill-color);\n",
              "    }\n",
              "    60% {\n",
              "      border-color: transparent;\n",
              "      border-right-color: var(--fill-color);\n",
              "    }\n",
              "    80% {\n",
              "      border-color: transparent;\n",
              "      border-right-color: var(--fill-color);\n",
              "      border-bottom-color: var(--fill-color);\n",
              "    }\n",
              "    90% {\n",
              "      border-color: transparent;\n",
              "      border-bottom-color: var(--fill-color);\n",
              "    }\n",
              "  }\n",
              "</style>\n",
              "\n",
              "  <script>\n",
              "    async function quickchart(key) {\n",
              "      const quickchartButtonEl =\n",
              "        document.querySelector('#' + key + ' button');\n",
              "      quickchartButtonEl.disabled = true;  // To prevent multiple clicks.\n",
              "      quickchartButtonEl.classList.add('colab-df-spinner');\n",
              "      try {\n",
              "        const charts = await google.colab.kernel.invokeFunction(\n",
              "            'suggestCharts', [key], {});\n",
              "      } catch (error) {\n",
              "        console.error('Error during call to suggestCharts:', error);\n",
              "      }\n",
              "      quickchartButtonEl.classList.remove('colab-df-spinner');\n",
              "      quickchartButtonEl.classList.add('colab-df-quickchart-complete');\n",
              "    }\n",
              "    (() => {\n",
              "      let quickchartButtonEl =\n",
              "        document.querySelector('#df-26d87257-7eb1-4197-b437-bb597457ea93 button');\n",
              "      quickchartButtonEl.style.display =\n",
              "        google.colab.kernel.accessAllowed ? 'block' : 'none';\n",
              "    })();\n",
              "  </script>\n",
              "</div>\n",
              "    </div>\n",
              "  </div>\n"
            ]
          },
          "metadata": {},
          "execution_count": 13
        }
      ],
      "source": [
        "df.describe().T\n",
        "\n"
      ]
    },
    {
      "cell_type": "code",
      "execution_count": 14,
      "id": "9424f2ef",
      "metadata": {
        "execution": {
          "iopub.execute_input": "2022-03-13T16:33:25.462621Z",
          "iopub.status.busy": "2022-03-13T16:33:25.461542Z",
          "iopub.status.idle": "2022-03-13T16:33:25.464017Z",
          "shell.execute_reply": "2022-03-13T16:33:25.464666Z",
          "shell.execute_reply.started": "2022-03-13T16:21:25.735022Z"
        },
        "hidden": true,
        "papermill": {
          "duration": 0.102939,
          "end_time": "2022-03-13T16:33:25.464891",
          "exception": false,
          "start_time": "2022-03-13T16:33:25.361952",
          "status": "completed"
        },
        "tags": [],
        "id": "9424f2ef"
      },
      "outputs": [],
      "source": [
        "df.drop(['CustomerId', 'Surname'], axis=1, inplace=True)"
      ]
    },
    {
      "cell_type": "code",
      "execution_count": 15,
      "id": "16c0d342",
      "metadata": {
        "cell_style": "split",
        "execution": {
          "iopub.execute_input": "2022-03-13T16:33:25.655680Z",
          "iopub.status.busy": "2022-03-13T16:33:25.654629Z",
          "iopub.status.idle": "2022-03-13T16:33:25.924277Z",
          "shell.execute_reply": "2022-03-13T16:33:25.923683Z",
          "shell.execute_reply.started": "2022-03-13T16:21:25.741994Z"
        },
        "hidden": true,
        "id": "16c0d342",
        "outputId": "acb57294-c465-4c59-800e-688f373a4036",
        "papermill": {
          "duration": 0.363131,
          "end_time": "2022-03-13T16:33:25.924440",
          "exception": false,
          "start_time": "2022-03-13T16:33:25.561309",
          "status": "completed"
        },
        "tags": [],
        "colab": {
          "base_uri": "https://localhost:8080/",
          "height": 485
        }
      },
      "outputs": [
        {
          "output_type": "stream",
          "name": "stdout",
          "text": [
            "0    7963\n",
            "1    2037\n",
            "Name: Exited, dtype: int64\n"
          ]
        },
        {
          "output_type": "display_data",
          "data": {
            "text/plain": [
              "<Figure size 640x480 with 1 Axes>"
            ],
            "image/png": "[encoded data removed]"
          },
          "metadata": {}
        }
      ],
      "source": [
        "print(df.Exited.value_counts())\n",
        "sns.countplot(df[\"Exited\"]);"
      ]
    },
    {
      "cell_type": "code",
      "execution_count": 16,
      "id": "d2b7aad9",
      "metadata": {
        "cell_style": "split",
        "execution": {
          "iopub.execute_input": "2022-03-13T16:33:26.101477Z",
          "iopub.status.busy": "2022-03-13T16:33:26.100676Z",
          "iopub.status.idle": "2022-03-13T16:33:28.863449Z",
          "shell.execute_reply": "2022-03-13T16:33:28.864284Z",
          "shell.execute_reply.started": "2022-03-13T16:21:25.956328Z"
        },
        "hidden": true,
        "papermill": {
          "duration": 2.853495,
          "end_time": "2022-03-13T16:33:28.864557",
          "exception": false,
          "start_time": "2022-03-13T16:33:26.011062",
          "status": "completed"
        },
        "tags": [],
        "colab": {
          "base_uri": "https://localhost:8080/",
          "height": 1000
        },
        "id": "d2b7aad9",
        "outputId": "10701a1f-9948-4175-a6b2-329c4220b6fb"
      },
      "outputs": [
        {
          "output_type": "display_data",
          "data": {
            "text/plain": [
              "<Figure size 1500x1200 with 12 Axes>"
            ],
            "image/png": "[encoded data removed]"
          },
          "metadata": {}
        }
      ],
      "source": [
        "df.hist(figsize=(15, 12), bins=15);\n"
      ]
    },
    {
      "cell_type": "code",
      "execution_count": 17,
      "id": "8935dc51",
      "metadata": {
        "execution": {
          "iopub.execute_input": "2022-03-13T16:33:29.072637Z",
          "iopub.status.busy": "2022-03-13T16:33:29.068784Z",
          "iopub.status.idle": "2022-03-13T16:33:30.076333Z",
          "shell.execute_reply": "2022-03-13T16:33:30.077406Z",
          "shell.execute_reply.started": "2022-03-13T16:21:27.722538Z"
        },
        "hidden": true,
        "papermill": {
          "duration": 1.120286,
          "end_time": "2022-03-13T16:33:30.077627",
          "exception": false,
          "start_time": "2022-03-13T16:33:28.957341",
          "status": "completed"
        },
        "tags": [],
        "colab": {
          "base_uri": "https://localhost:8080/",
          "height": 1000
        },
        "id": "8935dc51",
        "outputId": "a2d9e916-9acc-4c75-946a-b625e1eeefb2"
      },
      "outputs": [
        {
          "output_type": "display_data",
          "data": {
            "text/plain": [
              "<Figure size 1600x1200 with 4 Axes>"
            ],
            "image/png": "[encoded data removed]"
          },
          "metadata": {}
        }
      ],
      "source": [
        "cat_list = [\"Gender\", \"HasCrCard\", \"IsActiveMember\", \"Geography\"]\n",
        "index = 0\n",
        "plt.figure(figsize=(16, 12))\n",
        "for i in cat_list:\n",
        "    index += 1\n",
        "    plt.subplot(2, 2, index)\n",
        "    sns.countplot(data=df, x=i, hue=\"Exited\")"
      ]
    },
    {
      "cell_type": "code",
      "execution_count": null,
      "id": "fbae8ffc",
      "metadata": {
        "cell_style": "split",
        "execution": {
          "iopub.execute_input": "2022-03-13T16:33:30.264385Z",
          "iopub.status.busy": "2022-03-13T16:33:30.263719Z",
          "iopub.status.idle": "2022-03-13T16:33:33.004666Z",
          "shell.execute_reply": "2022-03-13T16:33:33.005317Z",
          "shell.execute_reply.started": "2022-03-13T16:21:28.591903Z"
        },
        "hidden": true,
        "papermill": {
          "duration": 2.837944,
          "end_time": "2022-03-13T16:33:33.005521",
          "exception": false,
          "start_time": "2022-03-13T16:33:30.167577",
          "status": "completed"
        },
        "tags": [],
        "id": "fbae8ffc",
        "outputId": "72cf77c6-1c38-4a9b-83ba-1c21ee8e52ed"
      },
      "outputs": [
        {
          "data": {
            "image/png": "[encoded data removed]",
            "text/plain": [
              "<Figure size 2000x700 with 1 Axes>"
            ]
          },
          "metadata": {},
          "output_type": "display_data"
        }
      ],
      "source": [
        "plt.figure(figsize=(20, 7))\n",
        "sns.countplot(x='Age', hue='Exited', data=df)\n",
        "plt.show()"
      ]
    },
    {
      "cell_type": "code",
      "execution_count": 18,
      "id": "565d484c",
      "metadata": {
        "cell_style": "center",
        "execution": {
          "iopub.execute_input": "2022-03-13T16:33:33.194457Z",
          "iopub.status.busy": "2022-03-13T16:33:33.193074Z",
          "iopub.status.idle": "2022-03-13T16:33:34.158751Z",
          "shell.execute_reply": "2022-03-13T16:33:34.159352Z",
          "shell.execute_reply.started": "2022-03-13T16:21:30.456913Z"
        },
        "hidden": true,
        "id": "565d484c",
        "outputId": "1c4f96a5-9492-46b9-e5a6-0fb512d34fb8",
        "papermill": {
          "duration": 1.063056,
          "end_time": "2022-03-13T16:33:34.159644",
          "exception": false,
          "start_time": "2022-03-13T16:33:33.096588",
          "status": "completed"
        },
        "tags": [],
        "colab": {
          "base_uri": "https://localhost:8080/",
          "height": 551
        }
      },
      "outputs": [
        {
          "output_type": "display_data",
          "data": {
            "text/plain": [
              "<Figure size 1200x500 with 2 Axes>"
            ],
            "image/png": "[encoded data removed]"
          },
          "metadata": {}
        }
      ],
      "source": [
        "plt.figure(figsize=(12, 5))\n",
        "sns.heatmap(df.corr(numeric_only=True),\n",
        "            vmin=-1,\n",
        "            vmax= 1,\n",
        "            cmap= 'YlOrRd',\n",
        "            linewidths=.12,\n",
        "            linecolor='white',\n",
        "            fmt='.2g',\n",
        "            square=True);"
      ]
    },
    {
      "cell_type": "code",
      "execution_count": 19,
      "id": "e82f32db",
      "metadata": {
        "cell_style": "center",
        "execution": {
          "iopub.execute_input": "2022-03-13T16:33:34.352846Z",
          "iopub.status.busy": "2022-03-13T16:33:34.351900Z",
          "iopub.status.idle": "2022-03-13T16:33:34.671165Z",
          "shell.execute_reply": "2022-03-13T16:33:34.670619Z",
          "shell.execute_reply.started": "2022-03-13T16:21:31.186653Z"
        },
        "hidden": true,
        "id": "e82f32db",
        "outputId": "0a2489f3-8552-40a6-a2c1-44b63075a66b",
        "papermill": {
          "duration": 0.417058,
          "end_time": "2022-03-13T16:33:34.671350",
          "exception": false,
          "start_time": "2022-03-13T16:33:34.254292",
          "status": "completed"
        },
        "tags": [],
        "colab": {
          "base_uri": "https://localhost:8080/",
          "height": 487
        }
      },
      "outputs": [
        {
          "output_type": "display_data",
          "data": {
            "text/plain": [
              "<Figure size 800x500 with 1 Axes>"
            ],
            "image/png": "[encoded data removed]"
          },
          "metadata": {}
        }
      ],
      "source": [
        "\n",
        "# Encode categorical variables to numeric values\n",
        "label_encoder = LabelEncoder()\n",
        "df['Geography'] = label_encoder.fit_transform(df['Geography'])\n",
        "df['Gender'] = label_encoder.fit_transform(df['Gender'])\n",
        "\n",
        "# Calculate correlations with 'Exited' after converting categorical variables to numeric\n",
        "correlation_data = df.corr()['Exited'][:-1].sort_values()\n",
        "\n",
        "plt.figure(figsize=(8, 5))\n",
        "correlation_data.plot(kind='barh', colormap='viridis')\n",
        "plt.xlabel('Correlation')\n",
        "plt.ylabel('Features')\n",
        "plt.title('Correlated features with `Exited`')\n",
        "plt.show()\n"
      ]
    },
    {
      "cell_type": "code",
      "execution_count": 20,
      "id": "a54d8543",
      "metadata": {
        "execution": {
          "iopub.execute_input": "2022-03-13T16:33:34.867934Z",
          "iopub.status.busy": "2022-03-13T16:33:34.867279Z",
          "iopub.status.idle": "2022-03-13T16:33:34.885705Z",
          "shell.execute_reply": "2022-03-13T16:33:34.886358Z",
          "shell.execute_reply.started": "2022-03-13T16:21:31.571830Z"
        },
        "hidden": true,
        "papermill": {
          "duration": 0.121124,
          "end_time": "2022-03-13T16:33:34.886514",
          "exception": false,
          "start_time": "2022-03-13T16:33:34.765390",
          "status": "completed"
        },
        "tags": [],
        "colab": {
          "base_uri": "https://localhost:8080/",
          "height": 206
        },
        "id": "a54d8543",
        "outputId": "bbdb5502-f95e-465b-94d6-3b3989df9cb4"
      },
      "outputs": [
        {
          "output_type": "execute_result",
          "data": {
            "text/plain": [
              "   RowNumber  CreditScore  Geography  Gender  Age  Tenure    Balance  \\\n",
              "0          1          619          0       0   42       2       0.00   \n",
              "1          2          608          2       0   41       1   83807.86   \n",
              "2          3          502          0       0   42       8  159660.80   \n",
              "3          4          699          0       0   39       1       0.00   \n",
              "4          5          850          2       0   43       2  125510.82   \n",
              "\n",
              "   NumOfProducts  HasCrCard  IsActiveMember  EstimatedSalary  Exited  \n",
              "0              1          1               1        101348.88       1  \n",
              "1              1          0               1        112542.58       0  \n",
              "2              3          1               0        113931.57       1  \n",
              "3              2          0               0         93826.63       0  \n",
              "4              1          1               1         79084.10       0  "
            ],
            "text/html": [
              "\n",
              "  <div id=\"df-d1eae3f2-b60e-4b88-82fb-aaa74f552e15\" class=\"colab-df-container\">\n",
              "    <div>\n",
              "<style scoped>\n",
              "    .dataframe tbody tr th:only-of-type {\n",
              "        vertical-align: middle;\n",
              "    }\n",
              "\n",
              "    .dataframe tbody tr th {\n",
              "        vertical-align: top;\n",
              "    }\n",
              "\n",
              "    .dataframe thead th {\n",
              "        text-align: right;\n",
              "    }\n",
              "</style>\n",
              "<table border=\"1\" class=\"dataframe\">\n",
              "  <thead>\n",
              "    <tr style=\"text-align: right;\">\n",
              "      <th></th>\n",
              "      <th>RowNumber</th>\n",
              "      <th>CreditScore</th>\n",
              "      <th>Geography</th>\n",
              "      <th>Gender</th>\n",
              "      <th>Age</th>\n",
              "      <th>Tenure</th>\n",
              "      <th>Balance</th>\n",
              "      <th>NumOfProducts</th>\n",
              "      <th>HasCrCard</th>\n",
              "      <th>IsActiveMember</th>\n",
              "      <th>EstimatedSalary</th>\n",
              "      <th>Exited</th>\n",
              "    </tr>\n",
              "  </thead>\n",
              "  <tbody>\n",
              "    <tr>\n",
              "      <th>0</th>\n",
              "      <td>1</td>\n",
              "      <td>619</td>\n",
              "      <td>0</td>\n",
              "      <td>0</td>\n",
              "      <td>42</td>\n",
              "      <td>2</td>\n",
              "      <td>0.00</td>\n",
              "      <td>1</td>\n",
              "      <td>1</td>\n",
              "      <td>1</td>\n",
              "      <td>101348.88</td>\n",
              "      <td>1</td>\n",
              "    </tr>\n",
              "    <tr>\n",
              "      <th>1</th>\n",
              "      <td>2</td>\n",
              "      <td>608</td>\n",
              "      <td>2</td>\n",
              "      <td>0</td>\n",
              "      <td>41</td>\n",
              "      <td>1</td>\n",
              "      <td>83807.86</td>\n",
              "      <td>1</td>\n",
              "      <td>0</td>\n",
              "      <td>1</td>\n",
              "      <td>112542.58</td>\n",
              "      <td>0</td>\n",
              "    </tr>\n",
              "    <tr>\n",
              "      <th>2</th>\n",
              "      <td>3</td>\n",
              "      <td>502</td>\n",
              "      <td>0</td>\n",
              "      <td>0</td>\n",
              "      <td>42</td>\n",
              "      <td>8</td>\n",
              "      <td>159660.80</td>\n",
              "      <td>3</td>\n",
              "      <td>1</td>\n",
              "      <td>0</td>\n",
              "      <td>113931.57</td>\n",
              "      <td>1</td>\n",
              "    </tr>\n",
              "    <tr>\n",
              "      <th>3</th>\n",
              "      <td>4</td>\n",
              "      <td>699</td>\n",
              "      <td>0</td>\n",
              "      <td>0</td>\n",
              "      <td>39</td>\n",
              "      <td>1</td>\n",
              "      <td>0.00</td>\n",
              "      <td>2</td>\n",
              "      <td>0</td>\n",
              "      <td>0</td>\n",
              "      <td>93826.63</td>\n",
              "      <td>0</td>\n",
              "    </tr>\n",
              "    <tr>\n",
              "      <th>4</th>\n",
              "      <td>5</td>\n",
              "      <td>850</td>\n",
              "      <td>2</td>\n",
              "      <td>0</td>\n",
              "      <td>43</td>\n",
              "      <td>2</td>\n",
              "      <td>125510.82</td>\n",
              "      <td>1</td>\n",
              "      <td>1</td>\n",
              "      <td>1</td>\n",
              "      <td>79084.10</td>\n",
              "      <td>0</td>\n",
              "    </tr>\n",
              "  </tbody>\n",
              "</table>\n",
              "</div>\n",
              "    <div class=\"colab-df-buttons\">\n",
              "\n",
              "  <div class=\"colab-df-container\">\n",
              "    <button class=\"colab-df-convert\" onclick=\"convertToInteractive('df-d1eae3f2-b60e-4b88-82fb-aaa74f552e15')\"\n",
              "            title=\"Convert this dataframe to an interactive table.\"\n",
              "            style=\"display:none;\">\n",
              "\n",
              "  <svg xmlns=\"http://www.w3.org/2000/svg\" height=\"24px\" viewBox=\"0 -960 960 960\">\n",
              "    <path d=\"M120-120v-720h720v720H120Zm60-500h600v-160H180v160Zm220 220h160v-160H400v160Zm0 220h160v-160H400v160ZM180-400h160v-160H180v160Zm440 0h160v-160H620v160ZM180-180h160v-160H180v160Zm440 0h160v-160H620v160Z\"/>\n",
              "  </svg>\n",
              "    </button>\n",
              "\n",
              "  <style>\n",
              "    .colab-df-container {\n",
              "      display:flex;\n",
              "      gap: 12px;\n",
              "    }\n",
              "\n",
              "    .colab-df-convert {\n",
              "      background-color: #E8F0FE;\n",
              "      border: none;\n",
              "      border-radius: 50%;\n",
              "      cursor: pointer;\n",
              "      display: none;\n",
              "      fill: #1967D2;\n",
              "      height: 32px;\n",
              "      padding: 0 0 0 0;\n",
              "      width: 32px;\n",
              "    }\n",
              "\n",
              "    .colab-df-convert:hover {\n",
              "      background-color: #E2EBFA;\n",
              "      box-shadow: 0px 1px 2px rgba(60, 64, 67, 0.3), 0px 1px 3px 1px rgba(60, 64, 67, 0.15);\n",
              "      fill: #174EA6;\n",
              "    }\n",
              "\n",
              "    .colab-df-buttons div {\n",
              "      margin-bottom: 4px;\n",
              "    }\n",
              "\n",
              "    [theme=dark] .colab-df-convert {\n",
              "      background-color: #3B4455;\n",
              "      fill: #D2E3FC;\n",
              "    }\n",
              "\n",
              "    [theme=dark] .colab-df-convert:hover {\n",
              "      background-color: #434B5C;\n",
              "      box-shadow: 0px 1px 3px 1px rgba(0, 0, 0, 0.15);\n",
              "      filter: drop-shadow(0px 1px 2px rgba(0, 0, 0, 0.3));\n",
              "      fill: #FFFFFF;\n",
              "    }\n",
              "  </style>\n",
              "\n",
              "    <script>\n",
              "      const buttonEl =\n",
              "        document.querySelector('#df-d1eae3f2-b60e-4b88-82fb-aaa74f552e15 button.colab-df-convert');\n",
              "      buttonEl.style.display =\n",
              "        google.colab.kernel.accessAllowed ? 'block' : 'none';\n",
              "\n",
              "      async function convertToInteractive(key) {\n",
              "        const element = document.querySelector('#df-d1eae3f2-b60e-4b88-82fb-aaa74f552e15');\n",
              "        const dataTable =\n",
              "          await google.colab.kernel.invokeFunction('convertToInteractive',\n",
              "                                                    [key], {});\n",
              "        if (!dataTable) return;\n",
              "\n",
              "        const docLinkHtml = 'Like what you see? Visit the ' +\n",
              "          '<a target=\"_blank\" href=https://colab.research.google.com/notebooks/data_table.ipynb>data table notebook</a>'\n",
              "          + ' to learn more about interactive tables.';\n",
              "        element.innerHTML = '';\n",
              "        dataTable['output_type'] = 'display_data';\n",
              "        await google.colab.output.renderOutput(dataTable, element);\n",
              "        const docLink = document.createElement('div');\n",
              "        docLink.innerHTML = docLinkHtml;\n",
              "        element.appendChild(docLink);\n",
              "      }\n",
              "    </script>\n",
              "  </div>\n",
              "\n",
              "\n",
              "<div id=\"df-67e8b340-059b-4a0f-b119-94113768088f\">\n",
              "  <button class=\"colab-df-quickchart\" onclick=\"quickchart('df-67e8b340-059b-4a0f-b119-94113768088f')\"\n",
              "            title=\"Suggest charts.\"\n",
              "            style=\"display:none;\">\n",
              "\n",
              "<svg xmlns=\"http://www.w3.org/2000/svg\" height=\"24px\"viewBox=\"0 0 24 24\"\n",
              "     width=\"24px\">\n",
              "    <g>\n",
              "        <path d=\"M19 3H5c-1.1 0-2 .9-2 2v14c0 1.1.9 2 2 2h14c1.1 0 2-.9 2-2V5c0-1.1-.9-2-2-2zM9 17H7v-7h2v7zm4 0h-2V7h2v10zm4 0h-2v-4h2v4z\"/>\n",
              "    </g>\n",
              "</svg>\n",
              "  </button>\n",
              "\n",
              "<style>\n",
              "  .colab-df-quickchart {\n",
              "      --bg-color: #E8F0FE;\n",
              "      --fill-color: #1967D2;\n",
              "      --hover-bg-color: #E2EBFA;\n",
              "      --hover-fill-color: #174EA6;\n",
              "      --disabled-fill-color: #AAA;\n",
              "      --disabled-bg-color: #DDD;\n",
              "  }\n",
              "\n",
              "  [theme=dark] .colab-df-quickchart {\n",
              "      --bg-color: #3B4455;\n",
              "      --fill-color: #D2E3FC;\n",
              "      --hover-bg-color: #434B5C;\n",
              "      --hover-fill-color: #FFFFFF;\n",
              "      --disabled-bg-color: #3B4455;\n",
              "      --disabled-fill-color: #666;\n",
              "  }\n",
              "\n",
              "  .colab-df-quickchart {\n",
              "    background-color: var(--bg-color);\n",
              "    border: none;\n",
              "    border-radius: 50%;\n",
              "    cursor: pointer;\n",
              "    display: none;\n",
              "    fill: var(--fill-color);\n",
              "    height: 32px;\n",
              "    padding: 0;\n",
              "    width: 32px;\n",
              "  }\n",
              "\n",
              "  .colab-df-quickchart:hover {\n",
              "    background-color: var(--hover-bg-color);\n",
              "    box-shadow: 0 1px 2px rgba(60, 64, 67, 0.3), 0 1px 3px 1px rgba(60, 64, 67, 0.15);\n",
              "    fill: var(--button-hover-fill-color);\n",
              "  }\n",
              "\n",
              "  .colab-df-quickchart-complete:disabled,\n",
              "  .colab-df-quickchart-complete:disabled:hover {\n",
              "    background-color: var(--disabled-bg-color);\n",
              "    fill: var(--disabled-fill-color);\n",
              "    box-shadow: none;\n",
              "  }\n",
              "\n",
              "  .colab-df-spinner {\n",
              "    border: 2px solid var(--fill-color);\n",
              "    border-color: transparent;\n",
              "    border-bottom-color: var(--fill-color);\n",
              "    animation:\n",
              "      spin 1s steps(1) infinite;\n",
              "  }\n",
              "\n",
              "  @keyframes spin {\n",
              "    0% {\n",
              "      border-color: transparent;\n",
              "      border-bottom-color: var(--fill-color);\n",
              "      border-left-color: var(--fill-color);\n",
              "    }\n",
              "    20% {\n",
              "      border-color: transparent;\n",
              "      border-left-color: var(--fill-color);\n",
              "      border-top-color: var(--fill-color);\n",
              "    }\n",
              "    30% {\n",
              "      border-color: transparent;\n",
              "      border-left-color: var(--fill-color);\n",
              "      border-top-color: var(--fill-color);\n",
              "      border-right-color: var(--fill-color);\n",
              "    }\n",
              "    40% {\n",
              "      border-color: transparent;\n",
              "      border-right-color: var(--fill-color);\n",
              "      border-top-color: var(--fill-color);\n",
              "    }\n",
              "    60% {\n",
              "      border-color: transparent;\n",
              "      border-right-color: var(--fill-color);\n",
              "    }\n",
              "    80% {\n",
              "      border-color: transparent;\n",
              "      border-right-color: var(--fill-color);\n",
              "      border-bottom-color: var(--fill-color);\n",
              "    }\n",
              "    90% {\n",
              "      border-color: transparent;\n",
              "      border-bottom-color: var(--fill-color);\n",
              "    }\n",
              "  }\n",
              "</style>\n",
              "\n",
              "  <script>\n",
              "    async function quickchart(key) {\n",
              "      const quickchartButtonEl =\n",
              "        document.querySelector('#' + key + ' button');\n",
              "      quickchartButtonEl.disabled = true;  // To prevent multiple clicks.\n",
              "      quickchartButtonEl.classList.add('colab-df-spinner');\n",
              "      try {\n",
              "        const charts = await google.colab.kernel.invokeFunction(\n",
              "            'suggestCharts', [key], {});\n",
              "      } catch (error) {\n",
              "        console.error('Error during call to suggestCharts:', error);\n",
              "      }\n",
              "      quickchartButtonEl.classList.remove('colab-df-spinner');\n",
              "      quickchartButtonEl.classList.add('colab-df-quickchart-complete');\n",
              "    }\n",
              "    (() => {\n",
              "      let quickchartButtonEl =\n",
              "        document.querySelector('#df-67e8b340-059b-4a0f-b119-94113768088f button');\n",
              "      quickchartButtonEl.style.display =\n",
              "        google.colab.kernel.accessAllowed ? 'block' : 'none';\n",
              "    })();\n",
              "  </script>\n",
              "</div>\n",
              "    </div>\n",
              "  </div>\n"
            ]
          },
          "metadata": {},
          "execution_count": 20
        }
      ],
      "source": [
        "df = pd.get_dummies(df, drop_first=True)\n",
        "df.head()"
      ]
    },
    {
      "cell_type": "markdown",
      "id": "9fba6794",
      "metadata": {
        "heading_collapsed": true,
        "papermill": {
          "duration": 0.094145,
          "end_time": "2022-03-13T16:33:35.076316",
          "exception": false,
          "start_time": "2022-03-13T16:33:34.982171",
          "status": "completed"
        },
        "tags": [],
        "id": "9fba6794"
      },
      "source": [
        "## Preprocessing of Data"
      ]
    },
    {
      "cell_type": "code",
      "execution_count": 21,
      "id": "dddc44cc",
      "metadata": {
        "execution": {
          "iopub.execute_input": "2022-03-13T16:33:35.272871Z",
          "iopub.status.busy": "2022-03-13T16:33:35.270621Z",
          "iopub.status.idle": "2022-03-13T16:33:35.273647Z",
          "shell.execute_reply": "2022-03-13T16:33:35.274153Z",
          "shell.execute_reply.started": "2022-03-13T16:21:31.603359Z"
        },
        "hidden": true,
        "id": "dddc44cc",
        "papermill": {
          "duration": 0.104605,
          "end_time": "2022-03-13T16:33:35.274363",
          "exception": false,
          "start_time": "2022-03-13T16:33:35.169758",
          "status": "completed"
        },
        "tags": []
      },
      "outputs": [],
      "source": [
        "from sklearn.model_selection import train_test_split\n",
        "from sklearn.preprocessing import MinMaxScaler"
      ]
    },
    {
      "cell_type": "code",
      "execution_count": 22,
      "id": "e5e7c2be",
      "metadata": {
        "cell_style": "center",
        "execution": {
          "iopub.execute_input": "2022-03-13T16:33:35.469952Z",
          "iopub.status.busy": "2022-03-13T16:33:35.468859Z",
          "iopub.status.idle": "2022-03-13T16:33:35.483206Z",
          "shell.execute_reply": "2022-03-13T16:33:35.483780Z",
          "shell.execute_reply.started": "2022-03-13T16:21:31.609288Z"
        },
        "hidden": true,
        "id": "e5e7c2be",
        "papermill": {
          "duration": 0.114044,
          "end_time": "2022-03-13T16:33:35.483944",
          "exception": false,
          "start_time": "2022-03-13T16:33:35.369900",
          "status": "completed"
        },
        "tags": []
      },
      "outputs": [],
      "source": [
        "X = df.drop('Exited', axis=1)\n",
        "y = df['Exited'].values\n",
        "seed = 42\n",
        "X_train, X_test, y_train, y_test = train_test_split(X,\n",
        "                                                    y,\n",
        "                                                    stratify=y,\n",
        "                                                    test_size=0.1,\n",
        "                                                    random_state=seed)\n"
      ]
    },
    {
      "cell_type": "code",
      "execution_count": 23,
      "id": "2a53d542",
      "metadata": {
        "cell_style": "split",
        "execution": {
          "iopub.execute_input": "2022-03-13T16:33:35.683341Z",
          "iopub.status.busy": "2022-03-13T16:33:35.682185Z",
          "iopub.status.idle": "2022-03-13T16:33:35.684521Z",
          "shell.execute_reply": "2022-03-13T16:33:35.685312Z",
          "shell.execute_reply.started": "2022-03-13T16:21:31.629324Z"
        },
        "hidden": true,
        "papermill": {
          "duration": 0.103984,
          "end_time": "2022-03-13T16:33:35.685507",
          "exception": false,
          "start_time": "2022-03-13T16:33:35.581523",
          "status": "completed"
        },
        "tags": [],
        "id": "2a53d542"
      },
      "outputs": [],
      "source": [
        "scaler = MinMaxScaler()\n"
      ]
    },
    {
      "cell_type": "code",
      "execution_count": 24,
      "id": "34957b29",
      "metadata": {
        "cell_style": "split",
        "execution": {
          "iopub.execute_input": "2022-03-13T16:33:35.884592Z",
          "iopub.status.busy": "2022-03-13T16:33:35.883824Z",
          "iopub.status.idle": "2022-03-13T16:33:35.894062Z",
          "shell.execute_reply": "2022-03-13T16:33:35.893369Z",
          "shell.execute_reply.started": "2022-03-13T16:21:31.635521Z"
        },
        "hidden": true,
        "id": "34957b29",
        "papermill": {
          "duration": 0.112805,
          "end_time": "2022-03-13T16:33:35.894270",
          "exception": false,
          "start_time": "2022-03-13T16:33:35.781465",
          "status": "completed"
        },
        "tags": []
      },
      "outputs": [],
      "source": [
        "X_train = scaler.fit_transform(X_train)\n",
        "X_test = scaler.transform(X_test)"
      ]
    },
    {
      "cell_type": "markdown",
      "id": "8d648baa",
      "metadata": {
        "id": "8d648baa",
        "papermill": {
          "duration": 0.095539,
          "end_time": "2022-03-13T16:33:36.087008",
          "exception": false,
          "start_time": "2022-03-13T16:33:35.991469",
          "status": "completed"
        },
        "tags": []
      },
      "source": [
        "## Modelling & Model Performance"
      ]
    },
    {
      "cell_type": "markdown",
      "id": "25b7159e",
      "metadata": {
        "heading_collapsed": true,
        "papermill": {
          "duration": 0.094138,
          "end_time": "2022-03-13T16:33:36.275564",
          "exception": false,
          "start_time": "2022-03-13T16:33:36.181426",
          "status": "completed"
        },
        "tags": [],
        "id": "25b7159e"
      },
      "source": [
        "### without class_weigth"
      ]
    },
    {
      "cell_type": "code",
      "execution_count": 25,
      "id": "543725a6",
      "metadata": {
        "execution": {
          "iopub.execute_input": "2022-03-13T16:33:36.472812Z",
          "iopub.status.busy": "2022-03-13T16:33:36.471898Z",
          "iopub.status.idle": "2022-03-13T16:33:36.475552Z",
          "shell.execute_reply": "2022-03-13T16:33:36.476061Z",
          "shell.execute_reply.started": "2022-03-13T16:21:31.651599Z"
        },
        "papermill": {
          "duration": 0.107901,
          "end_time": "2022-03-13T16:33:36.476257",
          "exception": false,
          "start_time": "2022-03-13T16:33:36.368356",
          "status": "completed"
        },
        "tags": [],
        "colab": {
          "base_uri": "https://localhost:8080/"
        },
        "id": "543725a6",
        "outputId": "f191d60f-d18f-4cc2-a21f-ddd5d11f3bce"
      },
      "outputs": [
        {
          "output_type": "execute_result",
          "data": {
            "text/plain": [
              "(9000, 11)"
            ]
          },
          "metadata": {},
          "execution_count": 25
        }
      ],
      "source": [
        "X_train.shape"
      ]
    },
    {
      "cell_type": "code",
      "execution_count": 26,
      "id": "889c1bc7",
      "metadata": {
        "cell_style": "split",
        "execution": {
          "iopub.execute_input": "2022-03-13T16:33:36.836172Z",
          "iopub.status.busy": "2022-03-13T16:33:36.835150Z",
          "iopub.status.idle": "2022-03-13T16:33:39.827581Z",
          "shell.execute_reply": "2022-03-13T16:33:39.828181Z",
          "shell.execute_reply.started": "2022-03-13T16:24:32.479661Z"
        },
        "hidden": true,
        "papermill": {
          "duration": 3.164967,
          "end_time": "2022-03-13T16:33:39.828389",
          "exception": false,
          "start_time": "2022-03-13T16:33:36.663422",
          "status": "completed"
        },
        "tags": [],
        "id": "889c1bc7"
      },
      "outputs": [],
      "source": [
        "from tensorflow.keras.optimizers import Adam\n",
        "model = Sequential()\n",
        "\n",
        "tf.random.set_seed(seed)\n",
        "\n",
        "model.add(Dense(16, activation=\"relu\"))\n",
        "model.add(Dense(8, activation=\"relu\"))\n",
        "model.add(Dense(1, activation=\"sigmoid\"))\n",
        "\n",
        "opt = Adam(learning_rate=0.001)\n",
        "model.compile(optimizer=opt,\n",
        "              loss=\"binary_crossentropy\",\n",
        "              metrics=[\"Recall\"])"
      ]
    },
    {
      "cell_type": "code",
      "execution_count": 28,
      "id": "3fab7fab",
      "metadata": {
        "cell_style": "split",
        "execution": {
          "iopub.execute_input": "2022-03-13T16:33:40.027439Z",
          "iopub.status.busy": "2022-03-13T16:33:40.026406Z",
          "iopub.status.idle": "2022-03-13T16:33:40.032306Z",
          "shell.execute_reply": "2022-03-13T16:33:40.031687Z",
          "shell.execute_reply.started": "2022-03-13T16:24:38.959677Z"
        },
        "hidden": true,
        "papermill": {
          "duration": 0.106903,
          "end_time": "2022-03-13T16:33:40.032448",
          "exception": false,
          "start_time": "2022-03-13T16:33:39.925545",
          "status": "completed"
        },
        "tags": [],
        "id": "3fab7fab"
      },
      "outputs": [],
      "source": [
        "early_stop = EarlyStopping(monitor=\"val_loss\",\n",
        "                           mode=\"auto\",\n",
        "                           verbose=1,\n",
        "                           patience=15)"
      ]
    },
    {
      "cell_type": "code",
      "execution_count": 29,
      "id": "a0cd9726",
      "metadata": {
        "cell_style": "center",
        "execution": {
          "iopub.execute_input": "2022-03-13T16:33:40.234604Z",
          "iopub.status.busy": "2022-03-13T16:33:40.233543Z",
          "iopub.status.idle": "2022-03-13T16:34:22.893762Z",
          "shell.execute_reply": "2022-03-13T16:34:22.894379Z",
          "shell.execute_reply.started": "2022-03-13T16:24:40.410645Z"
        },
        "hidden": true,
        "papermill": {
          "duration": 42.765376,
          "end_time": "2022-03-13T16:34:22.894588",
          "exception": false,
          "start_time": "2022-03-13T16:33:40.129212",
          "status": "completed"
        },
        "scrolled": true,
        "tags": [],
        "colab": {
          "base_uri": "https://localhost:8080/"
        },
        "id": "a0cd9726",
        "outputId": "aca0cef2-b858-4c5e-d654-caf261254da3"
      },
      "outputs": [
        {
          "output_type": "stream",
          "name": "stdout",
          "text": [
            "Epoch 1/200\n",
            "64/64 [==============================] - 2s 7ms/step - loss: 0.5064 - recall: 0.0000e+00 - val_loss: 0.4884 - val_recall: 0.0000e+00\n",
            "Epoch 2/200\n",
            "64/64 [==============================] - 0s 3ms/step - loss: 0.4910 - recall: 0.0000e+00 - val_loss: 0.4715 - val_recall: 0.0055\n",
            "Epoch 3/200\n",
            "64/64 [==============================] - 0s 3ms/step - loss: 0.4800 - recall: 0.0012 - val_loss: 0.4589 - val_recall: 0.0055\n",
            "Epoch 4/200\n",
            "64/64 [==============================] - 0s 3ms/step - loss: 0.4717 - recall: 0.0182 - val_loss: 0.4493 - val_recall: 0.0221\n",
            "Epoch 5/200\n",
            "64/64 [==============================] - 0s 3ms/step - loss: 0.4628 - recall: 0.0557 - val_loss: 0.4368 - val_recall: 0.1326\n",
            "Epoch 6/200\n",
            "64/64 [==============================] - 0s 3ms/step - loss: 0.4533 - recall: 0.0944 - val_loss: 0.4273 - val_recall: 0.1326\n",
            "Epoch 7/200\n",
            "64/64 [==============================] - 0s 3ms/step - loss: 0.4458 - recall: 0.1265 - val_loss: 0.4211 - val_recall: 0.2376\n",
            "Epoch 8/200\n",
            "64/64 [==============================] - 0s 3ms/step - loss: 0.4401 - recall: 0.1501 - val_loss: 0.4165 - val_recall: 0.2265\n",
            "Epoch 9/200\n",
            "64/64 [==============================] - 0s 3ms/step - loss: 0.4360 - recall: 0.1677 - val_loss: 0.4149 - val_recall: 0.2928\n",
            "Epoch 10/200\n",
            "64/64 [==============================] - 0s 3ms/step - loss: 0.4332 - recall: 0.1979 - val_loss: 0.4098 - val_recall: 0.2873\n",
            "Epoch 11/200\n",
            "64/64 [==============================] - 0s 3ms/step - loss: 0.4310 - recall: 0.1913 - val_loss: 0.4080 - val_recall: 0.2707\n",
            "Epoch 12/200\n",
            "64/64 [==============================] - 0s 3ms/step - loss: 0.4279 - recall: 0.2203 - val_loss: 0.4050 - val_recall: 0.2818\n",
            "Epoch 13/200\n",
            "64/64 [==============================] - 0s 3ms/step - loss: 0.4242 - recall: 0.2191 - val_loss: 0.4052 - val_recall: 0.3646\n",
            "Epoch 14/200\n",
            "64/64 [==============================] - 0s 3ms/step - loss: 0.4208 - recall: 0.2373 - val_loss: 0.3944 - val_recall: 0.2707\n",
            "Epoch 15/200\n",
            "64/64 [==============================] - 0s 3ms/step - loss: 0.4156 - recall: 0.2494 - val_loss: 0.3899 - val_recall: 0.3204\n",
            "Epoch 16/200\n",
            "64/64 [==============================] - 0s 3ms/step - loss: 0.4119 - recall: 0.2639 - val_loss: 0.3852 - val_recall: 0.3260\n",
            "Epoch 17/200\n",
            "64/64 [==============================] - 0s 5ms/step - loss: 0.4073 - recall: 0.2754 - val_loss: 0.3792 - val_recall: 0.2983\n",
            "Epoch 18/200\n",
            "64/64 [==============================] - 0s 4ms/step - loss: 0.4036 - recall: 0.2754 - val_loss: 0.3751 - val_recall: 0.3315\n",
            "Epoch 19/200\n",
            "64/64 [==============================] - 0s 5ms/step - loss: 0.4002 - recall: 0.2912 - val_loss: 0.3735 - val_recall: 0.3978\n",
            "Epoch 20/200\n",
            "64/64 [==============================] - 0s 5ms/step - loss: 0.3969 - recall: 0.3130 - val_loss: 0.3666 - val_recall: 0.3370\n",
            "Epoch 21/200\n",
            "64/64 [==============================] - 0s 5ms/step - loss: 0.3930 - recall: 0.3093 - val_loss: 0.3642 - val_recall: 0.4033\n",
            "Epoch 22/200\n",
            "64/64 [==============================] - 0s 5ms/step - loss: 0.3909 - recall: 0.3099 - val_loss: 0.3589 - val_recall: 0.3812\n",
            "Epoch 23/200\n",
            "64/64 [==============================] - 0s 5ms/step - loss: 0.3882 - recall: 0.3269 - val_loss: 0.3551 - val_recall: 0.3923\n",
            "Epoch 24/200\n",
            "64/64 [==============================] - 0s 5ms/step - loss: 0.3864 - recall: 0.3402 - val_loss: 0.3529 - val_recall: 0.3978\n",
            "Epoch 25/200\n",
            "64/64 [==============================] - 0s 6ms/step - loss: 0.3826 - recall: 0.3414 - val_loss: 0.3493 - val_recall: 0.3978\n",
            "Epoch 26/200\n",
            "64/64 [==============================] - 0s 5ms/step - loss: 0.3814 - recall: 0.3384 - val_loss: 0.3482 - val_recall: 0.4033\n",
            "Epoch 27/200\n",
            "64/64 [==============================] - 0s 3ms/step - loss: 0.3796 - recall: 0.3541 - val_loss: 0.3455 - val_recall: 0.4365\n",
            "Epoch 28/200\n",
            "64/64 [==============================] - 0s 3ms/step - loss: 0.3799 - recall: 0.3541 - val_loss: 0.3420 - val_recall: 0.4309\n",
            "Epoch 29/200\n",
            "64/64 [==============================] - 0s 3ms/step - loss: 0.3762 - recall: 0.3559 - val_loss: 0.3415 - val_recall: 0.4420\n",
            "Epoch 30/200\n",
            "64/64 [==============================] - 0s 3ms/step - loss: 0.3745 - recall: 0.3638 - val_loss: 0.3440 - val_recall: 0.4917\n",
            "Epoch 31/200\n",
            "64/64 [==============================] - 0s 4ms/step - loss: 0.3737 - recall: 0.3638 - val_loss: 0.3365 - val_recall: 0.4365\n",
            "Epoch 32/200\n",
            "64/64 [==============================] - 0s 3ms/step - loss: 0.3725 - recall: 0.3553 - val_loss: 0.3349 - val_recall: 0.4199\n",
            "Epoch 33/200\n",
            "64/64 [==============================] - 0s 3ms/step - loss: 0.3704 - recall: 0.3795 - val_loss: 0.3334 - val_recall: 0.4365\n",
            "Epoch 34/200\n",
            "64/64 [==============================] - 0s 3ms/step - loss: 0.3698 - recall: 0.3717 - val_loss: 0.3312 - val_recall: 0.4530\n",
            "Epoch 35/200\n",
            "64/64 [==============================] - 0s 3ms/step - loss: 0.3700 - recall: 0.3699 - val_loss: 0.3309 - val_recall: 0.4530\n",
            "Epoch 36/200\n",
            "64/64 [==============================] - 0s 3ms/step - loss: 0.3676 - recall: 0.3759 - val_loss: 0.3290 - val_recall: 0.4309\n",
            "Epoch 37/200\n",
            "64/64 [==============================] - 0s 3ms/step - loss: 0.3683 - recall: 0.3789 - val_loss: 0.3285 - val_recall: 0.4641\n",
            "Epoch 38/200\n",
            "64/64 [==============================] - 0s 3ms/step - loss: 0.3669 - recall: 0.3795 - val_loss: 0.3283 - val_recall: 0.4641\n",
            "Epoch 39/200\n",
            "64/64 [==============================] - 0s 3ms/step - loss: 0.3650 - recall: 0.3868 - val_loss: 0.3254 - val_recall: 0.4530\n",
            "Epoch 40/200\n",
            "64/64 [==============================] - 0s 3ms/step - loss: 0.3646 - recall: 0.3862 - val_loss: 0.3269 - val_recall: 0.4530\n",
            "Epoch 41/200\n",
            "64/64 [==============================] - 0s 4ms/step - loss: 0.3644 - recall: 0.3814 - val_loss: 0.3249 - val_recall: 0.4641\n",
            "Epoch 42/200\n",
            "64/64 [==============================] - 0s 3ms/step - loss: 0.3646 - recall: 0.3977 - val_loss: 0.3262 - val_recall: 0.4088\n",
            "Epoch 43/200\n",
            "64/64 [==============================] - 0s 3ms/step - loss: 0.3630 - recall: 0.3923 - val_loss: 0.3233 - val_recall: 0.4696\n",
            "Epoch 44/200\n",
            "64/64 [==============================] - 0s 3ms/step - loss: 0.3630 - recall: 0.3959 - val_loss: 0.3235 - val_recall: 0.4530\n",
            "Epoch 45/200\n",
            "64/64 [==============================] - 0s 3ms/step - loss: 0.3623 - recall: 0.3898 - val_loss: 0.3246 - val_recall: 0.4641\n",
            "Epoch 46/200\n",
            "64/64 [==============================] - 0s 3ms/step - loss: 0.3622 - recall: 0.3886 - val_loss: 0.3233 - val_recall: 0.4586\n",
            "Epoch 47/200\n",
            "64/64 [==============================] - 0s 3ms/step - loss: 0.3613 - recall: 0.4031 - val_loss: 0.3204 - val_recall: 0.4751\n",
            "Epoch 48/200\n",
            "64/64 [==============================] - 0s 3ms/step - loss: 0.3619 - recall: 0.3959 - val_loss: 0.3204 - val_recall: 0.4586\n",
            "Epoch 49/200\n",
            "64/64 [==============================] - 0s 3ms/step - loss: 0.3612 - recall: 0.3947 - val_loss: 0.3230 - val_recall: 0.4254\n",
            "Epoch 50/200\n",
            "64/64 [==============================] - 0s 3ms/step - loss: 0.3602 - recall: 0.3953 - val_loss: 0.3210 - val_recall: 0.4641\n",
            "Epoch 51/200\n",
            "64/64 [==============================] - 0s 3ms/step - loss: 0.3595 - recall: 0.4013 - val_loss: 0.3206 - val_recall: 0.4420\n",
            "Epoch 52/200\n",
            "64/64 [==============================] - 0s 3ms/step - loss: 0.3600 - recall: 0.3898 - val_loss: 0.3237 - val_recall: 0.5083\n",
            "Epoch 53/200\n",
            "64/64 [==============================] - 0s 3ms/step - loss: 0.3595 - recall: 0.4038 - val_loss: 0.3197 - val_recall: 0.4420\n",
            "Epoch 54/200\n",
            "64/64 [==============================] - 0s 4ms/step - loss: 0.3595 - recall: 0.3941 - val_loss: 0.3185 - val_recall: 0.4530\n",
            "Epoch 55/200\n",
            "64/64 [==============================] - 0s 4ms/step - loss: 0.3587 - recall: 0.4001 - val_loss: 0.3192 - val_recall: 0.4530\n",
            "Epoch 56/200\n",
            "64/64 [==============================] - 0s 4ms/step - loss: 0.3582 - recall: 0.4104 - val_loss: 0.3187 - val_recall: 0.4530\n",
            "Epoch 57/200\n",
            "64/64 [==============================] - 0s 3ms/step - loss: 0.3581 - recall: 0.3959 - val_loss: 0.3187 - val_recall: 0.4972\n",
            "Epoch 58/200\n",
            "64/64 [==============================] - 0s 4ms/step - loss: 0.3576 - recall: 0.4031 - val_loss: 0.3190 - val_recall: 0.4365\n",
            "Epoch 59/200\n",
            "64/64 [==============================] - 0s 3ms/step - loss: 0.3581 - recall: 0.4074 - val_loss: 0.3184 - val_recall: 0.4862\n",
            "Epoch 60/200\n",
            "64/64 [==============================] - 0s 3ms/step - loss: 0.3570 - recall: 0.4031 - val_loss: 0.3175 - val_recall: 0.4641\n",
            "Epoch 61/200\n",
            "64/64 [==============================] - 0s 3ms/step - loss: 0.3584 - recall: 0.4007 - val_loss: 0.3174 - val_recall: 0.4972\n",
            "Epoch 62/200\n",
            "64/64 [==============================] - 0s 3ms/step - loss: 0.3574 - recall: 0.4134 - val_loss: 0.3215 - val_recall: 0.5083\n",
            "Epoch 63/200\n",
            "64/64 [==============================] - 0s 3ms/step - loss: 0.3563 - recall: 0.4025 - val_loss: 0.3175 - val_recall: 0.4972\n",
            "Epoch 64/200\n",
            "64/64 [==============================] - 0s 3ms/step - loss: 0.3569 - recall: 0.4086 - val_loss: 0.3200 - val_recall: 0.5138\n",
            "Epoch 65/200\n",
            "64/64 [==============================] - 0s 3ms/step - loss: 0.3562 - recall: 0.4050 - val_loss: 0.3187 - val_recall: 0.4420\n",
            "Epoch 66/200\n",
            "64/64 [==============================] - 0s 3ms/step - loss: 0.3561 - recall: 0.3965 - val_loss: 0.3215 - val_recall: 0.5193\n",
            "Epoch 67/200\n",
            "64/64 [==============================] - 0s 3ms/step - loss: 0.3567 - recall: 0.4189 - val_loss: 0.3176 - val_recall: 0.4365\n",
            "Epoch 68/200\n",
            "64/64 [==============================] - 0s 3ms/step - loss: 0.3567 - recall: 0.4062 - val_loss: 0.3161 - val_recall: 0.4917\n",
            "Epoch 69/200\n",
            "64/64 [==============================] - 0s 3ms/step - loss: 0.3567 - recall: 0.4013 - val_loss: 0.3167 - val_recall: 0.5028\n",
            "Epoch 70/200\n",
            "64/64 [==============================] - 0s 4ms/step - loss: 0.3555 - recall: 0.4116 - val_loss: 0.3152 - val_recall: 0.4641\n",
            "Epoch 71/200\n",
            "64/64 [==============================] - 0s 3ms/step - loss: 0.3553 - recall: 0.4092 - val_loss: 0.3157 - val_recall: 0.4807\n",
            "Epoch 72/200\n",
            "64/64 [==============================] - 0s 3ms/step - loss: 0.3555 - recall: 0.4128 - val_loss: 0.3148 - val_recall: 0.4972\n",
            "Epoch 73/200\n",
            "64/64 [==============================] - 0s 4ms/step - loss: 0.3545 - recall: 0.4146 - val_loss: 0.3150 - val_recall: 0.4641\n",
            "Epoch 74/200\n",
            "64/64 [==============================] - 0s 6ms/step - loss: 0.3544 - recall: 0.4074 - val_loss: 0.3178 - val_recall: 0.4972\n",
            "Epoch 75/200\n",
            "64/64 [==============================] - 0s 6ms/step - loss: 0.3550 - recall: 0.4080 - val_loss: 0.3164 - val_recall: 0.4365\n",
            "Epoch 76/200\n",
            "64/64 [==============================] - 0s 5ms/step - loss: 0.3540 - recall: 0.4068 - val_loss: 0.3153 - val_recall: 0.4641\n",
            "Epoch 77/200\n",
            "64/64 [==============================] - 0s 5ms/step - loss: 0.3536 - recall: 0.4153 - val_loss: 0.3148 - val_recall: 0.4972\n",
            "Epoch 78/200\n",
            "64/64 [==============================] - 0s 5ms/step - loss: 0.3550 - recall: 0.4128 - val_loss: 0.3155 - val_recall: 0.5028\n",
            "Epoch 79/200\n",
            "64/64 [==============================] - 0s 5ms/step - loss: 0.3538 - recall: 0.4122 - val_loss: 0.3156 - val_recall: 0.5028\n",
            "Epoch 80/200\n",
            "64/64 [==============================] - 0s 5ms/step - loss: 0.3544 - recall: 0.4062 - val_loss: 0.3152 - val_recall: 0.4862\n",
            "Epoch 81/200\n",
            "64/64 [==============================] - 0s 5ms/step - loss: 0.3544 - recall: 0.4183 - val_loss: 0.3144 - val_recall: 0.4641\n",
            "Epoch 82/200\n",
            "64/64 [==============================] - 0s 5ms/step - loss: 0.3536 - recall: 0.4044 - val_loss: 0.3130 - val_recall: 0.4696\n",
            "Epoch 83/200\n",
            "64/64 [==============================] - 0s 4ms/step - loss: 0.3528 - recall: 0.4189 - val_loss: 0.3142 - val_recall: 0.4475\n",
            "Epoch 84/200\n",
            "64/64 [==============================] - 0s 3ms/step - loss: 0.3535 - recall: 0.4098 - val_loss: 0.3139 - val_recall: 0.5028\n",
            "Epoch 85/200\n",
            "64/64 [==============================] - 0s 3ms/step - loss: 0.3535 - recall: 0.4165 - val_loss: 0.3126 - val_recall: 0.4807\n",
            "Epoch 86/200\n",
            "64/64 [==============================] - 0s 3ms/step - loss: 0.3526 - recall: 0.4122 - val_loss: 0.3126 - val_recall: 0.4696\n",
            "Epoch 87/200\n",
            "64/64 [==============================] - 0s 3ms/step - loss: 0.3528 - recall: 0.4146 - val_loss: 0.3153 - val_recall: 0.4420\n",
            "Epoch 88/200\n",
            "64/64 [==============================] - 0s 3ms/step - loss: 0.3527 - recall: 0.4080 - val_loss: 0.3127 - val_recall: 0.4807\n",
            "Epoch 89/200\n",
            "64/64 [==============================] - 0s 3ms/step - loss: 0.3523 - recall: 0.4177 - val_loss: 0.3124 - val_recall: 0.4696\n",
            "Epoch 90/200\n",
            "64/64 [==============================] - 0s 3ms/step - loss: 0.3528 - recall: 0.4068 - val_loss: 0.3140 - val_recall: 0.5028\n",
            "Epoch 91/200\n",
            "64/64 [==============================] - 0s 3ms/step - loss: 0.3529 - recall: 0.4207 - val_loss: 0.3140 - val_recall: 0.5028\n",
            "Epoch 92/200\n",
            "64/64 [==============================] - 0s 3ms/step - loss: 0.3513 - recall: 0.4177 - val_loss: 0.3151 - val_recall: 0.5028\n",
            "Epoch 93/200\n",
            "64/64 [==============================] - 0s 3ms/step - loss: 0.3521 - recall: 0.4159 - val_loss: 0.3126 - val_recall: 0.4586\n",
            "Epoch 94/200\n",
            "64/64 [==============================] - 0s 3ms/step - loss: 0.3526 - recall: 0.4165 - val_loss: 0.3130 - val_recall: 0.4917\n",
            "Epoch 95/200\n",
            "64/64 [==============================] - 0s 3ms/step - loss: 0.3515 - recall: 0.4165 - val_loss: 0.3158 - val_recall: 0.5028\n",
            "Epoch 96/200\n",
            "64/64 [==============================] - 0s 3ms/step - loss: 0.3520 - recall: 0.4122 - val_loss: 0.3152 - val_recall: 0.4420\n",
            "Epoch 97/200\n",
            "64/64 [==============================] - 0s 3ms/step - loss: 0.3533 - recall: 0.4177 - val_loss: 0.3122 - val_recall: 0.4807\n",
            "Epoch 98/200\n",
            "64/64 [==============================] - 0s 3ms/step - loss: 0.3522 - recall: 0.4110 - val_loss: 0.3136 - val_recall: 0.4420\n",
            "Epoch 99/200\n",
            "64/64 [==============================] - 0s 3ms/step - loss: 0.3516 - recall: 0.4183 - val_loss: 0.3119 - val_recall: 0.4972\n",
            "Epoch 100/200\n",
            "64/64 [==============================] - 0s 3ms/step - loss: 0.3504 - recall: 0.4165 - val_loss: 0.3118 - val_recall: 0.4475\n",
            "Epoch 101/200\n",
            "64/64 [==============================] - 0s 3ms/step - loss: 0.3502 - recall: 0.4219 - val_loss: 0.3130 - val_recall: 0.4420\n",
            "Epoch 102/200\n",
            "64/64 [==============================] - 0s 3ms/step - loss: 0.3513 - recall: 0.4122 - val_loss: 0.3110 - val_recall: 0.4696\n",
            "Epoch 103/200\n",
            "64/64 [==============================] - 0s 3ms/step - loss: 0.3496 - recall: 0.4219 - val_loss: 0.3120 - val_recall: 0.5028\n",
            "Epoch 104/200\n",
            "64/64 [==============================] - 0s 4ms/step - loss: 0.3495 - recall: 0.4177 - val_loss: 0.3202 - val_recall: 0.5470\n",
            "Epoch 105/200\n",
            "64/64 [==============================] - 0s 3ms/step - loss: 0.3506 - recall: 0.4255 - val_loss: 0.3103 - val_recall: 0.4696\n",
            "Epoch 106/200\n",
            "64/64 [==============================] - 0s 3ms/step - loss: 0.3501 - recall: 0.4225 - val_loss: 0.3119 - val_recall: 0.4420\n",
            "Epoch 107/200\n",
            "64/64 [==============================] - 0s 3ms/step - loss: 0.3501 - recall: 0.4134 - val_loss: 0.3119 - val_recall: 0.5028\n",
            "Epoch 108/200\n",
            "64/64 [==============================] - 0s 3ms/step - loss: 0.3489 - recall: 0.4189 - val_loss: 0.3105 - val_recall: 0.4862\n",
            "Epoch 109/200\n",
            "64/64 [==============================] - 0s 3ms/step - loss: 0.3494 - recall: 0.4177 - val_loss: 0.3114 - val_recall: 0.4807\n",
            "Epoch 110/200\n",
            "64/64 [==============================] - 0s 3ms/step - loss: 0.3490 - recall: 0.4231 - val_loss: 0.3113 - val_recall: 0.5083\n",
            "Epoch 111/200\n",
            "64/64 [==============================] - 0s 3ms/step - loss: 0.3505 - recall: 0.4346 - val_loss: 0.3136 - val_recall: 0.5193\n",
            "Epoch 112/200\n",
            "64/64 [==============================] - 0s 3ms/step - loss: 0.3490 - recall: 0.4165 - val_loss: 0.3119 - val_recall: 0.4751\n",
            "Epoch 113/200\n",
            "64/64 [==============================] - 0s 3ms/step - loss: 0.3482 - recall: 0.4050 - val_loss: 0.3117 - val_recall: 0.5249\n",
            "Epoch 114/200\n",
            "64/64 [==============================] - 0s 3ms/step - loss: 0.3484 - recall: 0.4255 - val_loss: 0.3118 - val_recall: 0.4917\n",
            "Epoch 115/200\n",
            "64/64 [==============================] - 0s 3ms/step - loss: 0.3476 - recall: 0.4243 - val_loss: 0.3108 - val_recall: 0.4696\n",
            "Epoch 116/200\n",
            "64/64 [==============================] - 0s 3ms/step - loss: 0.3481 - recall: 0.4213 - val_loss: 0.3110 - val_recall: 0.4917\n",
            "Epoch 117/200\n",
            "64/64 [==============================] - 0s 3ms/step - loss: 0.3480 - recall: 0.4243 - val_loss: 0.3121 - val_recall: 0.5028\n",
            "Epoch 118/200\n",
            "64/64 [==============================] - 0s 3ms/step - loss: 0.3479 - recall: 0.4122 - val_loss: 0.3101 - val_recall: 0.4751\n",
            "Epoch 119/200\n",
            "64/64 [==============================] - 0s 3ms/step - loss: 0.3479 - recall: 0.4177 - val_loss: 0.3099 - val_recall: 0.4862\n",
            "Epoch 120/200\n",
            "64/64 [==============================] - 0s 3ms/step - loss: 0.3476 - recall: 0.4219 - val_loss: 0.3106 - val_recall: 0.4641\n",
            "Epoch 121/200\n",
            "64/64 [==============================] - 0s 3ms/step - loss: 0.3476 - recall: 0.4237 - val_loss: 0.3107 - val_recall: 0.4696\n",
            "Epoch 122/200\n",
            "64/64 [==============================] - 0s 3ms/step - loss: 0.3477 - recall: 0.4225 - val_loss: 0.3107 - val_recall: 0.4420\n",
            "Epoch 123/200\n",
            "64/64 [==============================] - 0s 3ms/step - loss: 0.3481 - recall: 0.4243 - val_loss: 0.3100 - val_recall: 0.4807\n",
            "Epoch 124/200\n",
            "64/64 [==============================] - 0s 3ms/step - loss: 0.3471 - recall: 0.4207 - val_loss: 0.3103 - val_recall: 0.4420\n",
            "Epoch 125/200\n",
            "64/64 [==============================] - 0s 3ms/step - loss: 0.3474 - recall: 0.4243 - val_loss: 0.3100 - val_recall: 0.4641\n",
            "Epoch 126/200\n",
            "64/64 [==============================] - 0s 3ms/step - loss: 0.3475 - recall: 0.4159 - val_loss: 0.3103 - val_recall: 0.4972\n",
            "Epoch 127/200\n",
            "64/64 [==============================] - 0s 3ms/step - loss: 0.3469 - recall: 0.4243 - val_loss: 0.3096 - val_recall: 0.4972\n",
            "Epoch 128/200\n",
            "64/64 [==============================] - 0s 4ms/step - loss: 0.3467 - recall: 0.4231 - val_loss: 0.3104 - val_recall: 0.4641\n",
            "Epoch 129/200\n",
            "64/64 [==============================] - 0s 3ms/step - loss: 0.3465 - recall: 0.4249 - val_loss: 0.3098 - val_recall: 0.4751\n",
            "Epoch 130/200\n",
            "64/64 [==============================] - 0s 3ms/step - loss: 0.3468 - recall: 0.4219 - val_loss: 0.3106 - val_recall: 0.5028\n",
            "Epoch 131/200\n",
            "64/64 [==============================] - 0s 4ms/step - loss: 0.3465 - recall: 0.4195 - val_loss: 0.3107 - val_recall: 0.5083\n",
            "Epoch 132/200\n",
            "64/64 [==============================] - 0s 5ms/step - loss: 0.3469 - recall: 0.4255 - val_loss: 0.3098 - val_recall: 0.4586\n",
            "Epoch 133/200\n",
            "64/64 [==============================] - 0s 5ms/step - loss: 0.3455 - recall: 0.4237 - val_loss: 0.3114 - val_recall: 0.4365\n",
            "Epoch 134/200\n",
            "64/64 [==============================] - 0s 4ms/step - loss: 0.3462 - recall: 0.4171 - val_loss: 0.3088 - val_recall: 0.4475\n",
            "Epoch 135/200\n",
            "64/64 [==============================] - 0s 6ms/step - loss: 0.3451 - recall: 0.4213 - val_loss: 0.3110 - val_recall: 0.5028\n",
            "Epoch 136/200\n",
            "64/64 [==============================] - 0s 5ms/step - loss: 0.3463 - recall: 0.4207 - val_loss: 0.3111 - val_recall: 0.4365\n",
            "Epoch 137/200\n",
            "64/64 [==============================] - 0s 5ms/step - loss: 0.3474 - recall: 0.4183 - val_loss: 0.3102 - val_recall: 0.4972\n",
            "Epoch 138/200\n",
            "64/64 [==============================] - 0s 6ms/step - loss: 0.3450 - recall: 0.4292 - val_loss: 0.3110 - val_recall: 0.4365\n",
            "Epoch 139/200\n",
            "64/64 [==============================] - 0s 5ms/step - loss: 0.3449 - recall: 0.4219 - val_loss: 0.3082 - val_recall: 0.4807\n",
            "Epoch 140/200\n",
            "64/64 [==============================] - 0s 6ms/step - loss: 0.3461 - recall: 0.4177 - val_loss: 0.3099 - val_recall: 0.4917\n",
            "Epoch 141/200\n",
            "64/64 [==============================] - 0s 3ms/step - loss: 0.3448 - recall: 0.4255 - val_loss: 0.3134 - val_recall: 0.4254\n",
            "Epoch 142/200\n",
            "64/64 [==============================] - 0s 4ms/step - loss: 0.3453 - recall: 0.4213 - val_loss: 0.3077 - val_recall: 0.4641\n",
            "Epoch 143/200\n",
            "64/64 [==============================] - 0s 3ms/step - loss: 0.3446 - recall: 0.4262 - val_loss: 0.3085 - val_recall: 0.4586\n",
            "Epoch 144/200\n",
            "64/64 [==============================] - 0s 3ms/step - loss: 0.3453 - recall: 0.4274 - val_loss: 0.3095 - val_recall: 0.4862\n",
            "Epoch 145/200\n",
            "64/64 [==============================] - 0s 3ms/step - loss: 0.3447 - recall: 0.4286 - val_loss: 0.3074 - val_recall: 0.4972\n",
            "Epoch 146/200\n",
            "64/64 [==============================] - 0s 3ms/step - loss: 0.3452 - recall: 0.4262 - val_loss: 0.3089 - val_recall: 0.4365\n",
            "Epoch 147/200\n",
            "64/64 [==============================] - 0s 3ms/step - loss: 0.3442 - recall: 0.4243 - val_loss: 0.3085 - val_recall: 0.4420\n",
            "Epoch 148/200\n",
            "64/64 [==============================] - 0s 3ms/step - loss: 0.3441 - recall: 0.4219 - val_loss: 0.3076 - val_recall: 0.4917\n",
            "Epoch 149/200\n",
            "64/64 [==============================] - 0s 3ms/step - loss: 0.3454 - recall: 0.4262 - val_loss: 0.3076 - val_recall: 0.4862\n",
            "Epoch 150/200\n",
            "64/64 [==============================] - 0s 4ms/step - loss: 0.3453 - recall: 0.4334 - val_loss: 0.3067 - val_recall: 0.4586\n",
            "Epoch 151/200\n",
            "64/64 [==============================] - 0s 3ms/step - loss: 0.3445 - recall: 0.4146 - val_loss: 0.3097 - val_recall: 0.5249\n",
            "Epoch 152/200\n",
            "64/64 [==============================] - 0s 3ms/step - loss: 0.3443 - recall: 0.4298 - val_loss: 0.3074 - val_recall: 0.4751\n",
            "Epoch 153/200\n",
            "64/64 [==============================] - 0s 3ms/step - loss: 0.3438 - recall: 0.4292 - val_loss: 0.3076 - val_recall: 0.4420\n",
            "Epoch 154/200\n",
            "64/64 [==============================] - 0s 3ms/step - loss: 0.3433 - recall: 0.4237 - val_loss: 0.3081 - val_recall: 0.4917\n",
            "Epoch 155/200\n",
            "64/64 [==============================] - 0s 3ms/step - loss: 0.3451 - recall: 0.4364 - val_loss: 0.3084 - val_recall: 0.4475\n",
            "Epoch 156/200\n",
            "64/64 [==============================] - 0s 3ms/step - loss: 0.3441 - recall: 0.4177 - val_loss: 0.3066 - val_recall: 0.4586\n",
            "Epoch 157/200\n",
            "64/64 [==============================] - 0s 3ms/step - loss: 0.3434 - recall: 0.4383 - val_loss: 0.3079 - val_recall: 0.4365\n",
            "Epoch 158/200\n",
            "64/64 [==============================] - 0s 3ms/step - loss: 0.3430 - recall: 0.4268 - val_loss: 0.3096 - val_recall: 0.4365\n",
            "Epoch 159/200\n",
            "64/64 [==============================] - 0s 3ms/step - loss: 0.3437 - recall: 0.4207 - val_loss: 0.3060 - val_recall: 0.4586\n",
            "Epoch 160/200\n",
            "64/64 [==============================] - 0s 3ms/step - loss: 0.3437 - recall: 0.4262 - val_loss: 0.3071 - val_recall: 0.4641\n",
            "Epoch 161/200\n",
            "64/64 [==============================] - 0s 4ms/step - loss: 0.3429 - recall: 0.4370 - val_loss: 0.3071 - val_recall: 0.4641\n",
            "Epoch 162/200\n",
            "64/64 [==============================] - 0s 3ms/step - loss: 0.3423 - recall: 0.4207 - val_loss: 0.3072 - val_recall: 0.5083\n",
            "Epoch 163/200\n",
            "64/64 [==============================] - 0s 3ms/step - loss: 0.3432 - recall: 0.4358 - val_loss: 0.3093 - val_recall: 0.4309\n",
            "Epoch 164/200\n",
            "64/64 [==============================] - 0s 3ms/step - loss: 0.3429 - recall: 0.4213 - val_loss: 0.3081 - val_recall: 0.5138\n",
            "Epoch 165/200\n",
            "64/64 [==============================] - 0s 3ms/step - loss: 0.3431 - recall: 0.4334 - val_loss: 0.3104 - val_recall: 0.5359\n",
            "Epoch 166/200\n",
            "64/64 [==============================] - 0s 3ms/step - loss: 0.3426 - recall: 0.4340 - val_loss: 0.3067 - val_recall: 0.4807\n",
            "Epoch 167/200\n",
            "64/64 [==============================] - 0s 3ms/step - loss: 0.3434 - recall: 0.4249 - val_loss: 0.3066 - val_recall: 0.4807\n",
            "Epoch 168/200\n",
            "64/64 [==============================] - 0s 3ms/step - loss: 0.3420 - recall: 0.4280 - val_loss: 0.3064 - val_recall: 0.4807\n",
            "Epoch 169/200\n",
            "64/64 [==============================] - 0s 3ms/step - loss: 0.3424 - recall: 0.4334 - val_loss: 0.3079 - val_recall: 0.4862\n",
            "Epoch 170/200\n",
            "64/64 [==============================] - 0s 3ms/step - loss: 0.3430 - recall: 0.4286 - val_loss: 0.3058 - val_recall: 0.4807\n",
            "Epoch 171/200\n",
            "64/64 [==============================] - 0s 3ms/step - loss: 0.3443 - recall: 0.4425 - val_loss: 0.3069 - val_recall: 0.4641\n",
            "Epoch 172/200\n",
            "64/64 [==============================] - 0s 3ms/step - loss: 0.3418 - recall: 0.4304 - val_loss: 0.3060 - val_recall: 0.4696\n",
            "Epoch 173/200\n",
            "64/64 [==============================] - 0s 3ms/step - loss: 0.3435 - recall: 0.4189 - val_loss: 0.3080 - val_recall: 0.5028\n",
            "Epoch 174/200\n",
            "64/64 [==============================] - 0s 3ms/step - loss: 0.3414 - recall: 0.4286 - val_loss: 0.3069 - val_recall: 0.4641\n",
            "Epoch 175/200\n",
            "64/64 [==============================] - 0s 3ms/step - loss: 0.3415 - recall: 0.4334 - val_loss: 0.3063 - val_recall: 0.4696\n",
            "Epoch 176/200\n",
            "64/64 [==============================] - 0s 3ms/step - loss: 0.3423 - recall: 0.4292 - val_loss: 0.3070 - val_recall: 0.4365\n",
            "Epoch 177/200\n",
            "64/64 [==============================] - 0s 3ms/step - loss: 0.3414 - recall: 0.4286 - val_loss: 0.3067 - val_recall: 0.5359\n",
            "Epoch 178/200\n",
            "64/64 [==============================] - 0s 3ms/step - loss: 0.3429 - recall: 0.4231 - val_loss: 0.3103 - val_recall: 0.5470\n",
            "Epoch 179/200\n",
            "64/64 [==============================] - 0s 3ms/step - loss: 0.3418 - recall: 0.4304 - val_loss: 0.3068 - val_recall: 0.4420\n",
            "Epoch 180/200\n",
            "64/64 [==============================] - 0s 3ms/step - loss: 0.3411 - recall: 0.4286 - val_loss: 0.3062 - val_recall: 0.5193\n",
            "Epoch 181/200\n",
            "64/64 [==============================] - 0s 3ms/step - loss: 0.3408 - recall: 0.4292 - val_loss: 0.3059 - val_recall: 0.4972\n",
            "Epoch 182/200\n",
            "64/64 [==============================] - 0s 3ms/step - loss: 0.3420 - recall: 0.4310 - val_loss: 0.3061 - val_recall: 0.4586\n",
            "Epoch 183/200\n",
            "64/64 [==============================] - 0s 3ms/step - loss: 0.3409 - recall: 0.4286 - val_loss: 0.3052 - val_recall: 0.4972\n",
            "Epoch 184/200\n",
            "64/64 [==============================] - 0s 3ms/step - loss: 0.3408 - recall: 0.4346 - val_loss: 0.3047 - val_recall: 0.4917\n",
            "Epoch 185/200\n",
            "64/64 [==============================] - 0s 3ms/step - loss: 0.3415 - recall: 0.4298 - val_loss: 0.3060 - val_recall: 0.5083\n",
            "Epoch 186/200\n",
            "64/64 [==============================] - 0s 3ms/step - loss: 0.3417 - recall: 0.4255 - val_loss: 0.3058 - val_recall: 0.4586\n",
            "Epoch 187/200\n",
            "64/64 [==============================] - 0s 3ms/step - loss: 0.3408 - recall: 0.4280 - val_loss: 0.3074 - val_recall: 0.5414\n",
            "Epoch 188/200\n",
            "64/64 [==============================] - 0s 6ms/step - loss: 0.3409 - recall: 0.4249 - val_loss: 0.3052 - val_recall: 0.4641\n",
            "Epoch 189/200\n",
            "64/64 [==============================] - 0s 4ms/step - loss: 0.3414 - recall: 0.4286 - val_loss: 0.3054 - val_recall: 0.5193\n",
            "Epoch 190/200\n",
            "64/64 [==============================] - 0s 5ms/step - loss: 0.3407 - recall: 0.4352 - val_loss: 0.3061 - val_recall: 0.5028\n",
            "Epoch 191/200\n",
            "64/64 [==============================] - 0s 4ms/step - loss: 0.3407 - recall: 0.4340 - val_loss: 0.3066 - val_recall: 0.4475\n",
            "Epoch 192/200\n",
            "64/64 [==============================] - 0s 4ms/step - loss: 0.3403 - recall: 0.4310 - val_loss: 0.3053 - val_recall: 0.4586\n",
            "Epoch 193/200\n",
            "64/64 [==============================] - 0s 5ms/step - loss: 0.3418 - recall: 0.4340 - val_loss: 0.3066 - val_recall: 0.4475\n",
            "Epoch 194/200\n",
            "64/64 [==============================] - 0s 4ms/step - loss: 0.3407 - recall: 0.4255 - val_loss: 0.3071 - val_recall: 0.5470\n",
            "Epoch 195/200\n",
            "64/64 [==============================] - 0s 5ms/step - loss: 0.3403 - recall: 0.4364 - val_loss: 0.3071 - val_recall: 0.4475\n",
            "Epoch 196/200\n",
            "64/64 [==============================] - 0s 6ms/step - loss: 0.3406 - recall: 0.4334 - val_loss: 0.3047 - val_recall: 0.4807\n",
            "Epoch 197/200\n",
            "64/64 [==============================] - 0s 5ms/step - loss: 0.3399 - recall: 0.4340 - val_loss: 0.3064 - val_recall: 0.4696\n",
            "Epoch 198/200\n",
            "64/64 [==============================] - 0s 5ms/step - loss: 0.3393 - recall: 0.4286 - val_loss: 0.3048 - val_recall: 0.5193\n",
            "Epoch 199/200\n",
            "64/64 [==============================] - 0s 4ms/step - loss: 0.3417 - recall: 0.4298 - val_loss: 0.3048 - val_recall: 0.5028\n",
            "Epoch 199: early stopping\n"
          ]
        },
        {
          "output_type": "execute_result",
          "data": {
            "text/plain": [
              "<keras.src.callbacks.History at 0x79183322c970>"
            ]
          },
          "metadata": {},
          "execution_count": 29
        }
      ],
      "source": [
        "model.fit(x=X_train,\n",
        "          y=y_train,\n",
        "          validation_split=.1,\n",
        "          batch_size=128,\n",
        "          epochs=200,\n",
        "          verbose=1,\n",
        "          callbacks=[early_stop])"
      ]
    },
    {
      "cell_type": "code",
      "execution_count": 30,
      "id": "bf8ae656",
      "metadata": {
        "cell_style": "center",
        "execution": {
          "iopub.execute_input": "2022-03-13T16:34:23.791205Z",
          "iopub.status.busy": "2022-03-13T16:34:23.789308Z",
          "iopub.status.idle": "2022-03-13T16:34:23.798014Z",
          "shell.execute_reply": "2022-03-13T16:34:23.798904Z",
          "shell.execute_reply.started": "2022-03-13T16:25:26.760643Z"
        },
        "hidden": true,
        "papermill": {
          "duration": 0.468168,
          "end_time": "2022-03-13T16:34:23.799157",
          "exception": false,
          "start_time": "2022-03-13T16:34:23.330989",
          "status": "completed"
        },
        "tags": [],
        "colab": {
          "base_uri": "https://localhost:8080/"
        },
        "id": "bf8ae656",
        "outputId": "ae981da8-b582-4cfc-891a-af248ec7ebcb"
      },
      "outputs": [
        {
          "output_type": "stream",
          "name": "stdout",
          "text": [
            "Model: \"sequential\"\n",
            "_________________________________________________________________\n",
            " Layer (type)                Output Shape              Param #   \n",
            "=================================================================\n",
            " dense (Dense)               (None, 16)                192       \n",
            "                                                                 \n",
            " dense_1 (Dense)             (None, 8)                 136       \n",
            "                                                                 \n",
            " dense_2 (Dense)             (None, 1)                 9         \n",
            "                                                                 \n",
            "=================================================================\n",
            "Total params: 337 (1.32 KB)\n",
            "Trainable params: 337 (1.32 KB)\n",
            "Non-trainable params: 0 (0.00 Byte)\n",
            "_________________________________________________________________\n"
          ]
        }
      ],
      "source": [
        "model.summary()"
      ]
    },
    {
      "cell_type": "code",
      "execution_count": 31,
      "id": "e930df78",
      "metadata": {
        "execution": {
          "iopub.execute_input": "2022-03-13T16:34:24.696587Z",
          "iopub.status.busy": "2022-03-13T16:34:24.695599Z",
          "iopub.status.idle": "2022-03-13T16:34:24.699423Z",
          "shell.execute_reply": "2022-03-13T16:34:24.699971Z",
          "shell.execute_reply.started": "2022-03-13T16:25:26.770266Z"
        },
        "papermill": {
          "duration": 0.460046,
          "end_time": "2022-03-13T16:34:24.700145",
          "exception": false,
          "start_time": "2022-03-13T16:34:24.240099",
          "status": "completed"
        },
        "tags": [],
        "colab": {
          "base_uri": "https://localhost:8080/",
          "height": 206
        },
        "id": "e930df78",
        "outputId": "e13b4bda-7cf0-4695-e467-1c44189090fe"
      },
      "outputs": [
        {
          "output_type": "execute_result",
          "data": {
            "text/plain": [
              "       loss    recall  val_loss  val_recall\n",
              "0  0.506448  0.000000  0.488374    0.000000\n",
              "1  0.491006  0.000000  0.471501    0.005525\n",
              "2  0.480020  0.001211  0.458854    0.005525\n",
              "3  0.471741  0.018160  0.449280    0.022099\n",
              "4  0.462845  0.055690  0.436821    0.132597"
            ],
            "text/html": [
              "\n",
              "  <div id=\"df-55b7e34e-4982-43e3-967d-06b4a466a3c1\" class=\"colab-df-container\">\n",
              "    <div>\n",
              "<style scoped>\n",
              "    .dataframe tbody tr th:only-of-type {\n",
              "        vertical-align: middle;\n",
              "    }\n",
              "\n",
              "    .dataframe tbody tr th {\n",
              "        vertical-align: top;\n",
              "    }\n",
              "\n",
              "    .dataframe thead th {\n",
              "        text-align: right;\n",
              "    }\n",
              "</style>\n",
              "<table border=\"1\" class=\"dataframe\">\n",
              "  <thead>\n",
              "    <tr style=\"text-align: right;\">\n",
              "      <th></th>\n",
              "      <th>loss</th>\n",
              "      <th>recall</th>\n",
              "      <th>val_loss</th>\n",
              "      <th>val_recall</th>\n",
              "    </tr>\n",
              "  </thead>\n",
              "  <tbody>\n",
              "    <tr>\n",
              "      <th>0</th>\n",
              "      <td>0.506448</td>\n",
              "      <td>0.000000</td>\n",
              "      <td>0.488374</td>\n",
              "      <td>0.000000</td>\n",
              "    </tr>\n",
              "    <tr>\n",
              "      <th>1</th>\n",
              "      <td>0.491006</td>\n",
              "      <td>0.000000</td>\n",
              "      <td>0.471501</td>\n",
              "      <td>0.005525</td>\n",
              "    </tr>\n",
              "    <tr>\n",
              "      <th>2</th>\n",
              "      <td>0.480020</td>\n",
              "      <td>0.001211</td>\n",
              "      <td>0.458854</td>\n",
              "      <td>0.005525</td>\n",
              "    </tr>\n",
              "    <tr>\n",
              "      <th>3</th>\n",
              "      <td>0.471741</td>\n",
              "      <td>0.018160</td>\n",
              "      <td>0.449280</td>\n",
              "      <td>0.022099</td>\n",
              "    </tr>\n",
              "    <tr>\n",
              "      <th>4</th>\n",
              "      <td>0.462845</td>\n",
              "      <td>0.055690</td>\n",
              "      <td>0.436821</td>\n",
              "      <td>0.132597</td>\n",
              "    </tr>\n",
              "  </tbody>\n",
              "</table>\n",
              "</div>\n",
              "    <div class=\"colab-df-buttons\">\n",
              "\n",
              "  <div class=\"colab-df-container\">\n",
              "    <button class=\"colab-df-convert\" onclick=\"convertToInteractive('df-55b7e34e-4982-43e3-967d-06b4a466a3c1')\"\n",
              "            title=\"Convert this dataframe to an interactive table.\"\n",
              "            style=\"display:none;\">\n",
              "\n",
              "  <svg xmlns=\"http://www.w3.org/2000/svg\" height=\"24px\" viewBox=\"0 -960 960 960\">\n",
              "    <path d=\"M120-120v-720h720v720H120Zm60-500h600v-160H180v160Zm220 220h160v-160H400v160Zm0 220h160v-160H400v160ZM180-400h160v-160H180v160Zm440 0h160v-160H620v160ZM180-180h160v-160H180v160Zm440 0h160v-160H620v160Z\"/>\n",
              "  </svg>\n",
              "    </button>\n",
              "\n",
              "  <style>\n",
              "    .colab-df-container {\n",
              "      display:flex;\n",
              "      gap: 12px;\n",
              "    }\n",
              "\n",
              "    .colab-df-convert {\n",
              "      background-color: #E8F0FE;\n",
              "      border: none;\n",
              "      border-radius: 50%;\n",
              "      cursor: pointer;\n",
              "      display: none;\n",
              "      fill: #1967D2;\n",
              "      height: 32px;\n",
              "      padding: 0 0 0 0;\n",
              "      width: 32px;\n",
              "    }\n",
              "\n",
              "    .colab-df-convert:hover {\n",
              "      background-color: #E2EBFA;\n",
              "      box-shadow: 0px 1px 2px rgba(60, 64, 67, 0.3), 0px 1px 3px 1px rgba(60, 64, 67, 0.15);\n",
              "      fill: #174EA6;\n",
              "    }\n",
              "\n",
              "    .colab-df-buttons div {\n",
              "      margin-bottom: 4px;\n",
              "    }\n",
              "\n",
              "    [theme=dark] .colab-df-convert {\n",
              "      background-color: #3B4455;\n",
              "      fill: #D2E3FC;\n",
              "    }\n",
              "\n",
              "    [theme=dark] .colab-df-convert:hover {\n",
              "      background-color: #434B5C;\n",
              "      box-shadow: 0px 1px 3px 1px rgba(0, 0, 0, 0.15);\n",
              "      filter: drop-shadow(0px 1px 2px rgba(0, 0, 0, 0.3));\n",
              "      fill: #FFFFFF;\n",
              "    }\n",
              "  </style>\n",
              "\n",
              "    <script>\n",
              "      const buttonEl =\n",
              "        document.querySelector('#df-55b7e34e-4982-43e3-967d-06b4a466a3c1 button.colab-df-convert');\n",
              "      buttonEl.style.display =\n",
              "        google.colab.kernel.accessAllowed ? 'block' : 'none';\n",
              "\n",
              "      async function convertToInteractive(key) {\n",
              "        const element = document.querySelector('#df-55b7e34e-4982-43e3-967d-06b4a466a3c1');\n",
              "        const dataTable =\n",
              "          await google.colab.kernel.invokeFunction('convertToInteractive',\n",
              "                                                    [key], {});\n",
              "        if (!dataTable) return;\n",
              "\n",
              "        const docLinkHtml = 'Like what you see? Visit the ' +\n",
              "          '<a target=\"_blank\" href=https://colab.research.google.com/notebooks/data_table.ipynb>data table notebook</a>'\n",
              "          + ' to learn more about interactive tables.';\n",
              "        element.innerHTML = '';\n",
              "        dataTable['output_type'] = 'display_data';\n",
              "        await google.colab.output.renderOutput(dataTable, element);\n",
              "        const docLink = document.createElement('div');\n",
              "        docLink.innerHTML = docLinkHtml;\n",
              "        element.appendChild(docLink);\n",
              "      }\n",
              "    </script>\n",
              "  </div>\n",
              "\n",
              "\n",
              "<div id=\"df-eecde09a-9172-42d3-afb7-e6a1a5dcbb65\">\n",
              "  <button class=\"colab-df-quickchart\" onclick=\"quickchart('df-eecde09a-9172-42d3-afb7-e6a1a5dcbb65')\"\n",
              "            title=\"Suggest charts.\"\n",
              "            style=\"display:none;\">\n",
              "\n",
              "<svg xmlns=\"http://www.w3.org/2000/svg\" height=\"24px\"viewBox=\"0 0 24 24\"\n",
              "     width=\"24px\">\n",
              "    <g>\n",
              "        <path d=\"M19 3H5c-1.1 0-2 .9-2 2v14c0 1.1.9 2 2 2h14c1.1 0 2-.9 2-2V5c0-1.1-.9-2-2-2zM9 17H7v-7h2v7zm4 0h-2V7h2v10zm4 0h-2v-4h2v4z\"/>\n",
              "    </g>\n",
              "</svg>\n",
              "  </button>\n",
              "\n",
              "<style>\n",
              "  .colab-df-quickchart {\n",
              "      --bg-color: #E8F0FE;\n",
              "      --fill-color: #1967D2;\n",
              "      --hover-bg-color: #E2EBFA;\n",
              "      --hover-fill-color: #174EA6;\n",
              "      --disabled-fill-color: #AAA;\n",
              "      --disabled-bg-color: #DDD;\n",
              "  }\n",
              "\n",
              "  [theme=dark] .colab-df-quickchart {\n",
              "      --bg-color: #3B4455;\n",
              "      --fill-color: #D2E3FC;\n",
              "      --hover-bg-color: #434B5C;\n",
              "      --hover-fill-color: #FFFFFF;\n",
              "      --disabled-bg-color: #3B4455;\n",
              "      --disabled-fill-color: #666;\n",
              "  }\n",
              "\n",
              "  .colab-df-quickchart {\n",
              "    background-color: var(--bg-color);\n",
              "    border: none;\n",
              "    border-radius: 50%;\n",
              "    cursor: pointer;\n",
              "    display: none;\n",
              "    fill: var(--fill-color);\n",
              "    height: 32px;\n",
              "    padding: 0;\n",
              "    width: 32px;\n",
              "  }\n",
              "\n",
              "  .colab-df-quickchart:hover {\n",
              "    background-color: var(--hover-bg-color);\n",
              "    box-shadow: 0 1px 2px rgba(60, 64, 67, 0.3), 0 1px 3px 1px rgba(60, 64, 67, 0.15);\n",
              "    fill: var(--button-hover-fill-color);\n",
              "  }\n",
              "\n",
              "  .colab-df-quickchart-complete:disabled,\n",
              "  .colab-df-quickchart-complete:disabled:hover {\n",
              "    background-color: var(--disabled-bg-color);\n",
              "    fill: var(--disabled-fill-color);\n",
              "    box-shadow: none;\n",
              "  }\n",
              "\n",
              "  .colab-df-spinner {\n",
              "    border: 2px solid var(--fill-color);\n",
              "    border-color: transparent;\n",
              "    border-bottom-color: var(--fill-color);\n",
              "    animation:\n",
              "      spin 1s steps(1) infinite;\n",
              "  }\n",
              "\n",
              "  @keyframes spin {\n",
              "    0% {\n",
              "      border-color: transparent;\n",
              "      border-bottom-color: var(--fill-color);\n",
              "      border-left-color: var(--fill-color);\n",
              "    }\n",
              "    20% {\n",
              "      border-color: transparent;\n",
              "      border-left-color: var(--fill-color);\n",
              "      border-top-color: var(--fill-color);\n",
              "    }\n",
              "    30% {\n",
              "      border-color: transparent;\n",
              "      border-left-color: var(--fill-color);\n",
              "      border-top-color: var(--fill-color);\n",
              "      border-right-color: var(--fill-color);\n",
              "    }\n",
              "    40% {\n",
              "      border-color: transparent;\n",
              "      border-right-color: var(--fill-color);\n",
              "      border-top-color: var(--fill-color);\n",
              "    }\n",
              "    60% {\n",
              "      border-color: transparent;\n",
              "      border-right-color: var(--fill-color);\n",
              "    }\n",
              "    80% {\n",
              "      border-color: transparent;\n",
              "      border-right-color: var(--fill-color);\n",
              "      border-bottom-color: var(--fill-color);\n",
              "    }\n",
              "    90% {\n",
              "      border-color: transparent;\n",
              "      border-bottom-color: var(--fill-color);\n",
              "    }\n",
              "  }\n",
              "</style>\n",
              "\n",
              "  <script>\n",
              "    async function quickchart(key) {\n",
              "      const quickchartButtonEl =\n",
              "        document.querySelector('#' + key + ' button');\n",
              "      quickchartButtonEl.disabled = true;  // To prevent multiple clicks.\n",
              "      quickchartButtonEl.classList.add('colab-df-spinner');\n",
              "      try {\n",
              "        const charts = await google.colab.kernel.invokeFunction(\n",
              "            'suggestCharts', [key], {});\n",
              "      } catch (error) {\n",
              "        console.error('Error during call to suggestCharts:', error);\n",
              "      }\n",
              "      quickchartButtonEl.classList.remove('colab-df-spinner');\n",
              "      quickchartButtonEl.classList.add('colab-df-quickchart-complete');\n",
              "    }\n",
              "    (() => {\n",
              "      let quickchartButtonEl =\n",
              "        document.querySelector('#df-eecde09a-9172-42d3-afb7-e6a1a5dcbb65 button');\n",
              "      quickchartButtonEl.style.display =\n",
              "        google.colab.kernel.accessAllowed ? 'block' : 'none';\n",
              "    })();\n",
              "  </script>\n",
              "</div>\n",
              "    </div>\n",
              "  </div>\n"
            ]
          },
          "metadata": {},
          "execution_count": 31
        }
      ],
      "source": [
        "loss_df = pd.DataFrame(model.history.history)\n",
        "loss_df.head()"
      ]
    },
    {
      "cell_type": "code",
      "execution_count": 32,
      "id": "ea555d74",
      "metadata": {
        "cell_style": "split",
        "execution": {
          "iopub.execute_input": "2022-03-13T16:34:25.580057Z",
          "iopub.status.busy": "2022-03-13T16:34:25.577855Z",
          "iopub.status.idle": "2022-03-13T16:34:25.963399Z",
          "shell.execute_reply": "2022-03-13T16:34:25.964046Z",
          "shell.execute_reply.started": "2022-03-13T16:25:26.784579Z"
        },
        "hidden": true,
        "id": "ea555d74",
        "papermill": {
          "duration": 0.827658,
          "end_time": "2022-03-13T16:34:25.964272",
          "exception": false,
          "start_time": "2022-03-13T16:34:25.136614",
          "status": "completed"
        },
        "tags": [],
        "colab": {
          "base_uri": "https://localhost:8080/",
          "height": 448
        },
        "outputId": "cabdcca4-d3e1-4fea-8b4c-d8ddc160d552"
      },
      "outputs": [
        {
          "output_type": "execute_result",
          "data": {
            "text/plain": [
              "<Axes: >"
            ]
          },
          "metadata": {},
          "execution_count": 32
        },
        {
          "output_type": "display_data",
          "data": {
            "text/plain": [
              "<Figure size 640x480 with 1 Axes>"
            ],
            "image/png": "[encoded data removed]"
          },
          "metadata": {}
        }
      ],
      "source": [
        "loss_df.plot()"
      ]
    },
    {
      "cell_type": "code",
      "execution_count": 33,
      "id": "b5d1ea2a",
      "metadata": {
        "cell_style": "split",
        "execution": {
          "iopub.execute_input": "2022-03-13T16:34:26.852629Z",
          "iopub.status.busy": "2022-03-13T16:34:26.851495Z",
          "iopub.status.idle": "2022-03-13T16:34:27.015757Z",
          "shell.execute_reply": "2022-03-13T16:34:27.016543Z",
          "shell.execute_reply.started": "2022-03-13T16:26:03.342983Z"
        },
        "hidden": true,
        "papermill": {
          "duration": 0.612851,
          "end_time": "2022-03-13T16:34:27.016844",
          "exception": false,
          "start_time": "2022-03-13T16:34:26.403993",
          "status": "completed"
        },
        "scrolled": true,
        "tags": [],
        "colab": {
          "base_uri": "https://localhost:8080/"
        },
        "id": "b5d1ea2a",
        "outputId": "1c45c014-c3ff-4eca-93b6-d269a00483e0"
      },
      "outputs": [
        {
          "output_type": "stream",
          "name": "stdout",
          "text": [
            "32/32 [==============================] - 0s 2ms/step\n",
            "[[765  31]\n",
            " [114  90]]\n",
            "              precision    recall  f1-score   support\n",
            "\n",
            "           0       0.87      0.96      0.91       796\n",
            "           1       0.74      0.44      0.55       204\n",
            "\n",
            "    accuracy                           0.85      1000\n",
            "   macro avg       0.81      0.70      0.73      1000\n",
            "weighted avg       0.84      0.85      0.84      1000\n",
            "\n"
          ]
        }
      ],
      "source": [
        "from sklearn.metrics import confusion_matrix, classification_report\n",
        "y_pred = (model.predict(X_test) > 0.5).astype(\"int32\")\n",
        "print(confusion_matrix(y_test, y_pred))\n",
        "print(classification_report(y_test, y_pred))"
      ]
    },
    {
      "cell_type": "markdown",
      "id": "3740fb65",
      "metadata": {
        "heading_collapsed": true,
        "papermill": {
          "duration": 0.434957,
          "end_time": "2022-03-13T16:34:27.896376",
          "exception": false,
          "start_time": "2022-03-13T16:34:27.461419",
          "status": "completed"
        },
        "tags": [],
        "id": "3740fb65"
      },
      "source": [
        "### ROC (Receiver Operating Curve) and AUC (Area Under Curve) for model"
      ]
    },
    {
      "cell_type": "code",
      "execution_count": 34,
      "id": "4bef2e51",
      "metadata": {
        "cell_style": "split",
        "execution": {
          "iopub.execute_input": "2022-03-13T16:34:28.783997Z",
          "iopub.status.busy": "2022-03-13T16:34:28.782847Z",
          "iopub.status.idle": "2022-03-13T16:34:29.144833Z",
          "shell.execute_reply": "2022-03-13T16:34:29.145357Z",
          "shell.execute_reply.started": "2022-03-13T16:26:03.506882Z"
        },
        "hidden": true,
        "papermill": {
          "duration": 0.812776,
          "end_time": "2022-03-13T16:34:29.145544",
          "exception": false,
          "start_time": "2022-03-13T16:34:28.332768",
          "status": "completed"
        },
        "tags": [],
        "colab": {
          "base_uri": "https://localhost:8080/",
          "height": 490
        },
        "id": "4bef2e51",
        "outputId": "99835ad3-4d56-4e30-8a1f-5e8b46503bf0"
      },
      "outputs": [
        {
          "output_type": "stream",
          "name": "stdout",
          "text": [
            "32/32 [==============================] - 0s 2ms/step\n"
          ]
        },
        {
          "output_type": "display_data",
          "data": {
            "text/plain": [
              "<Figure size 640x480 with 1 Axes>"
            ],
            "image/png": "[encoded data removed]"
          },
          "metadata": {}
        }
      ],
      "source": [
        "from sklearn.metrics import precision_recall_curve\n",
        "y_pred_proba = model.predict(X_test)\n",
        "precisions, recalls, thresholds = precision_recall_curve(y_test, y_pred_proba)\n",
        "plt.plot(recalls, precisions, label='ANN')\n",
        "plt.xlabel('recalls')\n",
        "plt.ylabel('precisions')\n",
        "plt.title('Precision-Recall curve')\n",
        "plt.show()"
      ]
    },
    {
      "cell_type": "code",
      "execution_count": 35,
      "id": "506ed2db",
      "metadata": {
        "cell_style": "split",
        "execution": {
          "iopub.execute_input": "2022-03-13T16:34:30.039766Z",
          "iopub.status.busy": "2022-03-13T16:34:30.038685Z",
          "iopub.status.idle": "2022-03-13T16:34:30.047243Z",
          "shell.execute_reply": "2022-03-13T16:34:30.046661Z",
          "shell.execute_reply.started": "2022-03-13T16:26:03.813490Z"
        },
        "hidden": true,
        "papermill": {
          "duration": 0.460725,
          "end_time": "2022-03-13T16:34:30.047387",
          "exception": false,
          "start_time": "2022-03-13T16:34:29.586662",
          "status": "completed"
        },
        "scrolled": true,
        "tags": [],
        "colab": {
          "base_uri": "https://localhost:8080/"
        },
        "id": "506ed2db",
        "outputId": "520cad34-6467-49e4-cca1-da94f9a06113"
      },
      "outputs": [
        {
          "output_type": "execute_result",
          "data": {
            "text/plain": [
              "0.6741686266855206"
            ]
          },
          "metadata": {},
          "execution_count": 35
        }
      ],
      "source": [
        "from sklearn.metrics import average_precision_score\n",
        "average_precision_score(y_test, y_pred_proba)"
      ]
    },
    {
      "cell_type": "markdown",
      "id": "1a0da3b9",
      "metadata": {
        "papermill": {
          "duration": 0.44284,
          "end_time": "2022-03-13T16:34:30.931533",
          "exception": false,
          "start_time": "2022-03-13T16:34:30.488693",
          "status": "completed"
        },
        "tags": [],
        "id": "1a0da3b9"
      },
      "source": [
        "### with class_weigth"
      ]
    },
    {
      "cell_type": "code",
      "execution_count": 36,
      "id": "460b7520",
      "metadata": {
        "cell_style": "split",
        "execution": {
          "iopub.execute_input": "2022-03-13T16:34:31.883556Z",
          "iopub.status.busy": "2022-03-13T16:34:31.882465Z",
          "iopub.status.idle": "2022-03-13T16:34:31.905328Z",
          "shell.execute_reply": "2022-03-13T16:34:31.904788Z",
          "shell.execute_reply.started": "2022-03-13T16:26:03.825443Z"
        },
        "papermill": {
          "duration": 0.528825,
          "end_time": "2022-03-13T16:34:31.905472",
          "exception": false,
          "start_time": "2022-03-13T16:34:31.376647",
          "status": "completed"
        },
        "tags": [],
        "id": "460b7520"
      },
      "outputs": [],
      "source": [
        "model = Sequential()\n",
        "\n",
        "tf.random.set_seed(seed)\n",
        "\n",
        "model.add(Dense(16, activation=\"relu\"))\n",
        "model.add(Dense(8, activation=\"relu\"))\n",
        "model.add(Dense(1, activation=\"sigmoid\"))\n",
        "\n",
        "opt = Adam(learning_rate=0.001)\n",
        "model.compile(optimizer=opt,\n",
        "              loss=\"binary_crossentropy\",\n",
        "              metrics=[\"Recall\"])"
      ]
    },
    {
      "cell_type": "code",
      "execution_count": 37,
      "id": "6728edd5",
      "metadata": {
        "execution": {
          "iopub.execute_input": "2022-03-13T16:34:33.125043Z",
          "iopub.status.busy": "2022-03-13T16:34:33.122331Z",
          "iopub.status.idle": "2022-03-13T16:34:33.132339Z",
          "shell.execute_reply": "2022-03-13T16:34:33.133007Z",
          "shell.execute_reply.started": "2022-03-13T16:26:03.851337Z"
        },
        "papermill": {
          "duration": 0.778911,
          "end_time": "2022-03-13T16:34:33.133215",
          "exception": false,
          "start_time": "2022-03-13T16:34:32.354304",
          "status": "completed"
        },
        "tags": [],
        "colab": {
          "base_uri": "https://localhost:8080/"
        },
        "id": "6728edd5",
        "outputId": "033111cb-c2bd-4919-fdf8-c5556cc21267"
      },
      "outputs": [
        {
          "output_type": "execute_result",
          "data": {
            "text/plain": [
              "{0: 0.6278777731268314, 1: 2.454991816693944}"
            ]
          },
          "metadata": {},
          "execution_count": 37
        }
      ],
      "source": [
        "from sklearn.utils import class_weight\n",
        "\n",
        "class_weights = class_weight.compute_class_weight('balanced',\n",
        "                                                  classes=np.unique(y_train),\n",
        "                                                  y=y_train)\n",
        "\n",
        "class_weights = {0: class_weights[0], 1: class_weights[1]}\n",
        "class_weights"
      ]
    },
    {
      "cell_type": "code",
      "execution_count": 38,
      "id": "399b81bc",
      "metadata": {
        "execution": {
          "iopub.execute_input": "2022-03-13T16:34:34.059885Z",
          "iopub.status.busy": "2022-03-13T16:34:34.058808Z",
          "iopub.status.idle": "2022-03-13T16:34:57.425839Z",
          "shell.execute_reply": "2022-03-13T16:34:57.426424Z",
          "shell.execute_reply.started": "2022-03-13T16:26:03.865961Z"
        },
        "papermill": {
          "duration": 23.820803,
          "end_time": "2022-03-13T16:34:57.426628",
          "exception": false,
          "start_time": "2022-03-13T16:34:33.605825",
          "status": "completed"
        },
        "scrolled": true,
        "tags": [],
        "colab": {
          "base_uri": "https://localhost:8080/"
        },
        "id": "399b81bc",
        "outputId": "18c8c188-9ef0-478a-c46a-97b88f4f18c0"
      },
      "outputs": [
        {
          "output_type": "stream",
          "name": "stdout",
          "text": [
            "Epoch 1/200\n",
            "64/64 [==============================] - 1s 7ms/step - loss: 0.7060 - recall: 0.8257 - val_loss: 0.6742 - val_recall: 0.5691\n",
            "Epoch 2/200\n",
            "64/64 [==============================] - 0s 3ms/step - loss: 0.6758 - recall: 0.5890 - val_loss: 0.6515 - val_recall: 0.6685\n",
            "Epoch 3/200\n",
            "64/64 [==============================] - 0s 4ms/step - loss: 0.6557 - recall: 0.6265 - val_loss: 0.6095 - val_recall: 0.6630\n",
            "Epoch 4/200\n",
            "64/64 [==============================] - 0s 3ms/step - loss: 0.6308 - recall: 0.6416 - val_loss: 0.5765 - val_recall: 0.6464\n",
            "Epoch 5/200\n",
            "64/64 [==============================] - 0s 3ms/step - loss: 0.6140 - recall: 0.6640 - val_loss: 0.6163 - val_recall: 0.7293\n",
            "Epoch 6/200\n",
            "64/64 [==============================] - 0s 3ms/step - loss: 0.6015 - recall: 0.6834 - val_loss: 0.5469 - val_recall: 0.6519\n",
            "Epoch 7/200\n",
            "64/64 [==============================] - 0s 3ms/step - loss: 0.5944 - recall: 0.6852 - val_loss: 0.5760 - val_recall: 0.7459\n",
            "Epoch 8/200\n",
            "64/64 [==============================] - 0s 3ms/step - loss: 0.5880 - recall: 0.6798 - val_loss: 0.5682 - val_recall: 0.7238\n",
            "Epoch 9/200\n",
            "64/64 [==============================] - 0s 4ms/step - loss: 0.5817 - recall: 0.6955 - val_loss: 0.5958 - val_recall: 0.7569\n",
            "Epoch 10/200\n",
            "64/64 [==============================] - 0s 4ms/step - loss: 0.5764 - recall: 0.7010 - val_loss: 0.5597 - val_recall: 0.7238\n",
            "Epoch 11/200\n",
            "64/64 [==============================] - 0s 3ms/step - loss: 0.5729 - recall: 0.6925 - val_loss: 0.5616 - val_recall: 0.7403\n",
            "Epoch 12/200\n",
            "64/64 [==============================] - 0s 3ms/step - loss: 0.5680 - recall: 0.7143 - val_loss: 0.5545 - val_recall: 0.7459\n",
            "Epoch 13/200\n",
            "64/64 [==============================] - 0s 3ms/step - loss: 0.5639 - recall: 0.6979 - val_loss: 0.6012 - val_recall: 0.8011\n",
            "Epoch 14/200\n",
            "64/64 [==============================] - 0s 6ms/step - loss: 0.5602 - recall: 0.7082 - val_loss: 0.5248 - val_recall: 0.7182\n",
            "Epoch 15/200\n",
            "64/64 [==============================] - 1s 11ms/step - loss: 0.5550 - recall: 0.7088 - val_loss: 0.5231 - val_recall: 0.7293\n",
            "Epoch 16/200\n",
            "64/64 [==============================] - 0s 3ms/step - loss: 0.5522 - recall: 0.7113 - val_loss: 0.5292 - val_recall: 0.7403\n",
            "Epoch 17/200\n",
            "64/64 [==============================] - 0s 3ms/step - loss: 0.5465 - recall: 0.7209 - val_loss: 0.4986 - val_recall: 0.7182\n",
            "Epoch 18/200\n",
            "64/64 [==============================] - 0s 3ms/step - loss: 0.5419 - recall: 0.7143 - val_loss: 0.5060 - val_recall: 0.7293\n",
            "Epoch 19/200\n",
            "64/64 [==============================] - 0s 3ms/step - loss: 0.5380 - recall: 0.7173 - val_loss: 0.5194 - val_recall: 0.7569\n",
            "Epoch 20/200\n",
            "64/64 [==============================] - 0s 3ms/step - loss: 0.5329 - recall: 0.7288 - val_loss: 0.4990 - val_recall: 0.7514\n",
            "Epoch 21/200\n",
            "64/64 [==============================] - 0s 3ms/step - loss: 0.5279 - recall: 0.7252 - val_loss: 0.5259 - val_recall: 0.7901\n",
            "Epoch 22/200\n",
            "64/64 [==============================] - 0s 3ms/step - loss: 0.5243 - recall: 0.7300 - val_loss: 0.4775 - val_recall: 0.7514\n",
            "Epoch 23/200\n",
            "64/64 [==============================] - 0s 3ms/step - loss: 0.5216 - recall: 0.7312 - val_loss: 0.4832 - val_recall: 0.7624\n",
            "Epoch 24/200\n",
            "64/64 [==============================] - 0s 3ms/step - loss: 0.5182 - recall: 0.7240 - val_loss: 0.4830 - val_recall: 0.7680\n",
            "Epoch 25/200\n",
            "64/64 [==============================] - 0s 3ms/step - loss: 0.5138 - recall: 0.7391 - val_loss: 0.4964 - val_recall: 0.7845\n",
            "Epoch 26/200\n",
            "64/64 [==============================] - 0s 3ms/step - loss: 0.5117 - recall: 0.7337 - val_loss: 0.4483 - val_recall: 0.7459\n",
            "Epoch 27/200\n",
            "64/64 [==============================] - 0s 3ms/step - loss: 0.5098 - recall: 0.7367 - val_loss: 0.4933 - val_recall: 0.7790\n",
            "Epoch 28/200\n",
            "64/64 [==============================] - 0s 5ms/step - loss: 0.5092 - recall: 0.7439 - val_loss: 0.4885 - val_recall: 0.7790\n",
            "Epoch 29/200\n",
            "64/64 [==============================] - 0s 5ms/step - loss: 0.5049 - recall: 0.7427 - val_loss: 0.4831 - val_recall: 0.7790\n",
            "Epoch 30/200\n",
            "64/64 [==============================] - 0s 6ms/step - loss: 0.5039 - recall: 0.7433 - val_loss: 0.5152 - val_recall: 0.8287\n",
            "Epoch 31/200\n",
            "64/64 [==============================] - 0s 5ms/step - loss: 0.5027 - recall: 0.7530 - val_loss: 0.4961 - val_recall: 0.7845\n",
            "Epoch 32/200\n",
            "64/64 [==============================] - 0s 5ms/step - loss: 0.5008 - recall: 0.7415 - val_loss: 0.4515 - val_recall: 0.7790\n",
            "Epoch 33/200\n",
            "64/64 [==============================] - 0s 5ms/step - loss: 0.4993 - recall: 0.7506 - val_loss: 0.4562 - val_recall: 0.7735\n",
            "Epoch 34/200\n",
            "64/64 [==============================] - 0s 5ms/step - loss: 0.4981 - recall: 0.7379 - val_loss: 0.4572 - val_recall: 0.7735\n",
            "Epoch 35/200\n",
            "64/64 [==============================] - 0s 6ms/step - loss: 0.4979 - recall: 0.7482 - val_loss: 0.4848 - val_recall: 0.7901\n",
            "Epoch 36/200\n",
            "64/64 [==============================] - 0s 5ms/step - loss: 0.4964 - recall: 0.7518 - val_loss: 0.4378 - val_recall: 0.7680\n",
            "Epoch 37/200\n",
            "64/64 [==============================] - 0s 3ms/step - loss: 0.4978 - recall: 0.7403 - val_loss: 0.4456 - val_recall: 0.7680\n",
            "Epoch 38/200\n",
            "64/64 [==============================] - 0s 3ms/step - loss: 0.4955 - recall: 0.7603 - val_loss: 0.4666 - val_recall: 0.7901\n",
            "Epoch 39/200\n",
            "64/64 [==============================] - 0s 3ms/step - loss: 0.4935 - recall: 0.7554 - val_loss: 0.4445 - val_recall: 0.7845\n",
            "Epoch 40/200\n",
            "64/64 [==============================] - 0s 3ms/step - loss: 0.4934 - recall: 0.7585 - val_loss: 0.4378 - val_recall: 0.7790\n",
            "Epoch 41/200\n",
            "64/64 [==============================] - 0s 3ms/step - loss: 0.4929 - recall: 0.7464 - val_loss: 0.4705 - val_recall: 0.8011\n",
            "Epoch 42/200\n",
            "64/64 [==============================] - 0s 3ms/step - loss: 0.4932 - recall: 0.7609 - val_loss: 0.4189 - val_recall: 0.7569\n",
            "Epoch 43/200\n",
            "64/64 [==============================] - 0s 3ms/step - loss: 0.4916 - recall: 0.7464 - val_loss: 0.4473 - val_recall: 0.7735\n",
            "Epoch 44/200\n",
            "64/64 [==============================] - 0s 3ms/step - loss: 0.4912 - recall: 0.7561 - val_loss: 0.4385 - val_recall: 0.7735\n",
            "Epoch 45/200\n",
            "64/64 [==============================] - 0s 3ms/step - loss: 0.4898 - recall: 0.7585 - val_loss: 0.4583 - val_recall: 0.7956\n",
            "Epoch 46/200\n",
            "64/64 [==============================] - 0s 3ms/step - loss: 0.4899 - recall: 0.7500 - val_loss: 0.4493 - val_recall: 0.7956\n",
            "Epoch 47/200\n",
            "64/64 [==============================] - 0s 3ms/step - loss: 0.4898 - recall: 0.7542 - val_loss: 0.4527 - val_recall: 0.8011\n",
            "Epoch 48/200\n",
            "64/64 [==============================] - 0s 3ms/step - loss: 0.4892 - recall: 0.7561 - val_loss: 0.4595 - val_recall: 0.8066\n",
            "Epoch 49/200\n",
            "64/64 [==============================] - 0s 4ms/step - loss: 0.4888 - recall: 0.7615 - val_loss: 0.4194 - val_recall: 0.7680\n",
            "Epoch 50/200\n",
            "64/64 [==============================] - 0s 3ms/step - loss: 0.4880 - recall: 0.7524 - val_loss: 0.4356 - val_recall: 0.7901\n",
            "Epoch 51/200\n",
            "64/64 [==============================] - 0s 3ms/step - loss: 0.4871 - recall: 0.7603 - val_loss: 0.4432 - val_recall: 0.7956\n",
            "Epoch 52/200\n",
            "64/64 [==============================] - 0s 3ms/step - loss: 0.4879 - recall: 0.7476 - val_loss: 0.4838 - val_recall: 0.8343\n",
            "Epoch 53/200\n",
            "64/64 [==============================] - 0s 3ms/step - loss: 0.4872 - recall: 0.7669 - val_loss: 0.4090 - val_recall: 0.7569\n",
            "Epoch 54/200\n",
            "64/64 [==============================] - 0s 3ms/step - loss: 0.4879 - recall: 0.7542 - val_loss: 0.4119 - val_recall: 0.7624\n",
            "Epoch 55/200\n",
            "64/64 [==============================] - 0s 3ms/step - loss: 0.4870 - recall: 0.7573 - val_loss: 0.4352 - val_recall: 0.7901\n",
            "Epoch 56/200\n",
            "64/64 [==============================] - 0s 3ms/step - loss: 0.4863 - recall: 0.7536 - val_loss: 0.4899 - val_recall: 0.8343\n",
            "Epoch 57/200\n",
            "64/64 [==============================] - 0s 3ms/step - loss: 0.4861 - recall: 0.7579 - val_loss: 0.4781 - val_recall: 0.8343\n",
            "Epoch 58/200\n",
            "64/64 [==============================] - 0s 4ms/step - loss: 0.4844 - recall: 0.7603 - val_loss: 0.4370 - val_recall: 0.7956\n",
            "Epoch 59/200\n",
            "64/64 [==============================] - 0s 3ms/step - loss: 0.4850 - recall: 0.7573 - val_loss: 0.4662 - val_recall: 0.8287\n",
            "Epoch 60/200\n",
            "64/64 [==============================] - 0s 3ms/step - loss: 0.4842 - recall: 0.7561 - val_loss: 0.4318 - val_recall: 0.7956\n",
            "Epoch 61/200\n",
            "64/64 [==============================] - 0s 3ms/step - loss: 0.4865 - recall: 0.7657 - val_loss: 0.4171 - val_recall: 0.7735\n",
            "Epoch 62/200\n",
            "64/64 [==============================] - 0s 3ms/step - loss: 0.4823 - recall: 0.7645 - val_loss: 0.4979 - val_recall: 0.8453\n",
            "Epoch 63/200\n",
            "64/64 [==============================] - 0s 3ms/step - loss: 0.4829 - recall: 0.7585 - val_loss: 0.4498 - val_recall: 0.8122\n",
            "Epoch 64/200\n",
            "64/64 [==============================] - 0s 3ms/step - loss: 0.4829 - recall: 0.7573 - val_loss: 0.4640 - val_recall: 0.8398\n",
            "Epoch 65/200\n",
            "64/64 [==============================] - 0s 3ms/step - loss: 0.4820 - recall: 0.7627 - val_loss: 0.4150 - val_recall: 0.7735\n",
            "Epoch 66/200\n",
            "64/64 [==============================] - 0s 3ms/step - loss: 0.4829 - recall: 0.7554 - val_loss: 0.4768 - val_recall: 0.8398\n",
            "Epoch 67/200\n",
            "64/64 [==============================] - 0s 3ms/step - loss: 0.4824 - recall: 0.7682 - val_loss: 0.4127 - val_recall: 0.7680\n",
            "Epoch 68/200\n",
            "64/64 [==============================] - 0s 3ms/step - loss: 0.4812 - recall: 0.7554 - val_loss: 0.4343 - val_recall: 0.8066\n",
            "Epoch 68: early stopping\n"
          ]
        },
        {
          "output_type": "execute_result",
          "data": {
            "text/plain": [
              "<keras.src.callbacks.History at 0x791832f98ac0>"
            ]
          },
          "metadata": {},
          "execution_count": 38
        }
      ],
      "source": [
        "model.fit(x=X_train,\n",
        "          y=y_train,\n",
        "          validation_split=.1,\n",
        "          batch_size=128,\n",
        "          epochs=200,\n",
        "          verbose=1,\n",
        "          callbacks=[early_stop],\n",
        "          class_weight=class_weights)"
      ]
    },
    {
      "cell_type": "code",
      "execution_count": 39,
      "id": "a573a4ec",
      "metadata": {
        "cell_style": "split",
        "execution": {
          "iopub.execute_input": "2022-03-13T16:34:58.713181Z",
          "iopub.status.busy": "2022-03-13T16:34:58.711910Z",
          "iopub.status.idle": "2022-03-13T16:34:59.102093Z",
          "shell.execute_reply": "2022-03-13T16:34:59.102644Z",
          "shell.execute_reply.started": "2022-03-13T16:26:20.601131Z"
        },
        "id": "a573a4ec",
        "papermill": {
          "duration": 1.039938,
          "end_time": "2022-03-13T16:34:59.102821",
          "exception": false,
          "start_time": "2022-03-13T16:34:58.062883",
          "status": "completed"
        },
        "tags": [],
        "colab": {
          "base_uri": "https://localhost:8080/",
          "height": 448
        },
        "outputId": "d15706b0-26df-4511-8be3-65f13516ad0d"
      },
      "outputs": [
        {
          "output_type": "execute_result",
          "data": {
            "text/plain": [
              "<Axes: >"
            ]
          },
          "metadata": {},
          "execution_count": 39
        },
        {
          "output_type": "display_data",
          "data": {
            "text/plain": [
              "<Figure size 640x480 with 1 Axes>"
            ],
            "image/png": "[encoded data removed]"
          },
          "metadata": {}
        }
      ],
      "source": [
        "loss_df = pd.DataFrame(model.history.history)\n",
        "loss_df.plot()"
      ]
    },
    {
      "cell_type": "code",
      "execution_count": 40,
      "id": "1be6f388",
      "metadata": {
        "cell_style": "split",
        "execution": {
          "iopub.execute_input": "2022-03-13T16:35:00.378005Z",
          "iopub.status.busy": "2022-03-13T16:35:00.376927Z",
          "iopub.status.idle": "2022-03-13T16:35:00.526588Z",
          "shell.execute_reply": "2022-03-13T16:35:00.526013Z",
          "shell.execute_reply.started": "2022-03-13T16:26:25.133970Z"
        },
        "papermill": {
          "duration": 0.791041,
          "end_time": "2022-03-13T16:35:00.526733",
          "exception": false,
          "start_time": "2022-03-13T16:34:59.735692",
          "status": "completed"
        },
        "tags": [],
        "colab": {
          "base_uri": "https://localhost:8080/"
        },
        "id": "1be6f388",
        "outputId": "f395a592-27ad-4f4c-eb99-14744f675b02"
      },
      "outputs": [
        {
          "output_type": "stream",
          "name": "stdout",
          "text": [
            "32/32 [==============================] - 0s 2ms/step\n",
            "[[616 180]\n",
            " [ 54 150]]\n",
            "              precision    recall  f1-score   support\n",
            "\n",
            "           0       0.92      0.77      0.84       796\n",
            "           1       0.45      0.74      0.56       204\n",
            "\n",
            "    accuracy                           0.77      1000\n",
            "   macro avg       0.69      0.75      0.70      1000\n",
            "weighted avg       0.82      0.77      0.78      1000\n",
            "\n"
          ]
        }
      ],
      "source": [
        "y_pred = (model.predict(X_test) > 0.5).astype(\"int32\")\n",
        "print(confusion_matrix(y_test, y_pred))\n",
        "print(classification_report(y_test, y_pred))"
      ]
    },
    {
      "cell_type": "markdown",
      "id": "b4d2e441",
      "metadata": {
        "papermill": {
          "duration": 0.646615,
          "end_time": "2022-03-13T16:35:01.816582",
          "exception": false,
          "start_time": "2022-03-13T16:35:01.169967",
          "status": "completed"
        },
        "tags": [],
        "id": "b4d2e441"
      },
      "source": [
        "### ROC (Receiver Operating Curve) and AUC (Area Under Curve) for model"
      ]
    },
    {
      "cell_type": "code",
      "execution_count": 43,
      "id": "6bbf3113",
      "metadata": {
        "cell_style": "split",
        "execution": {
          "iopub.execute_input": "2022-03-13T16:35:03.097454Z",
          "iopub.status.busy": "2022-03-13T16:35:03.096379Z",
          "iopub.status.idle": "2022-03-13T16:35:03.544238Z",
          "shell.execute_reply": "2022-03-13T16:35:03.543655Z",
          "shell.execute_reply.started": "2022-03-13T16:26:25.231910Z"
        },
        "papermill": {
          "duration": 1.090036,
          "end_time": "2022-03-13T16:35:03.544400",
          "exception": false,
          "start_time": "2022-03-13T16:35:02.454364",
          "status": "completed"
        },
        "tags": [],
        "colab": {
          "base_uri": "https://localhost:8080/",
          "height": 490
        },
        "id": "6bbf3113",
        "outputId": "eb5a1f3a-9154-405b-9204-f43e178aac50"
      },
      "outputs": [
        {
          "output_type": "stream",
          "name": "stdout",
          "text": [
            "32/32 [==============================] - 0s 2ms/step\n"
          ]
        },
        {
          "output_type": "display_data",
          "data": {
            "text/plain": [
              "<Figure size 640x480 with 1 Axes>"
            ],
            "image/png": "[encoded data removed]"
          },
          "metadata": {}
        }
      ],
      "source": [
        "y_pred_proba = model.predict(X_test)\n",
        "precisions, recalls, thresholds = precision_recall_curve(y_test, y_pred_proba)\n",
        "plt.plot(recalls, precisions, label='ANN')\n",
        "plt.xlabel('recalls')\n",
        "plt.ylabel('precisions')\n",
        "plt.title('Precision-Recall curve')\n",
        "plt.show()\n"
      ]
    },
    {
      "cell_type": "code",
      "execution_count": 44,
      "id": "737016ce",
      "metadata": {
        "cell_style": "split",
        "execution": {
          "iopub.execute_input": "2022-03-13T16:35:04.860022Z",
          "iopub.status.busy": "2022-03-13T16:35:04.858995Z",
          "iopub.status.idle": "2022-03-13T16:35:04.866020Z",
          "shell.execute_reply": "2022-03-13T16:35:04.866575Z",
          "shell.execute_reply.started": "2022-03-13T16:26:25.512499Z"
        },
        "papermill": {
          "duration": 0.67062,
          "end_time": "2022-03-13T16:35:04.866738",
          "exception": false,
          "start_time": "2022-03-13T16:35:04.196118",
          "status": "completed"
        },
        "tags": [],
        "colab": {
          "base_uri": "https://localhost:8080/"
        },
        "id": "737016ce",
        "outputId": "e27d07ed-7706-42ec-928c-7a97838c339a"
      },
      "outputs": [
        {
          "output_type": "execute_result",
          "data": {
            "text/plain": [
              "0.6519616033489704"
            ]
          },
          "metadata": {},
          "execution_count": 44
        }
      ],
      "source": [
        "average_precision_score(y_test, y_pred_proba)   #0.692983743350624"
      ]
    },
    {
      "cell_type": "code",
      "execution_count": 45,
      "id": "8c194309",
      "metadata": {
        "id": "8c194309"
      },
      "outputs": [],
      "source": [
        "from tensorflow.keras.optimizers import Adadelta, RMSprop, Nadam, Adam, SGD\n",
        "def build_classifier(optimizer,learn_rate):\n",
        "    classifier = Sequential()\n",
        "    classifier.add(Dense(units=16, activation='relu'))\n",
        "    classifier.add(Dense(units=8, activation='relu'))\n",
        "    classifier.add(Dense(units=1, activation='sigmoid'))\n",
        "    classifier.compile(optimizer=optimizer(learn_rate),\n",
        "                       loss='binary_crossentropy',\n",
        "                       metrics=['Recall'])\n",
        "    return classifier"
      ]
    },
    {
      "cell_type": "code",
      "execution_count": 46,
      "id": "4e406143",
      "metadata": {
        "colab": {
          "base_uri": "https://localhost:8080/"
        },
        "id": "4e406143",
        "outputId": "263ce3cc-c5d9-4b4b-8683-8b9182d4193d"
      },
      "outputs": [
        {
          "output_type": "execute_result",
          "data": {
            "text/plain": [
              "{0: 0.6278777731268314, 1: 2.454991816693944}"
            ]
          },
          "metadata": {},
          "execution_count": 46
        }
      ],
      "source": [
        "class_weights"
      ]
    },
    {
      "cell_type": "code",
      "execution_count": 47,
      "id": "98ee9950",
      "metadata": {
        "execution": {
          "iopub.execute_input": "2022-03-13T16:35:09.057741Z",
          "iopub.status.busy": "2022-03-13T16:35:09.056882Z",
          "iopub.status.idle": "2022-03-13T16:35:09.061376Z",
          "shell.execute_reply": "2022-03-13T16:35:09.060735Z",
          "shell.execute_reply.started": "2022-03-13T16:26:32.656434Z"
        },
        "papermill": {
          "duration": 0.654164,
          "end_time": "2022-03-13T16:35:09.061513",
          "exception": false,
          "start_time": "2022-03-13T16:35:08.407349",
          "status": "completed"
        },
        "tags": [],
        "id": "98ee9950"
      },
      "outputs": [],
      "source": [
        "from sklearn.model_selection import GridSearchCV\n",
        "\n",
        "tf.random.set_seed(seed)\n",
        "\n",
        "classifier = KerasClassifier(build_fn=build_classifier, epochs=200)\n",
        "parameters = {\n",
        "    'batch_size': [128, 256],\n",
        "    'optimizer': [Adam, RMSprop, Nadam, Adadelta, SGD],\n",
        "    'learn_rate': [0.001, 0.003, 0.005]\n",
        "}\n",
        "grid_model = GridSearchCV(estimator=classifier,\n",
        "                          param_grid=parameters,\n",
        "                          scoring='recall',\n",
        "                          cv=5,\n",
        "                          n_jobs=-1,\n",
        "                          verbose=0)\n",
        "#grid_model.fit(X_train,y_train, class_weight=class_weights)"
      ]
    },
    {
      "cell_type": "code",
      "execution_count": 48,
      "id": "909f94b1",
      "metadata": {
        "id": "909f94b1"
      },
      "outputs": [],
      "source": [
        "# Create a custom wrapper class\n",
        "class CustomKerasClassifier(KerasClassifier):\n",
        "    def __init__(self, build_fn=None, learn_rate=0.001, **kwargs):\n",
        "        self.learn_rate = learn_rate\n",
        "        super(CustomKerasClassifier, self).__init__(build_fn=build_fn, **kwargs)\n",
        "\n",
        "    def build_fn(self):\n",
        "        return build_classifier(learn_rate=self.learn_rate)\n",
        "\n",
        "# Create a CustomKerasClassifier instance\n",
        "classifier = CustomKerasClassifier(epochs=200, batch_size=128)\n",
        "\n",
        "# Define the parameters grid for grid search\n",
        "parameters = {\n",
        "    'learn_rate': [0.001, 0.003, 0.005],\n",
        "    'batch_size': [128, 256]\n",
        "}"
      ]
    },
    {
      "cell_type": "code",
      "execution_count": 49,
      "id": "578caaca",
      "metadata": {
        "colab": {
          "base_uri": "https://localhost:8080/"
        },
        "id": "578caaca",
        "outputId": "c38bac6a-deaf-4b6f-ea43-9c0b18da7704"
      },
      "outputs": [
        {
          "output_type": "execute_result",
          "data": {
            "text/plain": [
              "{0: 0.6278777731268314, 1: 2.454991816693944}"
            ]
          },
          "metadata": {},
          "execution_count": 49
        }
      ],
      "source": [
        "class_weights"
      ]
    },
    {
      "cell_type": "code",
      "execution_count": 50,
      "id": "4b53208d",
      "metadata": {
        "id": "4b53208d"
      },
      "outputs": [],
      "source": [
        "\n",
        "\n",
        "classifier = KerasClassifier(build_fn=build_classifier, epochs=200)\n",
        "parameters = {\n",
        "    'batch_size': [128, 256],\n",
        "    'optimizer': [Adam, RMSprop, Nadam, Adadelta, SGD],\n",
        "    'learn_rate': [0.001, 0.003, 0.005]\n",
        "}\n",
        "grid_model = GridSearchCV(estimator=classifier,\n",
        "                          param_grid=parameters,\n",
        "                          scoring='recall',\n",
        "                          cv=5,\n",
        "                          n_jobs=-1,\n",
        "                          verbose=0)"
      ]
    },
    {
      "cell_type": "code",
      "execution_count": 52,
      "id": "eff2469e",
      "metadata": {
        "id": "eff2469e"
      },
      "outputs": [],
      "source": [
        "# grid_model.fit(X_train, y_train, class_weight=class_weights)"
      ]
    },
    {
      "cell_type": "markdown",
      "id": "de8b15ae",
      "metadata": {
        "papermill": {
          "duration": 1.271435,
          "end_time": "2022-03-13T16:37:02.549812",
          "exception": false,
          "start_time": "2022-03-13T16:37:01.278377",
          "status": "completed"
        },
        "tags": [],
        "id": "de8b15ae"
      },
      "source": [
        "### ROC (Receiver Operating Curve) and AUC (Area Under Curve) for grid_model"
      ]
    },
    {
      "cell_type": "code",
      "execution_count": null,
      "id": "b76752e9",
      "metadata": {
        "cell_style": "split",
        "execution": {
          "iopub.execute_input": "2022-03-13T16:37:05.149773Z",
          "iopub.status.busy": "2022-03-13T16:37:05.148687Z",
          "iopub.status.idle": "2022-03-13T16:37:05.817184Z",
          "shell.execute_reply": "2022-03-13T16:37:05.817773Z",
          "shell.execute_reply.started": "2022-03-13T16:28:48.240724Z"
        },
        "papermill": {
          "duration": 1.951563,
          "end_time": "2022-03-13T16:37:05.817971",
          "exception": false,
          "start_time": "2022-03-13T16:37:03.866408",
          "status": "completed"
        },
        "tags": [],
        "id": "b76752e9"
      },
      "outputs": [],
      "source": [
        "#y_pred_proba = grid_model.predict(X_test)\n",
        "#precisions, recalls, thresholds = precision_recall_curve(y_test, y_pred_proba)\n",
        "#plt.plot(recalls, precisions, label='ANN')\n",
        "#plt.xlabel('recalls')\n",
        "#plt.ylabel('precisions')\n",
        "#plt.title('Precision-Recall curve')\n",
        "#plt.show()"
      ]
    },
    {
      "cell_type": "code",
      "execution_count": 53,
      "id": "71741108",
      "metadata": {
        "cell_style": "split",
        "execution": {
          "iopub.execute_input": "2022-03-13T16:37:08.776541Z",
          "iopub.status.busy": "2022-03-13T16:37:08.773090Z",
          "iopub.status.idle": "2022-03-13T16:37:08.781676Z",
          "shell.execute_reply": "2022-03-13T16:37:08.782155Z",
          "shell.execute_reply.started": "2022-03-13T16:28:49.072121Z"
        },
        "papermill": {
          "duration": 1.292719,
          "end_time": "2022-03-13T16:37:08.782344",
          "exception": false,
          "start_time": "2022-03-13T16:37:07.489625",
          "status": "completed"
        },
        "scrolled": true,
        "tags": [],
        "colab": {
          "base_uri": "https://localhost:8080/"
        },
        "id": "71741108",
        "outputId": "f39ab5d1-a6d0-45d1-d037-117a20792e14"
      },
      "outputs": [
        {
          "output_type": "execute_result",
          "data": {
            "text/plain": [
              "0.6519616033489704"
            ]
          },
          "metadata": {},
          "execution_count": 53
        }
      ],
      "source": [
        "average_precision_score(y_test, y_pred_proba)"
      ]
    },
    {
      "cell_type": "markdown",
      "id": "c0183755",
      "metadata": {
        "papermill": {
          "duration": 1.269124,
          "end_time": "2022-03-13T16:37:11.320422",
          "exception": false,
          "start_time": "2022-03-13T16:37:10.051298",
          "status": "completed"
        },
        "tags": [],
        "id": "c0183755"
      },
      "source": [
        "## Final Model and Model Deployment"
      ]
    },
    {
      "cell_type": "code",
      "execution_count": 54,
      "id": "f7b9a37d",
      "metadata": {
        "execution": {
          "iopub.execute_input": "2022-03-13T16:37:13.877343Z",
          "iopub.status.busy": "2022-03-13T16:37:13.876422Z",
          "iopub.status.idle": "2022-03-13T16:37:13.879483Z",
          "shell.execute_reply": "2022-03-13T16:37:13.879988Z",
          "shell.execute_reply.started": "2022-03-13T16:28:50.736221Z"
        },
        "papermill": {
          "duration": 1.289758,
          "end_time": "2022-03-13T16:37:13.880164",
          "exception": false,
          "start_time": "2022-03-13T16:37:12.590406",
          "status": "completed"
        },
        "tags": [],
        "id": "f7b9a37d"
      },
      "outputs": [],
      "source": [
        "import pickle\n",
        "\n",
        "pickle.dump(scaler, open(\"scaler_churn\", 'wb'))"
      ]
    },
    {
      "cell_type": "code",
      "execution_count": 55,
      "id": "37ab788a",
      "metadata": {
        "execution": {
          "iopub.execute_input": "2022-03-13T16:37:16.465407Z",
          "iopub.status.busy": "2022-03-13T16:37:16.462885Z",
          "iopub.status.idle": "2022-03-13T16:37:30.808000Z",
          "shell.execute_reply": "2022-03-13T16:37:30.808883Z",
          "shell.execute_reply.started": "2022-03-13T16:28:51.373556Z"
        },
        "papermill": {
          "duration": 15.658602,
          "end_time": "2022-03-13T16:37:30.809064",
          "exception": false,
          "start_time": "2022-03-13T16:37:15.150462",
          "status": "completed"
        },
        "scrolled": true,
        "tags": [],
        "colab": {
          "base_uri": "https://localhost:8080/"
        },
        "id": "37ab788a",
        "outputId": "2e4f1076-aec5-4585-9990-53196407c979"
      },
      "outputs": [
        {
          "output_type": "stream",
          "name": "stdout",
          "text": [
            "Epoch 1/200\n",
            "36/36 [==============================] - 1s 10ms/step - loss: 0.6978 - recall: 0.5041 - val_loss: 0.6894 - val_recall: 0.6078\n",
            "Epoch 2/200\n",
            "36/36 [==============================] - 0s 5ms/step - loss: 0.6556 - recall: 0.6558 - val_loss: 0.6811 - val_recall: 0.7059\n",
            "Epoch 3/200\n",
            "36/36 [==============================] - 0s 4ms/step - loss: 0.6214 - recall: 0.6841 - val_loss: 0.6370 - val_recall: 0.7157\n",
            "Epoch 4/200\n",
            "36/36 [==============================] - 0s 4ms/step - loss: 0.6025 - recall: 0.6967 - val_loss: 0.6285 - val_recall: 0.7353\n",
            "Epoch 5/200\n",
            "36/36 [==============================] - 0s 4ms/step - loss: 0.5893 - recall: 0.7038 - val_loss: 0.5717 - val_recall: 0.6569\n",
            "Epoch 6/200\n",
            "36/36 [==============================] - 0s 4ms/step - loss: 0.5815 - recall: 0.6912 - val_loss: 0.6637 - val_recall: 0.8039\n",
            "Epoch 7/200\n",
            "36/36 [==============================] - 0s 4ms/step - loss: 0.5752 - recall: 0.7087 - val_loss: 0.5572 - val_recall: 0.6667\n",
            "Epoch 8/200\n",
            "36/36 [==============================] - 0s 4ms/step - loss: 0.5661 - recall: 0.7087 - val_loss: 0.5769 - val_recall: 0.7010\n",
            "Epoch 9/200\n",
            "36/36 [==============================] - 0s 3ms/step - loss: 0.5576 - recall: 0.7141 - val_loss: 0.6366 - val_recall: 0.8088\n",
            "Epoch 10/200\n",
            "36/36 [==============================] - 0s 3ms/step - loss: 0.5502 - recall: 0.7229 - val_loss: 0.5607 - val_recall: 0.7108\n",
            "Epoch 11/200\n",
            "36/36 [==============================] - 0s 3ms/step - loss: 0.5411 - recall: 0.7338 - val_loss: 0.5588 - val_recall: 0.7157\n",
            "Epoch 12/200\n",
            "36/36 [==============================] - 0s 4ms/step - loss: 0.5343 - recall: 0.7256 - val_loss: 0.6050 - val_recall: 0.7990\n",
            "Epoch 13/200\n",
            "36/36 [==============================] - 0s 4ms/step - loss: 0.5263 - recall: 0.7441 - val_loss: 0.5595 - val_recall: 0.7549\n",
            "Epoch 14/200\n",
            "36/36 [==============================] - 0s 4ms/step - loss: 0.5203 - recall: 0.7420 - val_loss: 0.5191 - val_recall: 0.6863\n",
            "Epoch 15/200\n",
            "36/36 [==============================] - 0s 4ms/step - loss: 0.5167 - recall: 0.7572 - val_loss: 0.5188 - val_recall: 0.7059\n",
            "Epoch 16/200\n",
            "36/36 [==============================] - 0s 4ms/step - loss: 0.5104 - recall: 0.7420 - val_loss: 0.5528 - val_recall: 0.7549\n",
            "Epoch 17/200\n",
            "36/36 [==============================] - 0s 4ms/step - loss: 0.5099 - recall: 0.7501 - val_loss: 0.4708 - val_recall: 0.6373\n",
            "Epoch 18/200\n",
            "36/36 [==============================] - 0s 4ms/step - loss: 0.5050 - recall: 0.7420 - val_loss: 0.5865 - val_recall: 0.8284\n",
            "Epoch 19/200\n",
            "36/36 [==============================] - 0s 4ms/step - loss: 0.5003 - recall: 0.7507 - val_loss: 0.5372 - val_recall: 0.7647\n",
            "Epoch 20/200\n",
            "36/36 [==============================] - 0s 4ms/step - loss: 0.4976 - recall: 0.7447 - val_loss: 0.5451 - val_recall: 0.7843\n",
            "Epoch 21/200\n",
            "36/36 [==============================] - 0s 4ms/step - loss: 0.4952 - recall: 0.7561 - val_loss: 0.5138 - val_recall: 0.7402\n",
            "Epoch 22/200\n",
            "36/36 [==============================] - 0s 5ms/step - loss: 0.4932 - recall: 0.7540 - val_loss: 0.5093 - val_recall: 0.7402\n",
            "Epoch 23/200\n",
            "36/36 [==============================] - 0s 5ms/step - loss: 0.4903 - recall: 0.7545 - val_loss: 0.4675 - val_recall: 0.6961\n",
            "Epoch 24/200\n",
            "36/36 [==============================] - 0s 5ms/step - loss: 0.4920 - recall: 0.7398 - val_loss: 0.5262 - val_recall: 0.7598\n",
            "Epoch 25/200\n",
            "36/36 [==============================] - 0s 6ms/step - loss: 0.4868 - recall: 0.7556 - val_loss: 0.4657 - val_recall: 0.6814\n",
            "Epoch 26/200\n",
            "36/36 [==============================] - 0s 5ms/step - loss: 0.4870 - recall: 0.7572 - val_loss: 0.4577 - val_recall: 0.6814\n",
            "Epoch 27/200\n",
            "36/36 [==============================] - 0s 6ms/step - loss: 0.4861 - recall: 0.7469 - val_loss: 0.5295 - val_recall: 0.7843\n",
            "Epoch 28/200\n",
            "36/36 [==============================] - 0s 5ms/step - loss: 0.4857 - recall: 0.7556 - val_loss: 0.4725 - val_recall: 0.7010\n",
            "Epoch 29/200\n",
            "36/36 [==============================] - 0s 6ms/step - loss: 0.4841 - recall: 0.7474 - val_loss: 0.5083 - val_recall: 0.7500\n",
            "Epoch 30/200\n",
            "36/36 [==============================] - 0s 7ms/step - loss: 0.4822 - recall: 0.7545 - val_loss: 0.4802 - val_recall: 0.7304\n",
            "Epoch 31/200\n",
            "36/36 [==============================] - 0s 6ms/step - loss: 0.4826 - recall: 0.7632 - val_loss: 0.4643 - val_recall: 0.6716\n",
            "Epoch 32/200\n",
            "36/36 [==============================] - 0s 6ms/step - loss: 0.4844 - recall: 0.7550 - val_loss: 0.4566 - val_recall: 0.6912\n",
            "Epoch 33/200\n",
            "36/36 [==============================] - 0s 5ms/step - loss: 0.4894 - recall: 0.7441 - val_loss: 0.4577 - val_recall: 0.6618\n",
            "Epoch 34/200\n",
            "36/36 [==============================] - 0s 6ms/step - loss: 0.4876 - recall: 0.7474 - val_loss: 0.5438 - val_recall: 0.7892\n",
            "Epoch 35/200\n",
            "36/36 [==============================] - 0s 5ms/step - loss: 0.4787 - recall: 0.7561 - val_loss: 0.5520 - val_recall: 0.7990\n",
            "Epoch 36/200\n",
            "36/36 [==============================] - 0s 6ms/step - loss: 0.4798 - recall: 0.7561 - val_loss: 0.5526 - val_recall: 0.7990\n",
            "Epoch 37/200\n",
            "36/36 [==============================] - 0s 6ms/step - loss: 0.4781 - recall: 0.7616 - val_loss: 0.5033 - val_recall: 0.7696\n",
            "Epoch 38/200\n",
            "36/36 [==============================] - 0s 5ms/step - loss: 0.4795 - recall: 0.7529 - val_loss: 0.4528 - val_recall: 0.7157\n",
            "Epoch 39/200\n",
            "36/36 [==============================] - 0s 5ms/step - loss: 0.4771 - recall: 0.7627 - val_loss: 0.4515 - val_recall: 0.6667\n",
            "Epoch 40/200\n",
            "36/36 [==============================] - 0s 3ms/step - loss: 0.4811 - recall: 0.7480 - val_loss: 0.5396 - val_recall: 0.7843\n",
            "Epoch 41/200\n",
            "36/36 [==============================] - 0s 4ms/step - loss: 0.4753 - recall: 0.7561 - val_loss: 0.5129 - val_recall: 0.7647\n",
            "Epoch 42/200\n",
            "36/36 [==============================] - 0s 5ms/step - loss: 0.4752 - recall: 0.7518 - val_loss: 0.5055 - val_recall: 0.7696\n",
            "Epoch 43/200\n",
            "36/36 [==============================] - 0s 5ms/step - loss: 0.4746 - recall: 0.7512 - val_loss: 0.5219 - val_recall: 0.7745\n",
            "Epoch 44/200\n",
            "36/36 [==============================] - 0s 4ms/step - loss: 0.4753 - recall: 0.7561 - val_loss: 0.4610 - val_recall: 0.7059\n",
            "Epoch 45/200\n",
            "36/36 [==============================] - 0s 8ms/step - loss: 0.4751 - recall: 0.7540 - val_loss: 0.5737 - val_recall: 0.8186\n",
            "Epoch 46/200\n",
            "36/36 [==============================] - 0s 7ms/step - loss: 0.4822 - recall: 0.7627 - val_loss: 0.5181 - val_recall: 0.7745\n",
            "Epoch 47/200\n",
            "36/36 [==============================] - 0s 8ms/step - loss: 0.4761 - recall: 0.7496 - val_loss: 0.5405 - val_recall: 0.7843\n",
            "Epoch 48/200\n",
            "36/36 [==============================] - 0s 7ms/step - loss: 0.4742 - recall: 0.7523 - val_loss: 0.5009 - val_recall: 0.7549\n",
            "Epoch 49/200\n",
            "36/36 [==============================] - 0s 6ms/step - loss: 0.4737 - recall: 0.7496 - val_loss: 0.4470 - val_recall: 0.6961\n",
            "Epoch 50/200\n",
            "36/36 [==============================] - 0s 6ms/step - loss: 0.4710 - recall: 0.7501 - val_loss: 0.4927 - val_recall: 0.7402\n",
            "Epoch 51/200\n",
            "36/36 [==============================] - 0s 7ms/step - loss: 0.4710 - recall: 0.7627 - val_loss: 0.5022 - val_recall: 0.7598\n",
            "Epoch 52/200\n",
            "36/36 [==============================] - 0s 8ms/step - loss: 0.4718 - recall: 0.7480 - val_loss: 0.4984 - val_recall: 0.7451\n",
            "Epoch 53/200\n",
            "36/36 [==============================] - 0s 6ms/step - loss: 0.4711 - recall: 0.7567 - val_loss: 0.4525 - val_recall: 0.7059\n",
            "Epoch 54/200\n",
            "36/36 [==============================] - 0s 7ms/step - loss: 0.4730 - recall: 0.7545 - val_loss: 0.5368 - val_recall: 0.7892\n",
            "Epoch 55/200\n",
            "36/36 [==============================] - 0s 7ms/step - loss: 0.4727 - recall: 0.7616 - val_loss: 0.5120 - val_recall: 0.7549\n",
            "Epoch 56/200\n",
            "36/36 [==============================] - 0s 7ms/step - loss: 0.4747 - recall: 0.7589 - val_loss: 0.4525 - val_recall: 0.6912\n",
            "Epoch 57/200\n",
            "36/36 [==============================] - 0s 6ms/step - loss: 0.4696 - recall: 0.7572 - val_loss: 0.4640 - val_recall: 0.7108\n",
            "Epoch 58/200\n",
            "36/36 [==============================] - 0s 6ms/step - loss: 0.4700 - recall: 0.7523 - val_loss: 0.4482 - val_recall: 0.6912\n",
            "Epoch 59/200\n",
            "36/36 [==============================] - 0s 6ms/step - loss: 0.4719 - recall: 0.7496 - val_loss: 0.5068 - val_recall: 0.7451\n",
            "Epoch 60/200\n",
            "36/36 [==============================] - 0s 6ms/step - loss: 0.4734 - recall: 0.7545 - val_loss: 0.4674 - val_recall: 0.7353\n",
            "Epoch 61/200\n",
            "36/36 [==============================] - 0s 7ms/step - loss: 0.4722 - recall: 0.7583 - val_loss: 0.4912 - val_recall: 0.7255\n",
            "Epoch 62/200\n",
            "36/36 [==============================] - 0s 5ms/step - loss: 0.4682 - recall: 0.7567 - val_loss: 0.4901 - val_recall: 0.7451\n",
            "Epoch 63/200\n",
            "36/36 [==============================] - 0s 6ms/step - loss: 0.4696 - recall: 0.7545 - val_loss: 0.4868 - val_recall: 0.7451\n",
            "Epoch 64/200\n",
            "36/36 [==============================] - 0s 8ms/step - loss: 0.4686 - recall: 0.7501 - val_loss: 0.4695 - val_recall: 0.7157\n",
            "Epoch 64: early stopping\n"
          ]
        },
        {
          "output_type": "execute_result",
          "data": {
            "text/plain": [
              "<keras.src.callbacks.History at 0x79183390d480>"
            ]
          },
          "metadata": {},
          "execution_count": 55
        }
      ],
      "source": [
        "tf.random.set_seed(seed)\n",
        "\n",
        "model = Sequential()\n",
        "\n",
        "model.add(Dense(16, activation=\"relu\"))\n",
        "model.add(Dense(8, activation=\"relu\"))\n",
        "model.add(Dense(1, activation=\"sigmoid\"))\n",
        "\n",
        "opt = Adam(learning_rate=0.003)\n",
        "\n",
        "model.compile(optimizer=opt,\n",
        "              loss=\"binary_crossentropy\",\n",
        "              metrics=[\"Recall\"])\n",
        "\n",
        "model.fit(x=X_train,\n",
        "          y=y_train,\n",
        "          validation_data=(X_test, y_test),\n",
        "          callbacks=[early_stop],\n",
        "          batch_size=256,\n",
        "          epochs=200,\n",
        "          verbose=1,\n",
        "          class_weight=class_weights)"
      ]
    },
    {
      "cell_type": "code",
      "execution_count": 56,
      "id": "9d2f08a6",
      "metadata": {
        "cell_style": "split",
        "execution": {
          "iopub.execute_input": "2022-03-13T16:37:33.769897Z",
          "iopub.status.busy": "2022-03-13T16:37:33.768829Z",
          "iopub.status.idle": "2022-03-13T16:37:38.007745Z",
          "shell.execute_reply": "2022-03-13T16:37:38.008309Z",
          "shell.execute_reply.started": "2022-03-13T16:29:00.554046Z"
        },
        "id": "9d2f08a6",
        "papermill": {
          "duration": 5.659657,
          "end_time": "2022-03-13T16:37:38.008490",
          "exception": false,
          "start_time": "2022-03-13T16:37:32.348833",
          "status": "completed"
        },
        "tags": [],
        "colab": {
          "base_uri": "https://localhost:8080/",
          "height": 448
        },
        "outputId": "e45d091b-7838-4970-ba43-08db6babe23b"
      },
      "outputs": [
        {
          "output_type": "execute_result",
          "data": {
            "text/plain": [
              "<Axes: >"
            ]
          },
          "metadata": {},
          "execution_count": 56
        },
        {
          "output_type": "display_data",
          "data": {
            "text/plain": [
              "<Figure size 640x480 with 1 Axes>"
            ],
            "image/png": "[encoded data removed]"
          },
          "metadata": {}
        }
      ],
      "source": [
        "loss_df = pd.DataFrame(model.history.history)\n",
        "loss_df.plot()"
      ]
    },
    {
      "cell_type": "code",
      "execution_count": 57,
      "id": "3432d37f",
      "metadata": {
        "execution": {
          "iopub.execute_input": "2022-03-13T16:37:41.133432Z",
          "iopub.status.busy": "2022-03-13T16:37:41.132412Z",
          "iopub.status.idle": "2022-03-13T16:37:41.259694Z",
          "shell.execute_reply": "2022-03-13T16:37:41.260322Z",
          "shell.execute_reply.started": "2022-03-13T16:29:02.626115Z"
        },
        "papermill": {
          "duration": 1.856183,
          "end_time": "2022-03-13T16:37:41.260502",
          "exception": false,
          "start_time": "2022-03-13T16:37:39.404319",
          "status": "completed"
        },
        "tags": [],
        "colab": {
          "base_uri": "https://localhost:8080/"
        },
        "id": "3432d37f",
        "outputId": "904306c3-2896-4874-900d-f3625b401553"
      },
      "outputs": [
        {
          "output_type": "stream",
          "name": "stdout",
          "text": [
            "loss :  0.4694559574127197\n",
            "recall :  0.7156862616539001\n"
          ]
        }
      ],
      "source": [
        "loss, recall = model.evaluate(X_test, y_test, verbose=0)\n",
        "print(\"loss : \", loss)\n",
        "print(\"recall : \", recall)"
      ]
    },
    {
      "cell_type": "code",
      "execution_count": 58,
      "id": "49f1742a",
      "metadata": {
        "execution": {
          "iopub.execute_input": "2022-03-13T16:37:44.061519Z",
          "iopub.status.busy": "2022-03-13T16:37:44.060410Z",
          "iopub.status.idle": "2022-03-13T16:37:44.205433Z",
          "shell.execute_reply": "2022-03-13T16:37:44.206329Z",
          "shell.execute_reply.started": "2022-03-13T16:29:02.761613Z"
        },
        "papermill": {
          "duration": 1.550408,
          "end_time": "2022-03-13T16:37:44.206582",
          "exception": false,
          "start_time": "2022-03-13T16:37:42.656174",
          "status": "completed"
        },
        "tags": [],
        "colab": {
          "base_uri": "https://localhost:8080/"
        },
        "id": "49f1742a",
        "outputId": "767da994-86ee-42c3-9cab-26817887d53d"
      },
      "outputs": [
        {
          "output_type": "stream",
          "name": "stdout",
          "text": [
            "32/32 [==============================] - 0s 2ms/step\n",
            "[[631 165]\n",
            " [ 58 146]]\n",
            "              precision    recall  f1-score   support\n",
            "\n",
            "           0       0.92      0.79      0.85       796\n",
            "           1       0.47      0.72      0.57       204\n",
            "\n",
            "    accuracy                           0.78      1000\n",
            "   macro avg       0.69      0.75      0.71      1000\n",
            "weighted avg       0.82      0.78      0.79      1000\n",
            "\n"
          ]
        }
      ],
      "source": [
        "y_pred = (model.predict(X_test) > 0.5).astype(\"int32\")\n",
        "print(confusion_matrix(y_test, y_pred))\n",
        "print(classification_report(y_test, y_pred))"
      ]
    },
    {
      "cell_type": "code",
      "execution_count": 59,
      "id": "e4e35562",
      "metadata": {
        "execution": {
          "iopub.execute_input": "2022-03-13T16:37:47.001896Z",
          "iopub.status.busy": "2022-03-13T16:37:47.000766Z",
          "iopub.status.idle": "2022-03-13T16:37:47.027893Z",
          "shell.execute_reply": "2022-03-13T16:37:47.027165Z",
          "shell.execute_reply.started": "2022-03-13T16:29:02.877661Z"
        },
        "papermill": {
          "duration": 1.423772,
          "end_time": "2022-03-13T16:37:47.028058",
          "exception": false,
          "start_time": "2022-03-13T16:37:45.604286",
          "status": "completed"
        },
        "tags": [],
        "id": "e4e35562"
      },
      "outputs": [],
      "source": [
        "model.save('model_churn.h5')"
      ]
    },
    {
      "cell_type": "markdown",
      "id": "00975a9a",
      "metadata": {
        "id": "00975a9a",
        "papermill": {
          "duration": 1.415132,
          "end_time": "2022-03-13T16:37:49.884882",
          "exception": false,
          "start_time": "2022-03-13T16:37:48.469750",
          "status": "completed"
        },
        "tags": []
      },
      "source": [
        "### Prediction"
      ]
    },
    {
      "cell_type": "code",
      "execution_count": 60,
      "id": "2fb445ad",
      "metadata": {
        "execution": {
          "iopub.execute_input": "2022-03-13T16:37:52.999453Z",
          "iopub.status.busy": "2022-03-13T16:37:52.995058Z",
          "iopub.status.idle": "2022-03-13T16:37:53.003157Z",
          "shell.execute_reply": "2022-03-13T16:37:53.003728Z",
          "shell.execute_reply.started": "2022-03-13T16:29:02.905137Z"
        },
        "papermill": {
          "duration": 1.399579,
          "end_time": "2022-03-13T16:37:53.003908",
          "exception": false,
          "start_time": "2022-03-13T16:37:51.604329",
          "status": "completed"
        },
        "tags": [],
        "colab": {
          "base_uri": "https://localhost:8080/"
        },
        "id": "2fb445ad",
        "outputId": "97857ba3-06c1-4416-ad58-9780f0d6d98a"
      },
      "outputs": [
        {
          "output_type": "execute_result",
          "data": {
            "text/plain": [
              "RowNumber               1.00\n",
              "CreditScore           619.00\n",
              "Geography               0.00\n",
              "Gender                  0.00\n",
              "Age                    42.00\n",
              "Tenure                  2.00\n",
              "Balance                 0.00\n",
              "NumOfProducts           1.00\n",
              "HasCrCard               1.00\n",
              "IsActiveMember          1.00\n",
              "EstimatedSalary    101348.88\n",
              "Name: 0, dtype: float64"
            ]
          },
          "metadata": {},
          "execution_count": 60
        }
      ],
      "source": [
        "single_customer = df.drop('Exited', axis=1).iloc[0]\n",
        "single_customer"
      ]
    },
    {
      "cell_type": "code",
      "execution_count": 61,
      "id": "2814ba85",
      "metadata": {
        "execution": {
          "iopub.execute_input": "2022-03-13T16:37:55.849482Z",
          "iopub.status.busy": "2022-03-13T16:37:55.847241Z",
          "iopub.status.idle": "2022-03-13T16:37:55.852371Z",
          "shell.execute_reply": "2022-03-13T16:37:55.851746Z",
          "shell.execute_reply.started": "2022-03-13T16:29:02.916690Z"
        },
        "papermill": {
          "duration": 1.424065,
          "end_time": "2022-03-13T16:37:55.852512",
          "exception": false,
          "start_time": "2022-03-13T16:37:54.428447",
          "status": "completed"
        },
        "tags": [],
        "colab": {
          "base_uri": "https://localhost:8080/"
        },
        "id": "2814ba85",
        "outputId": "a25210f2-0d5a-49c6-e23e-a3f486ab2de4"
      },
      "outputs": [
        {
          "output_type": "execute_result",
          "data": {
            "text/plain": [
              "array([[0.        , 0.538     , 0.        , 0.        , 0.32432432,\n",
              "        0.2       , 0.        , 0.        , 1.        , 1.        ,\n",
              "        0.50673489]])"
            ]
          },
          "metadata": {},
          "execution_count": 61
        }
      ],
      "source": [
        "single_customer = scaler.transform(single_customer.values.reshape(-1, 11))\n",
        "single_customer"
      ]
    },
    {
      "cell_type": "code",
      "execution_count": 62,
      "id": "e88627d6",
      "metadata": {
        "execution": {
          "iopub.execute_input": "2022-03-13T16:37:58.683270Z",
          "iopub.status.busy": "2022-03-13T16:37:58.682211Z",
          "iopub.status.idle": "2022-03-13T16:37:58.738739Z",
          "shell.execute_reply": "2022-03-13T16:37:58.738168Z",
          "shell.execute_reply.started": "2022-03-13T16:29:02.925587Z"
        },
        "papermill": {
          "duration": 1.466656,
          "end_time": "2022-03-13T16:37:58.738901",
          "exception": false,
          "start_time": "2022-03-13T16:37:57.272245",
          "status": "completed"
        },
        "tags": [],
        "colab": {
          "base_uri": "https://localhost:8080/"
        },
        "id": "e88627d6",
        "outputId": "bcc5fe6d-ce80-47d9-cf7d-4fed7aef2702"
      },
      "outputs": [
        {
          "output_type": "stream",
          "name": "stdout",
          "text": [
            "1/1 [==============================] - 0s 24ms/step\n"
          ]
        },
        {
          "output_type": "execute_result",
          "data": {
            "text/plain": [
              "array([[1]], dtype=int32)"
            ]
          },
          "metadata": {},
          "execution_count": 62
        }
      ],
      "source": [
        "y_pred =(model.predict(single_customer) > 0.5).astype(\"int32\")\n",
        "y_pred"
      ]
    },
    {
      "cell_type": "code",
      "execution_count": 63,
      "id": "e8d7eb42",
      "metadata": {
        "execution": {
          "iopub.execute_input": "2022-03-13T16:38:02.554258Z",
          "iopub.status.busy": "2022-03-13T16:38:02.553527Z",
          "iopub.status.idle": "2022-03-13T16:38:02.557360Z",
          "shell.execute_reply": "2022-03-13T16:38:02.558047Z",
          "shell.execute_reply.started": "2022-03-13T16:29:02.970209Z"
        },
        "papermill": {
          "duration": 2.383844,
          "end_time": "2022-03-13T16:38:02.558412",
          "exception": false,
          "start_time": "2022-03-13T16:38:00.174568",
          "status": "completed"
        },
        "tags": [],
        "colab": {
          "base_uri": "https://localhost:8080/"
        },
        "id": "e8d7eb42",
        "outputId": "3af9a09c-d44a-40d4-c4c0-af8c728d556a"
      },
      "outputs": [
        {
          "output_type": "execute_result",
          "data": {
            "text/plain": [
              "1"
            ]
          },
          "metadata": {},
          "execution_count": 63
        }
      ],
      "source": [
        "df[\"Exited\"].iloc[0]"
      ]
    },
    {
      "cell_type": "markdown",
      "id": "f749c72e",
      "metadata": {
        "papermill": {
          "duration": 1.39377,
          "end_time": "2022-03-13T16:38:05.438531",
          "exception": false,
          "start_time": "2022-03-13T16:38:04.044761",
          "status": "completed"
        },
        "tags": [],
        "id": "f749c72e"
      },
      "source": [
        "## Comparison with ML"
      ]
    },
    {
      "cell_type": "markdown",
      "id": "83642a2c",
      "metadata": {
        "papermill": {
          "duration": 1.429604,
          "end_time": "2022-03-13T16:38:08.267443",
          "exception": false,
          "start_time": "2022-03-13T16:38:06.837839",
          "status": "completed"
        },
        "tags": [],
        "id": "83642a2c"
      },
      "source": [
        "### Logistic Regression"
      ]
    },
    {
      "cell_type": "code",
      "execution_count": 65,
      "id": "a9c90de2",
      "metadata": {
        "execution": {
          "iopub.execute_input": "2022-03-13T16:38:11.076346Z",
          "iopub.status.busy": "2022-03-13T16:38:11.075398Z",
          "iopub.status.idle": "2022-03-13T16:38:11.151021Z",
          "shell.execute_reply": "2022-03-13T16:38:11.151547Z",
          "shell.execute_reply.started": "2022-03-13T16:29:02.980303Z"
        },
        "papermill": {
          "duration": 1.492362,
          "end_time": "2022-03-13T16:38:11.151739",
          "exception": false,
          "start_time": "2022-03-13T16:38:09.659377",
          "status": "completed"
        },
        "tags": [],
        "id": "a9c90de2"
      },
      "outputs": [],
      "source": [
        "from sklearn.linear_model import LogisticRegression"
      ]
    },
    {
      "cell_type": "code",
      "execution_count": 66,
      "id": "aebe20f2",
      "metadata": {
        "execution": {
          "iopub.execute_input": "2022-03-13T16:38:14.283591Z",
          "iopub.status.busy": "2022-03-13T16:38:14.282548Z",
          "iopub.status.idle": "2022-03-13T16:38:14.350771Z",
          "shell.execute_reply": "2022-03-13T16:38:14.349435Z",
          "shell.execute_reply.started": "2022-03-13T16:29:03.049164Z"
        },
        "papermill": {
          "duration": 1.673059,
          "end_time": "2022-03-13T16:38:14.351104",
          "exception": false,
          "start_time": "2022-03-13T16:38:12.678045",
          "status": "completed"
        },
        "tags": [],
        "colab": {
          "base_uri": "https://localhost:8080/"
        },
        "id": "aebe20f2",
        "outputId": "c1bb8aeb-8412-4623-b1ca-1d23cd328b7a"
      },
      "outputs": [
        {
          "output_type": "stream",
          "name": "stdout",
          "text": [
            "[[548 248]\n",
            " [ 57 147]]\n",
            "              precision    recall  f1-score   support\n",
            "\n",
            "           0       0.91      0.69      0.78       796\n",
            "           1       0.37      0.72      0.49       204\n",
            "\n",
            "    accuracy                           0.69      1000\n",
            "   macro avg       0.64      0.70      0.64      1000\n",
            "weighted avg       0.80      0.69      0.72      1000\n",
            "\n"
          ]
        }
      ],
      "source": [
        "log_model=LogisticRegression(class_weight='balanced')\n",
        "log_model.fit(X_train, y_train)\n",
        "y_pred = log_model.predict(X_test)\n",
        "print(confusion_matrix(y_test, y_pred))\n",
        "print(classification_report(y_test, y_pred))"
      ]
    },
    {
      "cell_type": "markdown",
      "id": "eaad577c",
      "metadata": {
        "papermill": {
          "duration": 1.420343,
          "end_time": "2022-03-13T16:38:17.215969",
          "exception": false,
          "start_time": "2022-03-13T16:38:15.795626",
          "status": "completed"
        },
        "tags": [],
        "id": "eaad577c"
      },
      "source": [
        "### Random Forest"
      ]
    },
    {
      "cell_type": "code",
      "execution_count": 68,
      "id": "408e9d0e",
      "metadata": {
        "execution": {
          "iopub.execute_input": "2022-03-13T16:38:20.039341Z",
          "iopub.status.busy": "2022-03-13T16:38:20.038401Z",
          "iopub.status.idle": "2022-03-13T16:38:20.172999Z",
          "shell.execute_reply": "2022-03-13T16:38:20.173792Z",
          "shell.execute_reply.started": "2022-03-13T16:29:03.104136Z"
        },
        "papermill": {
          "duration": 1.556864,
          "end_time": "2022-03-13T16:38:20.173996",
          "exception": false,
          "start_time": "2022-03-13T16:38:18.617132",
          "status": "completed"
        },
        "tags": [],
        "id": "408e9d0e"
      },
      "outputs": [],
      "source": [
        "from sklearn.ensemble import RandomForestClassifier\n"
      ]
    },
    {
      "cell_type": "code",
      "execution_count": 69,
      "id": "c13638e8",
      "metadata": {
        "execution": {
          "iopub.execute_input": "2022-03-13T16:38:22.981898Z",
          "iopub.status.busy": "2022-03-13T16:38:22.980819Z",
          "iopub.status.idle": "2022-03-13T16:38:24.362417Z",
          "shell.execute_reply": "2022-03-13T16:38:24.363100Z",
          "shell.execute_reply.started": "2022-03-13T16:29:03.235000Z"
        },
        "papermill": {
          "duration": 2.780615,
          "end_time": "2022-03-13T16:38:24.363298",
          "exception": false,
          "start_time": "2022-03-13T16:38:21.582683",
          "status": "completed"
        },
        "tags": [],
        "colab": {
          "base_uri": "https://localhost:8080/"
        },
        "id": "c13638e8",
        "outputId": "f061cbe1-36e0-49c8-a37c-815523f563b3"
      },
      "outputs": [
        {
          "output_type": "stream",
          "name": "stdout",
          "text": [
            "[[770  26]\n",
            " [122  82]]\n",
            "              precision    recall  f1-score   support\n",
            "\n",
            "           0       0.86      0.97      0.91       796\n",
            "           1       0.76      0.40      0.53       204\n",
            "\n",
            "    accuracy                           0.85      1000\n",
            "   macro avg       0.81      0.68      0.72      1000\n",
            "weighted avg       0.84      0.85      0.83      1000\n",
            "\n"
          ]
        }
      ],
      "source": [
        "rf_model = RandomForestClassifier(class_weight='balanced')\n",
        "rf_model.fit(X_train, y_train)\n",
        "y_pred = rf_model.predict(X_test)\n",
        "print(confusion_matrix(y_test, y_pred))\n",
        "print(classification_report(y_test, y_pred))"
      ]
    },
    {
      "cell_type": "code",
      "execution_count": null,
      "id": "aa4570aa",
      "metadata": {
        "id": "aa4570aa"
      },
      "outputs": [],
      "source": []
    },
    {
      "cell_type": "code",
      "execution_count": null,
      "id": "67f22264",
      "metadata": {
        "id": "67f22264"
      },
      "outputs": [],
      "source": []
    },
    {
      "cell_type": "markdown",
      "id": "027657a1",
      "metadata": {
        "papermill": {
          "duration": 0.149353,
          "end_time": "2022-03-13T16:33:15.972259",
          "exception": false,
          "start_time": "2022-03-13T16:33:15.822906",
          "status": "completed"
        },
        "tags": [],
        "id": "027657a1"
      },
      "source": [
        "___\n",
        "\n",
        "<p style=\"text-align: center;\"><img src=\"https://docs.google.com/uc?id=1lY0Uj5R04yMY3-ZppPWxqCr5pvBLYPnV\" class=\"img-fluid\" alt=\"CLRSWY\"></p>\n",
        "\n",
        "___"
      ]
    }
  ],
  "metadata": {
    "kernelspec": {
      "display_name": "Python 3 (ipykernel)",
      "language": "python",
      "name": "python3"
    },
    "language_info": {
      "codemirror_mode": {
        "name": "ipython",
        "version": 3
      },
      "file_extension": ".py",
      "mimetype": "text/x-python",
      "name": "python",
      "nbconvert_exporter": "python",
      "pygments_lexer": "ipython3",
      "version": "3.11.4"
    },
    "papermill": {
      "default_parameters": {},
      "duration": 326.375729,
      "end_time": "2022-03-13T16:38:32.137577",
      "environment_variables": {},
      "exception": null,
      "input_path": "__notebook__.ipynb",
      "output_path": "__notebook__.ipynb",
      "parameters": {},
      "start_time": "2022-03-13T16:33:05.761848",
      "version": "2.3.3"
    },
    "colab": {
      "provenance": []
    }
  },
  "nbformat": 4,
  "nbformat_minor": 5
}